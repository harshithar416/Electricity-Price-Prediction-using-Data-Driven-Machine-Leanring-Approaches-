{
 "cells": [
  {
   "cell_type": "code",
   "execution_count": 3,
   "id": "HwAYgW146Hwq",
   "metadata": {
    "colab": {
     "base_uri": "https://localhost:8080/"
    },
    "executionInfo": {
     "elapsed": 19476,
     "status": "ok",
     "timestamp": 1681095664984,
     "user": {
      "displayName": "Minh-Tam Pham",
      "userId": "15961201256875286786"
     },
     "user_tz": 420
    },
    "id": "HwAYgW146Hwq",
    "outputId": "19449b00-e359-4a01-c479-6202851f4c1c"
   },
   "outputs": [
    {
     "name": "stdout",
     "output_type": "stream",
     "text": [
      "Mounted at /content/drive\n"
     ]
    }
   ],
   "source": [
    "from google.colab import drive\n",
    "drive.mount('/content/drive')"
   ]
  },
  {
   "cell_type": "code",
   "execution_count": 1,
   "id": "mJgByVf06gwh",
   "metadata": {
    "colab": {
     "base_uri": "https://localhost:8080/"
    },
    "executionInfo": {
     "elapsed": 22348,
     "status": "ok",
     "timestamp": 1681095596627,
     "user": {
      "displayName": "Minh-Tam Pham",
      "userId": "15961201256875286786"
     },
     "user_tz": 420
    },
    "id": "mJgByVf06gwh",
    "outputId": "8eeea73f-539e-4c14-f0f0-60828a7e129b"
   },
   "outputs": [
    {
     "name": "stdout",
     "output_type": "stream",
     "text": [
      "Looking in indexes: https://pypi.org/simple, https://us-python.pkg.dev/colab-wheels/public/simple/\n",
      "Collecting pytorch-lightning\n",
      "  Downloading pytorch_lightning-2.0.1-py3-none-any.whl (716 kB)\n",
      "\u001b[2K     \u001b[90m━━━━━━━━━━━━━━━━━━━━━━━━━━━━━━━━━━━━━━\u001b[0m \u001b[32m716.4/716.4 KB\u001b[0m \u001b[31m12.1 MB/s\u001b[0m eta \u001b[36m0:00:00\u001b[0m\n",
      "\u001b[?25hRequirement already satisfied: tqdm>=4.57.0 in /usr/local/lib/python3.9/dist-packages (from pytorch-lightning) (4.65.0)\n",
      "Requirement already satisfied: PyYAML>=5.4 in /usr/local/lib/python3.9/dist-packages (from pytorch-lightning) (6.0)\n",
      "Collecting torchmetrics>=0.7.0\n",
      "  Downloading torchmetrics-0.11.4-py3-none-any.whl (519 kB)\n",
      "\u001b[2K     \u001b[90m━━━━━━━━━━━━━━━━━━━━━━━━━━━━━━━━━━━━━━\u001b[0m \u001b[32m519.2/519.2 KB\u001b[0m \u001b[31m24.9 MB/s\u001b[0m eta \u001b[36m0:00:00\u001b[0m\n",
      "\u001b[?25hRequirement already satisfied: torch>=1.11.0 in /usr/local/lib/python3.9/dist-packages (from pytorch-lightning) (2.0.0+cu118)\n",
      "Requirement already satisfied: typing-extensions>=4.0.0 in /usr/local/lib/python3.9/dist-packages (from pytorch-lightning) (4.5.0)\n",
      "Requirement already satisfied: numpy>=1.17.2 in /usr/local/lib/python3.9/dist-packages (from pytorch-lightning) (1.22.4)\n",
      "Collecting lightning-utilities>=0.7.0\n",
      "  Downloading lightning_utilities-0.8.0-py3-none-any.whl (20 kB)\n",
      "Requirement already satisfied: packaging>=17.1 in /usr/local/lib/python3.9/dist-packages (from pytorch-lightning) (23.0)\n",
      "Requirement already satisfied: fsspec[http]>2021.06.0 in /usr/local/lib/python3.9/dist-packages (from pytorch-lightning) (2023.3.0)\n",
      "Requirement already satisfied: requests in /usr/local/lib/python3.9/dist-packages (from fsspec[http]>2021.06.0->pytorch-lightning) (2.27.1)\n",
      "Collecting aiohttp!=4.0.0a0,!=4.0.0a1\n",
      "  Downloading aiohttp-3.8.4-cp39-cp39-manylinux_2_17_x86_64.manylinux2014_x86_64.whl (1.0 MB)\n",
      "\u001b[2K     \u001b[90m━━━━━━━━━━━━━━━━━━━━━━━━━━━━━━━━━━━━━━━━\u001b[0m \u001b[32m1.0/1.0 MB\u001b[0m \u001b[31m20.3 MB/s\u001b[0m eta \u001b[36m0:00:00\u001b[0m\n",
      "\u001b[?25hRequirement already satisfied: filelock in /usr/local/lib/python3.9/dist-packages (from torch>=1.11.0->pytorch-lightning) (3.10.7)\n",
      "Requirement already satisfied: networkx in /usr/local/lib/python3.9/dist-packages (from torch>=1.11.0->pytorch-lightning) (3.0)\n",
      "Requirement already satisfied: jinja2 in /usr/local/lib/python3.9/dist-packages (from torch>=1.11.0->pytorch-lightning) (3.1.2)\n",
      "Requirement already satisfied: triton==2.0.0 in /usr/local/lib/python3.9/dist-packages (from torch>=1.11.0->pytorch-lightning) (2.0.0)\n",
      "Requirement already satisfied: sympy in /usr/local/lib/python3.9/dist-packages (from torch>=1.11.0->pytorch-lightning) (1.11.1)\n",
      "Requirement already satisfied: cmake in /usr/local/lib/python3.9/dist-packages (from triton==2.0.0->torch>=1.11.0->pytorch-lightning) (3.25.2)\n",
      "Requirement already satisfied: lit in /usr/local/lib/python3.9/dist-packages (from triton==2.0.0->torch>=1.11.0->pytorch-lightning) (16.0.0)\n",
      "Collecting frozenlist>=1.1.1\n",
      "  Downloading frozenlist-1.3.3-cp39-cp39-manylinux_2_5_x86_64.manylinux1_x86_64.manylinux_2_17_x86_64.manylinux2014_x86_64.whl (158 kB)\n",
      "\u001b[2K     \u001b[90m━━━━━━━━━━━━━━━━━━━━━━━━━━━━━━━━━━━━━━━\u001b[0m \u001b[32m158.8/158.8 KB\u001b[0m \u001b[31m8.4 MB/s\u001b[0m eta \u001b[36m0:00:00\u001b[0m\n",
      "\u001b[?25hCollecting multidict<7.0,>=4.5\n",
      "  Downloading multidict-6.0.4-cp39-cp39-manylinux_2_17_x86_64.manylinux2014_x86_64.whl (114 kB)\n",
      "\u001b[2K     \u001b[90m━━━━━━━━━━━━━━━━━━━━━━━━━━━━━━━━━━━━━━━\u001b[0m \u001b[32m114.2/114.2 KB\u001b[0m \u001b[31m1.1 MB/s\u001b[0m eta \u001b[36m0:00:00\u001b[0m\n",
      "\u001b[?25hRequirement already satisfied: charset-normalizer<4.0,>=2.0 in /usr/local/lib/python3.9/dist-packages (from aiohttp!=4.0.0a0,!=4.0.0a1->fsspec[http]>2021.06.0->pytorch-lightning) (2.0.12)\n",
      "Collecting yarl<2.0,>=1.0\n",
      "  Downloading yarl-1.8.2-cp39-cp39-manylinux_2_17_x86_64.manylinux2014_x86_64.whl (264 kB)\n",
      "\u001b[2K     \u001b[90m━━━━━━━━━━━━━━━━━━━━━━━━━━━━━━━━━━━━━━━\u001b[0m \u001b[32m264.6/264.6 KB\u001b[0m \u001b[31m5.6 MB/s\u001b[0m eta \u001b[36m0:00:00\u001b[0m\n",
      "\u001b[?25hCollecting async-timeout<5.0,>=4.0.0a3\n",
      "  Downloading async_timeout-4.0.2-py3-none-any.whl (5.8 kB)\n",
      "Requirement already satisfied: attrs>=17.3.0 in /usr/local/lib/python3.9/dist-packages (from aiohttp!=4.0.0a0,!=4.0.0a1->fsspec[http]>2021.06.0->pytorch-lightning) (22.2.0)\n",
      "Collecting aiosignal>=1.1.2\n",
      "  Downloading aiosignal-1.3.1-py3-none-any.whl (7.6 kB)\n",
      "Requirement already satisfied: MarkupSafe>=2.0 in /usr/local/lib/python3.9/dist-packages (from jinja2->torch>=1.11.0->pytorch-lightning) (2.1.2)\n",
      "Requirement already satisfied: certifi>=2017.4.17 in /usr/local/lib/python3.9/dist-packages (from requests->fsspec[http]>2021.06.0->pytorch-lightning) (2022.12.7)\n",
      "Requirement already satisfied: idna<4,>=2.5 in /usr/local/lib/python3.9/dist-packages (from requests->fsspec[http]>2021.06.0->pytorch-lightning) (3.4)\n",
      "Requirement already satisfied: urllib3<1.27,>=1.21.1 in /usr/local/lib/python3.9/dist-packages (from requests->fsspec[http]>2021.06.0->pytorch-lightning) (1.26.15)\n",
      "Requirement already satisfied: mpmath>=0.19 in /usr/local/lib/python3.9/dist-packages (from sympy->torch>=1.11.0->pytorch-lightning) (1.3.0)\n",
      "Installing collected packages: multidict, lightning-utilities, frozenlist, async-timeout, yarl, aiosignal, aiohttp, torchmetrics, pytorch-lightning\n",
      "Successfully installed aiohttp-3.8.4 aiosignal-1.3.1 async-timeout-4.0.2 frozenlist-1.3.3 lightning-utilities-0.8.0 multidict-6.0.4 pytorch-lightning-2.0.1 torchmetrics-0.11.4 yarl-1.8.2\n"
     ]
    }
   ],
   "source": [
    "pip install pytorch-lightning"
   ]
  },
  {
   "cell_type": "code",
   "execution_count": 7,
   "id": "1e1420a6-ec32-41b6-91e7-6721bc0a68c5",
   "metadata": {
    "executionInfo": {
     "elapsed": 10421,
     "status": "ok",
     "timestamp": 1681095608767,
     "user": {
      "displayName": "Minh-Tam Pham",
      "userId": "15961201256875286786"
     },
     "user_tz": 420
    },
    "id": "1e1420a6-ec32-41b6-91e7-6721bc0a68c5",
    "tags": []
   },
   "outputs": [
    {
     "name": "stderr",
     "output_type": "stream",
     "text": [
      "2023-04-14 12:28:20.321738: I tensorflow/core/platform/cpu_feature_guard.cc:193] This TensorFlow binary is optimized with oneAPI Deep Neural Network Library (oneDNN) to use the following CPU instructions in performance-critical operations:  SSE4.1 SSE4.2 AVX AVX2 FMA\n",
      "To enable them in other operations, rebuild TensorFlow with the appropriate compiler flags.\n"
     ]
    }
   ],
   "source": [
    "# imports\n",
    "\n",
    "import glob\n",
    "import math\n",
    "import os\n",
    "import pickle\n",
    "import random\n",
    "import tempfile\n",
    "import time\n",
    "import urllib\n",
    "from datetime import datetime, timedelta\n",
    "from io import StringIO\n",
    "from typing import List\n",
    "from zipfile import ZipFile\n",
    "\n",
    "import matplotlib.pyplot as plt\n",
    "import numpy as np\n",
    "import pandas as pd\n",
    "import pytorch_lightning as pl\n",
    "import pytz\n",
    "import seaborn as sns\n",
    "import torch\n",
    "from pandas.plotting import register_matplotlib_converters\n",
    "from pytorch_lightning.callbacks import LearningRateMonitor\n",
    "from pytorch_lightning.loggers import TensorBoardLogger\n",
    "from scipy.stats import normaltest\n",
    "from sklearn.preprocessing import StandardScaler\n",
    "from torch import nn\n",
    "from torch.utils.data import DataLoader\n",
    "from tqdm.notebook import tqdm\n",
    "\n",
    "register_matplotlib_converters()\n",
    "%matplotlib inline\n",
    "sns.set_style(\"whitegrid\")"
   ]
  },
  {
   "cell_type": "code",
   "execution_count": 8,
   "id": "b45c1f7a-591c-4956-b944-6e0c11ba167b",
   "metadata": {
    "executionInfo": {
     "elapsed": 30973,
     "status": "ok",
     "timestamp": 1681095717572,
     "user": {
      "displayName": "Minh-Tam Pham",
      "userId": "15961201256875286786"
     },
     "user_tz": 420
    },
    "id": "b45c1f7a-591c-4956-b944-6e0c11ba167b",
    "tags": []
   },
   "outputs": [],
   "source": [
    "# load preprocessed data from 10 nodes in the bay area\n",
    "\n",
    "#df = pd.read_csv(\"/content/drive/MyDrive/Data 298A/Improvement/processed.csv\")\n",
    "df = pd.read_csv('processed (1).csv')"
   ]
  },
  {
   "cell_type": "code",
   "execution_count": 9,
   "id": "023e61bb-6d5c-4b7f-b8cb-13748a2023d4",
   "metadata": {
    "executionInfo": {
     "elapsed": 160,
     "status": "ok",
     "timestamp": 1681095839489,
     "user": {
      "displayName": "Minh-Tam Pham",
      "userId": "15961201256875286786"
     },
     "user_tz": 420
    },
    "id": "023e61bb-6d5c-4b7f-b8cb-13748a2023d4",
    "tags": []
   },
   "outputs": [],
   "source": [
    "df = df.drop(\n",
    "    [\n",
    "        \"Unnamed: 0\",\n",
    "        \"INTERVALENDTIME_GMT\",\n",
    "        \"OPR_DT\",\n",
    "        \"OPR_HR\",\n",
    "        \"NODE_ID_XML\",\n",
    "        \"NODE_ID\",\n",
    "        \"NODE\",\n",
    "        \"MARKET_RUN_ID\",\n",
    "        \"LMP_TYPE\",\n",
    "        \"XML_DATA_ITEM\",\n",
    "        \"PNODE_RESMRID\",\n",
    "        \"GRP_TYPE\",\n",
    "    ],\n",
    "    axis=1,\n",
    ")"
   ]
  },
  {
   "cell_type": "code",
   "execution_count": 10,
   "id": "HHksUeIX7eIr",
   "metadata": {
    "colab": {
     "base_uri": "https://localhost:8080/",
     "height": 204
    },
    "executionInfo": {
     "elapsed": 260,
     "status": "ok",
     "timestamp": 1681095841729,
     "user": {
      "displayName": "Minh-Tam Pham",
      "userId": "15961201256875286786"
     },
     "user_tz": 420
    },
    "id": "HHksUeIX7eIr",
    "outputId": "23f497ef-9366-4043-c6bb-f495d9ae48bd",
    "tags": []
   },
   "outputs": [
    {
     "data": {
      "text/html": [
       "<div>\n",
       "<style scoped>\n",
       "    .dataframe tbody tr th:only-of-type {\n",
       "        vertical-align: middle;\n",
       "    }\n",
       "\n",
       "    .dataframe tbody tr th {\n",
       "        vertical-align: top;\n",
       "    }\n",
       "\n",
       "    .dataframe thead th {\n",
       "        text-align: right;\n",
       "    }\n",
       "</style>\n",
       "<table border=\"1\" class=\"dataframe\">\n",
       "  <thead>\n",
       "    <tr style=\"text-align: right;\">\n",
       "      <th></th>\n",
       "      <th>INTERVALSTARTTIME_GMT</th>\n",
       "      <th>POS</th>\n",
       "      <th>VALUE</th>\n",
       "      <th>OPR_INTERVAL</th>\n",
       "      <th>GROUP</th>\n",
       "      <th>HOUR</th>\n",
       "      <th>2DA</th>\n",
       "      <th>7DA</th>\n",
       "      <th>ACTUAL</th>\n",
       "      <th>DAM</th>\n",
       "      <th>ETo (in)</th>\n",
       "      <th>Precip (in)</th>\n",
       "      <th>Rel Hum (%)</th>\n",
       "      <th>Wind Speed (mph)</th>\n",
       "      <th>Soil Temp (F)</th>\n",
       "    </tr>\n",
       "  </thead>\n",
       "  <tbody>\n",
       "    <tr>\n",
       "      <th>0</th>\n",
       "      <td>2020-01-01T08:00:00-00:00</td>\n",
       "      <td>1</td>\n",
       "      <td>-0.422382</td>\n",
       "      <td>1</td>\n",
       "      <td>5</td>\n",
       "      <td>16</td>\n",
       "      <td>-4.146099</td>\n",
       "      <td>-4.113026</td>\n",
       "      <td>-4.485045</td>\n",
       "      <td>-4.307317</td>\n",
       "      <td>-3.023405</td>\n",
       "      <td>-0.03305</td>\n",
       "      <td>3.663296</td>\n",
       "      <td>-1.213782</td>\n",
       "      <td>0.188814</td>\n",
       "    </tr>\n",
       "    <tr>\n",
       "      <th>1</th>\n",
       "      <td>2020-01-01T08:05:00-00:00</td>\n",
       "      <td>1</td>\n",
       "      <td>-0.405158</td>\n",
       "      <td>2</td>\n",
       "      <td>5</td>\n",
       "      <td>16</td>\n",
       "      <td>-4.146099</td>\n",
       "      <td>-4.113026</td>\n",
       "      <td>-4.485045</td>\n",
       "      <td>-4.307317</td>\n",
       "      <td>-3.023405</td>\n",
       "      <td>-0.03305</td>\n",
       "      <td>3.663296</td>\n",
       "      <td>-1.213782</td>\n",
       "      <td>0.188814</td>\n",
       "    </tr>\n",
       "    <tr>\n",
       "      <th>2</th>\n",
       "      <td>2020-01-01T08:10:00-00:00</td>\n",
       "      <td>1</td>\n",
       "      <td>-0.417772</td>\n",
       "      <td>3</td>\n",
       "      <td>5</td>\n",
       "      <td>16</td>\n",
       "      <td>-4.146099</td>\n",
       "      <td>-4.113026</td>\n",
       "      <td>-4.485045</td>\n",
       "      <td>-4.307317</td>\n",
       "      <td>-3.023405</td>\n",
       "      <td>-0.03305</td>\n",
       "      <td>3.663296</td>\n",
       "      <td>-1.213782</td>\n",
       "      <td>0.188814</td>\n",
       "    </tr>\n",
       "    <tr>\n",
       "      <th>3</th>\n",
       "      <td>2020-01-01T08:15:00-00:00</td>\n",
       "      <td>1</td>\n",
       "      <td>-0.418884</td>\n",
       "      <td>4</td>\n",
       "      <td>5</td>\n",
       "      <td>16</td>\n",
       "      <td>-4.146099</td>\n",
       "      <td>-4.113026</td>\n",
       "      <td>-4.485045</td>\n",
       "      <td>-4.307317</td>\n",
       "      <td>-3.023405</td>\n",
       "      <td>-0.03305</td>\n",
       "      <td>3.663296</td>\n",
       "      <td>-1.213782</td>\n",
       "      <td>0.188814</td>\n",
       "    </tr>\n",
       "    <tr>\n",
       "      <th>4</th>\n",
       "      <td>2020-01-01T08:20:00-00:00</td>\n",
       "      <td>1</td>\n",
       "      <td>-0.414159</td>\n",
       "      <td>5</td>\n",
       "      <td>5</td>\n",
       "      <td>16</td>\n",
       "      <td>-4.146099</td>\n",
       "      <td>-4.113026</td>\n",
       "      <td>-4.485045</td>\n",
       "      <td>-4.307317</td>\n",
       "      <td>-3.023405</td>\n",
       "      <td>-0.03305</td>\n",
       "      <td>3.663296</td>\n",
       "      <td>-1.213782</td>\n",
       "      <td>0.188814</td>\n",
       "    </tr>\n",
       "  </tbody>\n",
       "</table>\n",
       "</div>"
      ],
      "text/plain": [
       "       INTERVALSTARTTIME_GMT  POS     VALUE  OPR_INTERVAL  GROUP  HOUR  \\\n",
       "0  2020-01-01T08:00:00-00:00    1 -0.422382             1      5    16   \n",
       "1  2020-01-01T08:05:00-00:00    1 -0.405158             2      5    16   \n",
       "2  2020-01-01T08:10:00-00:00    1 -0.417772             3      5    16   \n",
       "3  2020-01-01T08:15:00-00:00    1 -0.418884             4      5    16   \n",
       "4  2020-01-01T08:20:00-00:00    1 -0.414159             5      5    16   \n",
       "\n",
       "        2DA       7DA    ACTUAL       DAM  ETo (in)  Precip (in)  Rel Hum (%)  \\\n",
       "0 -4.146099 -4.113026 -4.485045 -4.307317 -3.023405     -0.03305     3.663296   \n",
       "1 -4.146099 -4.113026 -4.485045 -4.307317 -3.023405     -0.03305     3.663296   \n",
       "2 -4.146099 -4.113026 -4.485045 -4.307317 -3.023405     -0.03305     3.663296   \n",
       "3 -4.146099 -4.113026 -4.485045 -4.307317 -3.023405     -0.03305     3.663296   \n",
       "4 -4.146099 -4.113026 -4.485045 -4.307317 -3.023405     -0.03305     3.663296   \n",
       "\n",
       "   Wind Speed (mph)  Soil Temp (F)  \n",
       "0         -1.213782       0.188814  \n",
       "1         -1.213782       0.188814  \n",
       "2         -1.213782       0.188814  \n",
       "3         -1.213782       0.188814  \n",
       "4         -1.213782       0.188814  "
      ]
     },
     "execution_count": 10,
     "metadata": {},
     "output_type": "execute_result"
    }
   ],
   "source": [
    "df.head()"
   ]
  },
  {
   "cell_type": "code",
   "execution_count": 11,
   "id": "_3aHMZdK8GMq",
   "metadata": {
    "executionInfo": {
     "elapsed": 166,
     "status": "ok",
     "timestamp": 1681095848073,
     "user": {
      "displayName": "Minh-Tam Pham",
      "userId": "15961201256875286786"
     },
     "user_tz": 420
    },
    "id": "_3aHMZdK8GMq"
   },
   "outputs": [],
   "source": [
    "df['INTERVALSTARTTIME_GMT'] = pd.to_datetime(df['INTERVALSTARTTIME_GMT'])"
   ]
  },
  {
   "cell_type": "code",
   "execution_count": 12,
   "id": "83NlygMk7DSk",
   "metadata": {
    "executionInfo": {
     "elapsed": 3294,
     "status": "ok",
     "timestamp": 1681095859072,
     "user": {
      "displayName": "Minh-Tam Pham",
      "userId": "15961201256875286786"
     },
     "user_tz": 420
    },
    "id": "83NlygMk7DSk"
   },
   "outputs": [],
   "source": [
    "df=df[(df['INTERVALSTARTTIME_GMT'].dt.day_name()!='Saturday') & (df['INTERVALSTARTTIME_GMT'].dt.day_name()!='Sunday')]\n"
   ]
  },
  {
   "cell_type": "code",
   "execution_count": 13,
   "id": "a88391ab-79b4-46c3-8d96-5aac40747154",
   "metadata": {
    "colab": {
     "base_uri": "https://localhost:8080/"
    },
    "executionInfo": {
     "elapsed": 5,
     "status": "ok",
     "timestamp": 1681095859073,
     "user": {
      "displayName": "Minh-Tam Pham",
      "userId": "15961201256875286786"
     },
     "user_tz": 420
    },
    "id": "a88391ab-79b4-46c3-8d96-5aac40747154",
    "outputId": "eb16bf30-c272-4b60-f159-8d483956100a",
    "tags": []
   },
   "outputs": [
    {
     "name": "stdout",
     "output_type": "stream",
     "text": [
      "\n",
      "Train: 1674000 rows\n",
      "Test:  558000 rows\n",
      "\n",
      "Train set shape: (1674000, 15)\n",
      "Test set shape:  (558000, 15)\n",
      "\n"
     ]
    }
   ],
   "source": [
    "train_set_length = int(round((df.shape[0] * 0.75), 0))\n",
    "test_set_length = df.shape[0] - train_set_length\n",
    "\n",
    "print(f\"\\nTrain: {train_set_length} rows\\nTest:  {test_set_length} rows\")\n",
    "\n",
    "train = df.iloc[:train_set_length]\n",
    "test = df.iloc[train_set_length:]\n",
    "\n",
    "print(f\"\\nTrain set shape: {train.shape}\\nTest set shape:  {test.shape}\\n\")"
   ]
  },
  {
   "cell_type": "code",
   "execution_count": 14,
   "id": "03dfa697-7530-4d0a-b52a-47d852ec4604",
   "metadata": {
    "executionInfo": {
     "elapsed": 160,
     "status": "ok",
     "timestamp": 1681095860936,
     "user": {
      "displayName": "Minh-Tam Pham",
      "userId": "15961201256875286786"
     },
     "user_tz": 420
    },
    "id": "03dfa697-7530-4d0a-b52a-47d852ec4604",
    "tags": []
   },
   "outputs": [],
   "source": [
    "train = train.set_index(\"INTERVALSTARTTIME_GMT\")\n",
    "test = test.set_index(\"INTERVALSTARTTIME_GMT\")"
   ]
  },
  {
   "cell_type": "code",
   "execution_count": 15,
   "id": "4eb9d003-fc88-4183-b883-98eb1b4f0f27",
   "metadata": {
    "colab": {
     "base_uri": "https://localhost:8080/"
    },
    "executionInfo": {
     "elapsed": 3,
     "status": "ok",
     "timestamp": 1681095861629,
     "user": {
      "displayName": "Minh-Tam Pham",
      "userId": "15961201256875286786"
     },
     "user_tz": 420
    },
    "id": "4eb9d003-fc88-4183-b883-98eb1b4f0f27",
    "outputId": "aa1bfc2c-424e-4d0c-fcc9-d69480917682",
    "tags": []
   },
   "outputs": [
    {
     "name": "stdout",
     "output_type": "stream",
     "text": [
      "13\n",
      "['POS', 'OPR_INTERVAL', 'GROUP', 'HOUR', '2DA', '7DA', 'ACTUAL', 'DAM', 'ETo (in)', 'Precip (in)', 'Rel Hum (%)', 'Wind Speed (mph)', 'Soil Temp (F)']\n"
     ]
    }
   ],
   "source": [
    "features = [col for col in train.columns if col != \"VALUE\"]\n",
    "print(len(features))\n",
    "print(features)"
   ]
  },
  {
   "cell_type": "code",
   "execution_count": 16,
   "id": "36599712-5490-4127-84b4-a7a737f0129b",
   "metadata": {
    "executionInfo": {
     "elapsed": 497,
     "status": "ok",
     "timestamp": 1681095863859,
     "user": {
      "displayName": "Minh-Tam Pham",
      "userId": "15961201256875286786"
     },
     "user_tz": 420
    },
    "id": "36599712-5490-4127-84b4-a7a737f0129b",
    "tags": []
   },
   "outputs": [],
   "source": [
    "X_train = train[features]\n",
    "y_train = train[\"VALUE\"]\n",
    "\n",
    "X_test = test[features]\n",
    "y_test = test[\"VALUE\"]"
   ]
  },
  {
   "cell_type": "markdown",
   "id": "6b8c89e7-b921-423c-95e9-3a224ca0c442",
   "metadata": {
    "id": "6b8c89e7-b921-423c-95e9-3a224ca0c442"
   },
   "source": [
    "# Classic Machine Learning Models"
   ]
  },
  {
   "cell_type": "markdown",
   "id": "3bd4f1db-5137-4ef8-a97c-622262892bd1",
   "metadata": {
    "id": "3bd4f1db-5137-4ef8-a97c-622262892bd1"
   },
   "source": [
    "## Linear Regression\n",
    "\n",
    "Linear Regression is the most basic regression model."
   ]
  },
  {
   "cell_type": "code",
   "execution_count": 29,
   "id": "8b339c3d-a7b7-4fc9-8207-9c38c5518a51",
   "metadata": {
    "executionInfo": {
     "elapsed": 2008,
     "status": "ok",
     "timestamp": 1681095867796,
     "user": {
      "displayName": "Minh-Tam Pham",
      "userId": "15961201256875286786"
     },
     "user_tz": 420
    },
    "id": "8b339c3d-a7b7-4fc9-8207-9c38c5518a51",
    "tags": []
   },
   "outputs": [],
   "source": [
    "from sklearn.linear_model import LinearRegression\n",
    "\n",
    "lr = LinearRegression().fit(X_train, y_train)"
   ]
  },
  {
   "cell_type": "code",
   "execution_count": 30,
   "id": "2ab50126-38cd-4a62-8d0d-66be2c184427",
   "metadata": {
    "executionInfo": {
     "elapsed": 156,
     "status": "ok",
     "timestamp": 1681095871980,
     "user": {
      "displayName": "Minh-Tam Pham",
      "userId": "15961201256875286786"
     },
     "user_tz": 420
    },
    "id": "2ab50126-38cd-4a62-8d0d-66be2c184427",
    "tags": []
   },
   "outputs": [],
   "source": [
    "lr_prediction = lr.predict(X_test)"
   ]
  },
  {
   "cell_type": "code",
   "execution_count": 31,
   "id": "f3fd6667-ef1c-4a2e-81e2-584dd0983c5a",
   "metadata": {
    "colab": {
     "base_uri": "https://localhost:8080/"
    },
    "executionInfo": {
     "elapsed": 194,
     "status": "ok",
     "timestamp": 1681095876521,
     "user": {
      "displayName": "Minh-Tam Pham",
      "userId": "15961201256875286786"
     },
     "user_tz": 420
    },
    "id": "f3fd6667-ef1c-4a2e-81e2-584dd0983c5a",
    "outputId": "12a5d806-b2db-41c4-c8dc-049775fdc505",
    "tags": []
   },
   "outputs": [
    {
     "name": "stdout",
     "output_type": "stream",
     "text": [
      "RMSE Score on LinearRegression Test set: 1.123\n",
      "MAE Score on LinearRegression Test set: 0.492\n",
      "MAPE Score on LinearRegression Test set: 1.478\n"
     ]
    }
   ],
   "source": [
    "from sklearn.metrics import mean_absolute_error, mean_absolute_percentage_error\n",
    "from sklearn.metrics import mean_squared_error as mse\n",
    "from sklearn.metrics import r2_score\n",
    "\n",
    "score = np.sqrt(mse(y_test, lr_prediction))\n",
    "print(f\"RMSE Score on LinearRegression Test set: {score:0.3f}\")\n",
    "mae = mean_absolute_error(y_test, lr_prediction)\n",
    "print(f\"MAE Score on LinearRegression Test set: {mae:0.3f}\")\n",
    "mape = mean_absolute_percentage_error(y_test, lr_prediction)\n",
    "print(f\"MAPE Score on LinearRegression Test set: {mape:0.3f}\")"
   ]
  },
  {
   "cell_type": "markdown",
   "id": "a30523bc-d82e-49d1-ae64-ea6fcaad75f2",
   "metadata": {
    "id": "a30523bc-d82e-49d1-ae64-ea6fcaad75f2"
   },
   "source": [
    "## XGBoost\n",
    "\n",
    "XGBoost (eXtreme Gradient Boosting) is an open-source software library which provides a regularizing gradient boosting framework. It aims to provide a \"Scalable, Portable and Distributed Gradient Boosting (GBM, GBRT, GBDT) Library\". It runs on a single machine, as well as the distributed processing frameworks Apache Hadoop, Apache Spark, Apache Flink, and Dask.\n",
    "\n"
   ]
  },
  {
   "cell_type": "code",
   "execution_count": 26,
   "id": "79224371-6f7e-4f40-8f9f-dd3eab18e5e6",
   "metadata": {
    "colab": {
     "base_uri": "https://localhost:8080/",
     "height": 329
    },
    "executionInfo": {
     "elapsed": 842216,
     "status": "ok",
     "timestamp": 1681096720660,
     "user": {
      "displayName": "Minh-Tam Pham",
      "userId": "15961201256875286786"
     },
     "user_tz": 420
    },
    "id": "79224371-6f7e-4f40-8f9f-dd3eab18e5e6",
    "outputId": "499a0fdd-aede-4e49-ebf0-6c5a5a18c747",
    "tags": []
   },
   "outputs": [
    {
     "name": "stdout",
     "output_type": "stream",
     "text": [
      "[12:31:13] WARNING: /home/conda/feedstock_root/build_artifacts/xgboost-split_1679035020608/work/src/objective/regression_obj.cu:213: reg:linear is now deprecated in favor of reg:squarederror.\n",
      "[0]\tvalidation_0-rmse:1.13743\tvalidation_1-rmse:1.18078\n",
      "[100]\tvalidation_0-rmse:0.99162\tvalidation_1-rmse:1.10848\n",
      "[200]\tvalidation_0-rmse:0.96142\tvalidation_1-rmse:1.10427\n",
      "[232]\tvalidation_0-rmse:0.95766\tvalidation_1-rmse:1.10457\n"
     ]
    },
    {
     "data": {
      "text/html": [
       "<style>#sk-container-id-1 {color: black;background-color: white;}#sk-container-id-1 pre{padding: 0;}#sk-container-id-1 div.sk-toggleable {background-color: white;}#sk-container-id-1 label.sk-toggleable__label {cursor: pointer;display: block;width: 100%;margin-bottom: 0;padding: 0.3em;box-sizing: border-box;text-align: center;}#sk-container-id-1 label.sk-toggleable__label-arrow:before {content: \"▸\";float: left;margin-right: 0.25em;color: #696969;}#sk-container-id-1 label.sk-toggleable__label-arrow:hover:before {color: black;}#sk-container-id-1 div.sk-estimator:hover label.sk-toggleable__label-arrow:before {color: black;}#sk-container-id-1 div.sk-toggleable__content {max-height: 0;max-width: 0;overflow: hidden;text-align: left;background-color: #f0f8ff;}#sk-container-id-1 div.sk-toggleable__content pre {margin: 0.2em;color: black;border-radius: 0.25em;background-color: #f0f8ff;}#sk-container-id-1 input.sk-toggleable__control:checked~div.sk-toggleable__content {max-height: 200px;max-width: 100%;overflow: auto;}#sk-container-id-1 input.sk-toggleable__control:checked~label.sk-toggleable__label-arrow:before {content: \"▾\";}#sk-container-id-1 div.sk-estimator input.sk-toggleable__control:checked~label.sk-toggleable__label {background-color: #d4ebff;}#sk-container-id-1 div.sk-label input.sk-toggleable__control:checked~label.sk-toggleable__label {background-color: #d4ebff;}#sk-container-id-1 input.sk-hidden--visually {border: 0;clip: rect(1px 1px 1px 1px);clip: rect(1px, 1px, 1px, 1px);height: 1px;margin: -1px;overflow: hidden;padding: 0;position: absolute;width: 1px;}#sk-container-id-1 div.sk-estimator {font-family: monospace;background-color: #f0f8ff;border: 1px dotted black;border-radius: 0.25em;box-sizing: border-box;margin-bottom: 0.5em;}#sk-container-id-1 div.sk-estimator:hover {background-color: #d4ebff;}#sk-container-id-1 div.sk-parallel-item::after {content: \"\";width: 100%;border-bottom: 1px solid gray;flex-grow: 1;}#sk-container-id-1 div.sk-label:hover label.sk-toggleable__label {background-color: #d4ebff;}#sk-container-id-1 div.sk-serial::before {content: \"\";position: absolute;border-left: 1px solid gray;box-sizing: border-box;top: 0;bottom: 0;left: 50%;z-index: 0;}#sk-container-id-1 div.sk-serial {display: flex;flex-direction: column;align-items: center;background-color: white;padding-right: 0.2em;padding-left: 0.2em;position: relative;}#sk-container-id-1 div.sk-item {position: relative;z-index: 1;}#sk-container-id-1 div.sk-parallel {display: flex;align-items: stretch;justify-content: center;background-color: white;position: relative;}#sk-container-id-1 div.sk-item::before, #sk-container-id-1 div.sk-parallel-item::before {content: \"\";position: absolute;border-left: 1px solid gray;box-sizing: border-box;top: 0;bottom: 0;left: 50%;z-index: -1;}#sk-container-id-1 div.sk-parallel-item {display: flex;flex-direction: column;z-index: 1;position: relative;background-color: white;}#sk-container-id-1 div.sk-parallel-item:first-child::after {align-self: flex-end;width: 50%;}#sk-container-id-1 div.sk-parallel-item:last-child::after {align-self: flex-start;width: 50%;}#sk-container-id-1 div.sk-parallel-item:only-child::after {width: 0;}#sk-container-id-1 div.sk-dashed-wrapped {border: 1px dashed gray;margin: 0 0.4em 0.5em 0.4em;box-sizing: border-box;padding-bottom: 0.4em;background-color: white;}#sk-container-id-1 div.sk-label label {font-family: monospace;font-weight: bold;display: inline-block;line-height: 1.2em;}#sk-container-id-1 div.sk-label-container {text-align: center;}#sk-container-id-1 div.sk-container {/* jupyter's `normalize.less` sets `[hidden] { display: none; }` but bootstrap.min.css set `[hidden] { display: none !important; }` so we also need the `!important` here to be able to override the default hidden behavior on the sphinx rendered scikit-learn.org. See: https://github.com/scikit-learn/scikit-learn/issues/21755 */display: inline-block !important;position: relative;}#sk-container-id-1 div.sk-text-repr-fallback {display: none;}</style><div id=\"sk-container-id-1\" class=\"sk-top-container\"><div class=\"sk-text-repr-fallback\"><pre>XGBRegressor(base_score=0.5, booster=&#x27;gbtree&#x27;, callbacks=None,\n",
       "             colsample_bylevel=None, colsample_bynode=None,\n",
       "             colsample_bytree=None, early_stopping_rounds=50,\n",
       "             enable_categorical=False, eval_metric=None, feature_types=None,\n",
       "             gamma=None, gpu_id=None, grow_policy=None, importance_type=None,\n",
       "             interaction_constraints=None, learning_rate=0.01, max_bin=None,\n",
       "             max_cat_threshold=None, max_cat_to_onehot=None,\n",
       "             max_delta_step=None, max_depth=10, max_leaves=None,\n",
       "             min_child_weight=None, missing=nan, monotone_constraints=None,\n",
       "             n_estimators=10000, n_jobs=None, num_parallel_tree=None,\n",
       "             objective=&#x27;reg:linear&#x27;, predictor=None, ...)</pre><b>In a Jupyter environment, please rerun this cell to show the HTML representation or trust the notebook. <br />On GitHub, the HTML representation is unable to render, please try loading this page with nbviewer.org.</b></div><div class=\"sk-container\" hidden><div class=\"sk-item\"><div class=\"sk-estimator sk-toggleable\"><input class=\"sk-toggleable__control sk-hidden--visually\" id=\"sk-estimator-id-1\" type=\"checkbox\" checked><label for=\"sk-estimator-id-1\" class=\"sk-toggleable__label sk-toggleable__label-arrow\">XGBRegressor</label><div class=\"sk-toggleable__content\"><pre>XGBRegressor(base_score=0.5, booster=&#x27;gbtree&#x27;, callbacks=None,\n",
       "             colsample_bylevel=None, colsample_bynode=None,\n",
       "             colsample_bytree=None, early_stopping_rounds=50,\n",
       "             enable_categorical=False, eval_metric=None, feature_types=None,\n",
       "             gamma=None, gpu_id=None, grow_policy=None, importance_type=None,\n",
       "             interaction_constraints=None, learning_rate=0.01, max_bin=None,\n",
       "             max_cat_threshold=None, max_cat_to_onehot=None,\n",
       "             max_delta_step=None, max_depth=10, max_leaves=None,\n",
       "             min_child_weight=None, missing=nan, monotone_constraints=None,\n",
       "             n_estimators=10000, n_jobs=None, num_parallel_tree=None,\n",
       "             objective=&#x27;reg:linear&#x27;, predictor=None, ...)</pre></div></div></div></div></div>"
      ],
      "text/plain": [
       "XGBRegressor(base_score=0.5, booster='gbtree', callbacks=None,\n",
       "             colsample_bylevel=None, colsample_bynode=None,\n",
       "             colsample_bytree=None, early_stopping_rounds=50,\n",
       "             enable_categorical=False, eval_metric=None, feature_types=None,\n",
       "             gamma=None, gpu_id=None, grow_policy=None, importance_type=None,\n",
       "             interaction_constraints=None, learning_rate=0.01, max_bin=None,\n",
       "             max_cat_threshold=None, max_cat_to_onehot=None,\n",
       "             max_delta_step=None, max_depth=10, max_leaves=None,\n",
       "             min_child_weight=None, missing=nan, monotone_constraints=None,\n",
       "             n_estimators=10000, n_jobs=None, num_parallel_tree=None,\n",
       "             objective='reg:linear', predictor=None, ...)"
      ]
     },
     "execution_count": 26,
     "metadata": {},
     "output_type": "execute_result"
    }
   ],
   "source": [
    "# Xgboost\n",
    "import matplotlib.pyplot as plt\n",
    "import numpy as np\n",
    "import pandas as pd\n",
    "import seaborn as sns\n",
    "import xgboost as xgb\n",
    "from sklearn.metrics import mean_squared_error\n",
    "\n",
    "color_pal = sns.color_palette()\n",
    "plt.style.use(\"fivethirtyeight\")\n",
    "\n",
    "gdbt = xgb.XGBRegressor(\n",
    "    base_score=0.5,\n",
    "    booster=\"gbtree\",\n",
    "    n_estimators=10000,\n",
    "    early_stopping_rounds=50,\n",
    "    objective=\"reg:linear\",\n",
    "    max_depth=10,\n",
    "    learning_rate=0.01,\n",
    ")\n",
    "gdbt.fit(X_train, y_train, eval_set=[(X_train, y_train), (X_test, y_test)], verbose=100)"
   ]
  },
  {
   "cell_type": "code",
   "execution_count": 32,
   "id": "426b045f-4bc2-470c-9617-57efa1d9c396",
   "metadata": {
    "executionInfo": {
     "elapsed": 6263,
     "status": "ok",
     "timestamp": 1681096726912,
     "user": {
      "displayName": "Minh-Tam Pham",
      "userId": "15961201256875286786"
     },
     "user_tz": 420
    },
    "id": "426b045f-4bc2-470c-9617-57efa1d9c396",
    "tags": []
   },
   "outputs": [],
   "source": [
    "gdbt_prediction = gdbt.predict(X_test)"
   ]
  },
  {
   "cell_type": "code",
   "execution_count": 33,
   "id": "de4c7b60-8e68-46f4-9f26-0a2d3fcb5565",
   "metadata": {
    "colab": {
     "base_uri": "https://localhost:8080/"
    },
    "id": "de4c7b60-8e68-46f4-9f26-0a2d3fcb5565",
    "outputId": "d641de0e-4360-48f8-d0ec-f61eb95b7aa2",
    "tags": []
   },
   "outputs": [
    {
     "name": "stdout",
     "output_type": "stream",
     "text": [
      "RMSE Score on XGBRegressor Test set: 1.104\n",
      "MAE Score on XGBRegressor Test set: 0.505\n",
      "MAPE Score on XGBRegressor Test set: 3.153\n"
     ]
    }
   ],
   "source": [
    "from sklearn.metrics import mean_absolute_error, mean_absolute_percentage_error\n",
    "from sklearn.metrics import mean_squared_error as mse\n",
    "from sklearn.metrics import r2_score\n",
    "\n",
    "score = np.sqrt(mse(y_test, gdbt_prediction))\n",
    "print(f\"RMSE Score on XGBRegressor Test set: {score:0.3f}\")\n",
    "mae = mean_absolute_error(y_test, gdbt_prediction)\n",
    "print(f\"MAE Score on XGBRegressor Test set: {mae:0.3f}\")\n",
    "mape = mean_absolute_percentage_error(y_test, gdbt_prediction)\n",
    "print(f\"MAPE Score on XGBRegressor Test set: {mape:0.3f}\")"
   ]
  },
  {
   "cell_type": "code",
   "execution_count": 65,
   "id": "d16a6921",
   "metadata": {},
   "outputs": [
    {
     "name": "stdout",
     "output_type": "stream",
     "text": [
      "(558000, 13)\n",
      "(558000,)\n"
     ]
    },
    {
     "data": {
      "image/png": "[encoded data removed]",
      "text/plain": [
       "<Figure size 640x480 with 1 Axes>"
      ]
     },
     "metadata": {},
     "output_type": "display_data"
    }
   ],
   "source": [
    "import matplotlib.pyplot as plt\n",
    "\n",
    "print(X_test.shape)\n",
    "print(y_test.shape)\n",
    "\n",
    "start = 60 * 10\n",
    "end = 60  * 10 + 12 * 24\n",
    "plt.plot(X_test.index[start:end], y_test[start:end], label='real')\n",
    "plt.plot(X_test.index[start:end], lr_prediction[start:end], label='LR')\n",
    "plt.plot(X_test.index[start:end], pred2[start:end], label='lstm')\n",
    "plt.plot(X_test.index[start:end], gdbt_prediction[start:end], label='ours')\n",
    "\n",
    "\n",
    "plt.xticks(rotation = 45)\n",
    "plt.legend()\n",
    "plt.show()"
   ]
  },
  {
   "cell_type": "markdown",
   "id": "7c9e2d89-e0fa-483c-8b29-1580eb97d194",
   "metadata": {
    "id": "7c9e2d89-e0fa-483c-8b29-1580eb97d194"
   },
   "source": [
    "# Innovative Machine Learning Models"
   ]
  },
  {
   "cell_type": "markdown",
   "id": "a4bb73f8-eb9e-4797-a320-a5b4a8630263",
   "metadata": {
    "id": "a4bb73f8-eb9e-4797-a320-a5b4a8630263"
   },
   "source": [
    "## RNN (LSTM, GRU)"
   ]
  },
  {
   "cell_type": "markdown",
   "id": "D-7gLbg1TnS2",
   "metadata": {
    "id": "D-7gLbg1TnS2"
   },
   "source": [
    "# New Section"
   ]
  },
  {
   "cell_type": "code",
   "execution_count": 40,
   "id": "7fa11cb2-3b9c-48ba-a174-ee6d31bb8e40",
   "metadata": {
    "executionInfo": {
     "elapsed": 4362,
     "status": "ok",
     "timestamp": 1681096887813,
     "user": {
      "displayName": "Minh-Tam Pham",
      "userId": "15961201256875286786"
     },
     "user_tz": 420
    },
    "id": "7fa11cb2-3b9c-48ba-a174-ee6d31bb8e40",
    "tags": []
   },
   "outputs": [],
   "source": [
    "import tensorflow as tf\n",
    "from keras import regularizers\n",
    "from keras.layers import GRU, LSTM, Dense, Dropout\n",
    "from keras.models import Sequential\n",
    "from keras.optimizers import Adam\n",
    "from keras.preprocessing.sequence import TimeseriesGenerator\n",
    "from sklearn.metrics import accuracy_score\n",
    "from sklearn.model_selection import train_test_split"
   ]
  },
  {
   "cell_type": "code",
   "execution_count": 41,
   "id": "13442886-d978-4fab-bae3-e6b4d4f37cb9",
   "metadata": {
    "executionInfo": {
     "elapsed": 193,
     "status": "ok",
     "timestamp": 1681096899376,
     "user": {
      "displayName": "Minh-Tam Pham",
      "userId": "15961201256875286786"
     },
     "user_tz": 420
    },
    "id": "13442886-d978-4fab-bae3-e6b4d4f37cb9",
    "tags": []
   },
   "outputs": [],
   "source": [
    "# Time Series Generator Parameters\n",
    "\n",
    "lookback_length = 12\n",
    "batch_size = 64"
   ]
  },
  {
   "cell_type": "code",
   "execution_count": 42,
   "id": "0fa13ea2-093c-4819-8adf-65cd12837fd7",
   "metadata": {
    "executionInfo": {
     "elapsed": 184,
     "status": "ok",
     "timestamp": 1681096905630,
     "user": {
      "displayName": "Minh-Tam Pham",
      "userId": "15961201256875286786"
     },
     "user_tz": 420
    },
    "id": "0fa13ea2-093c-4819-8adf-65cd12837fd7",
    "tags": []
   },
   "outputs": [],
   "source": [
    "train_sequences = TimeseriesGenerator(\n",
    "    X_train, y_train, length=lookback_length, batch_size=batch_size\n",
    ")\n",
    "batch_x, batch_y = train_sequences[0]"
   ]
  },
  {
   "cell_type": "code",
   "execution_count": 43,
   "id": "840e8b98-051a-4930-84a5-51b775081f2a",
   "metadata": {
    "executionInfo": {
     "elapsed": 708,
     "status": "ok",
     "timestamp": 1681096907757,
     "user": {
      "displayName": "Minh-Tam Pham",
      "userId": "15961201256875286786"
     },
     "user_tz": 420
    },
    "id": "840e8b98-051a-4930-84a5-51b775081f2a",
    "tags": []
   },
   "outputs": [],
   "source": [
    "test_sequences = TimeseriesGenerator(\n",
    "    X_test, y_test, length=lookback_length, batch_size=batch_size\n",
    ")\n",
    "\n",
    "batch_x_test, batch_y_test = train_sequences[0]"
   ]
  },
  {
   "cell_type": "code",
   "execution_count": 44,
   "id": "ba96c1a3-41d8-47ff-93e5-3cbb8b80f43c",
   "metadata": {
    "colab": {
     "base_uri": "https://localhost:8080/"
    },
    "executionInfo": {
     "elapsed": 1238,
     "status": "ok",
     "timestamp": 1681096909917,
     "user": {
      "displayName": "Minh-Tam Pham",
      "userId": "15961201256875286786"
     },
     "user_tz": 420
    },
    "id": "ba96c1a3-41d8-47ff-93e5-3cbb8b80f43c",
    "outputId": "082ff39f-b24e-46ad-9846-96dcb3f91f4a",
    "tags": []
   },
   "outputs": [
    {
     "name": "stdout",
     "output_type": "stream",
     "text": [
      "Model: \"sequential\"\n",
      "_________________________________________________________________\n",
      " Layer (type)                Output Shape              Param #   \n",
      "=================================================================\n",
      " gru (GRU)                   (None, 12, 16)            1488      \n",
      "                                                                 \n",
      " gru_1 (GRU)                 (None, 16)                1632      \n",
      "                                                                 \n",
      " dense (Dense)               (None, 32)                544       \n",
      "                                                                 \n",
      " dense_1 (Dense)             (None, 16)                528       \n",
      "                                                                 \n",
      " dense_2 (Dense)             (None, 8)                 136       \n",
      "                                                                 \n",
      " dense_3 (Dense)             (None, 1)                 9         \n",
      "                                                                 \n",
      "=================================================================\n",
      "Total params: 4,337\n",
      "Trainable params: 4,337\n",
      "Non-trainable params: 0\n",
      "_________________________________________________________________\n"
     ]
    }
   ],
   "source": [
    "with tf.device(\"/gpu:0\"):\n",
    "    gru = Sequential()\n",
    "\n",
    "    gru.add(\n",
    "        GRU(16, input_shape=(batch_x.shape[1], batch_x.shape[2]), return_sequences=True)\n",
    "    )\n",
    "\n",
    "    gru.add(GRU(16))\n",
    "\n",
    "    gru.add(Dense(32, activation=\"relu\"))\n",
    "    # model.add(Dropout(0.1))                  # refers to nodes in the first hidden layer\n",
    "\n",
    "    gru.add(Dense(16, activation=\"relu\"))\n",
    "    # model.add(Dropout(0.1))\n",
    "\n",
    "    gru.add(Dense(8, activation=\"relu\"))\n",
    "    # model.add(Dropout(0.1))\n",
    "\n",
    "    gru.add(Dense(1, activation=\"linear\"))\n",
    "\n",
    "    gru.summary()"
   ]
  },
  {
   "cell_type": "code",
   "execution_count": 45,
   "id": "0c7c7653-b874-4bea-a47c-3913cdac2d23",
   "metadata": {
    "colab": {
     "base_uri": "https://localhost:8080/"
    },
    "executionInfo": {
     "elapsed": 798067,
     "status": "ok",
     "timestamp": 1681097755282,
     "user": {
      "displayName": "Minh-Tam Pham",
      "userId": "15961201256875286786"
     },
     "user_tz": 420
    },
    "id": "0c7c7653-b874-4bea-a47c-3913cdac2d23",
    "outputId": "1b4748d0-dd13-4b9d-d9dd-eb49759496bd"
   },
   "outputs": [
    {
     "name": "stderr",
     "output_type": "stream",
     "text": [
      "/home/zyan/miniconda3/lib/python3.8/site-packages/keras/optimizers/optimizer_v2/adam.py:117: UserWarning: The `lr` argument is deprecated, use `learning_rate` instead.\n",
      "  super().__init__(name, **kwargs)\n",
      "/tmp/ipykernel_5234/1283367688.py:6: UserWarning: `Model.fit_generator` is deprecated and will be removed in a future version. Please use `Model.fit`, which supports generators.\n",
      "  history = gru.fit_generator(\n"
     ]
    },
    {
     "name": "stdout",
     "output_type": "stream",
     "text": [
      "26157/26157 [==============================] - 193s 7ms/step - loss: 1.0435 - val_loss: 1.2410\n"
     ]
    }
   ],
   "source": [
    "# GRU\n",
    "\n",
    "with tf.device(\"/gpu:0\"):\n",
    "    gru.compile(optimizer=Adam(lr=0.0005), loss=\"mean_squared_error\")\n",
    "\n",
    "    history = gru.fit_generator(\n",
    "        train_sequences,\n",
    "        validation_data=test_sequences,\n",
    "        epochs=1,\n",
    "        verbose=1,\n",
    "        use_multiprocessing=True,\n",
    "    )"
   ]
  },
  {
   "cell_type": "code",
   "execution_count": 53,
   "id": "9e658c0d-e4b5-4ec9-9379-d8c348c671c7",
   "metadata": {
    "colab": {
     "base_uri": "https://localhost:8080/"
    },
    "executionInfo": {
     "elapsed": 1995,
     "status": "ok",
     "timestamp": 1681097792593,
     "user": {
      "displayName": "Minh-Tam Pham",
      "userId": "15961201256875286786"
     },
     "user_tz": 420
    },
    "id": "9e658c0d-e4b5-4ec9-9379-d8c348c671c7",
    "outputId": "67aed4c3-94cc-4928-845d-18e125422dd2"
   },
   "outputs": [
    {
     "name": "stdout",
     "output_type": "stream",
     "text": [
      "RMSE Score on GRU Test set: 1.114\n",
      "MAE Score on GRU Test set: 0.506\n",
      "MAPE Score on GRU Test set: 50.203\n"
     ]
    }
   ],
   "source": [
    "from sklearn.metrics import mean_absolute_error, mean_absolute_percentage_error\n",
    "from sklearn.metrics import mean_squared_error as mse\n",
    "from sklearn.metrics import r2_score\n",
    "\n",
    "# pred = gru.predict(test_sequences)\n",
    "score = np.sqrt(mse(pred, y_test[:557988]))\n",
    "print(f\"RMSE Score on GRU Test set: {score:0.3f}\")\n",
    "mae = mean_absolute_error(pred, y_test[:557988])\n",
    "print(f\"MAE Score on GRU Test set: {mae:0.3f}\")\n",
    "mape = mean_absolute_percentage_error(pred, y_test[:557988])\n",
    "print(f\"MAPE Score on GRU Test set: {mape:0.3f}\")"
   ]
  },
  {
   "cell_type": "code",
   "execution_count": 52,
   "id": "442e28f1",
   "metadata": {},
   "outputs": [
    {
     "data": {
      "text/plain": [
       "(557988, 1)"
      ]
     },
     "execution_count": 52,
     "metadata": {},
     "output_type": "execute_result"
    }
   ],
   "source": [
    "pred.shape"
   ]
  },
  {
   "cell_type": "code",
   "execution_count": 61,
   "id": "6c65c69e-dbbb-44da-acfa-0d190533ab50",
   "metadata": {
    "colab": {
     "base_uri": "https://localhost:8080/"
    },
    "id": "6c65c69e-dbbb-44da-acfa-0d190533ab50",
    "outputId": "6a3854d5-a765-4257-a8e3-5488a5fc7c80",
    "tags": []
   },
   "outputs": [
    {
     "name": "stdout",
     "output_type": "stream",
     "text": [
      "Model: \"sequential_1\"\n",
      "_________________________________________________________________\n",
      " Layer (type)                Output Shape              Param #   \n",
      "=================================================================\n",
      " lstm (LSTM)                 (None, 12, 120)           64320     \n",
      "                                                                 \n",
      " lstm_1 (LSTM)               (None, 12, 80)            64320     \n",
      "                                                                 \n",
      " lstm_2 (LSTM)               (None, 40)                19360     \n",
      "                                                                 \n",
      " dense_4 (Dense)             (None, 1)                 41        \n",
      "                                                                 \n",
      "=================================================================\n",
      "Total params: 148,041\n",
      "Trainable params: 148,041\n",
      "Non-trainable params: 0\n",
      "_________________________________________________________________\n"
     ]
    }
   ],
   "source": [
    "# %%LSTM Model\n",
    "lstm = Sequential()\n",
    "lstm.add(\n",
    "    LSTM(\n",
    "        120,\n",
    "        return_sequences=True,\n",
    "        input_shape=(batch_x.shape[1], batch_x.shape[2]),\n",
    "    )\n",
    ")\n",
    "lstm.add(LSTM(80, return_sequences=True))\n",
    "lstm.add(LSTM(40))\n",
    "lstm.add(Dense(1))\n",
    "lstm.compile(loss=\"mean_squared_error\", optimizer=\"adam\")\n",
    "lstm.summary()"
   ]
  },
  {
   "cell_type": "code",
   "execution_count": 62,
   "id": "70810c8b-1c95-43ba-b0b3-6cc299efb92e",
   "metadata": {
    "colab": {
     "base_uri": "https://localhost:8080/"
    },
    "id": "70810c8b-1c95-43ba-b0b3-6cc299efb92e",
    "outputId": "d2f0fa6d-c96a-4997-8e01-405e4afcd86b",
    "tags": []
   },
   "outputs": [
    {
     "name": "stderr",
     "output_type": "stream",
     "text": [
      "/home/zyan/miniconda3/lib/python3.8/site-packages/keras/optimizers/optimizer_v2/adam.py:117: UserWarning: The `lr` argument is deprecated, use `learning_rate` instead.\n",
      "  super().__init__(name, **kwargs)\n",
      "/tmp/ipykernel_5234/515222140.py:4: UserWarning: `Model.fit_generator` is deprecated and will be removed in a future version. Please use `Model.fit`, which supports generators.\n",
      "  history1 = lstm.fit_generator(\n"
     ]
    },
    {
     "name": "stdout",
     "output_type": "stream",
     "text": [
      "26157/26157 [==============================] - 131s 5ms/step - loss: 1.0467 - val_loss: 1.2498\n"
     ]
    }
   ],
   "source": [
    "# LSTM\n",
    "lstm.compile(optimizer=Adam(lr=0.0005), loss=\"mean_squared_error\")\n",
    "\n",
    "history1 = lstm.fit_generator(\n",
    "    train_sequences, validation_data=test_sequences, epochs=1, verbose=1\n",
    ")"
   ]
  },
  {
   "cell_type": "code",
   "execution_count": 63,
   "id": "d08f0dd1-7314-4c42-bc8f-7ec757cd856a",
   "metadata": {
    "colab": {
     "base_uri": "https://localhost:8080/"
    },
    "id": "d08f0dd1-7314-4c42-bc8f-7ec757cd856a",
    "outputId": "ba855b5f-2b69-42e9-bb58-bca24b5b9e3b"
   },
   "outputs": [
    {
     "name": "stdout",
     "output_type": "stream",
     "text": [
      "8719/8719 [==============================] - 35s 4ms/step\n",
      "RMSE Score on LSTM Test set: 1.119\n",
      "MAE Score on LSTM Test set: 0.496\n",
      "MAPE Score on LSTM Test set: 24.818\n"
     ]
    }
   ],
   "source": [
    "from sklearn.metrics import mean_absolute_error, mean_absolute_percentage_error\n",
    "from sklearn.metrics import mean_squared_error as mse\n",
    "from sklearn.metrics import r2_score\n",
    "\n",
    "pred2 = lstm.predict(test_sequences)\n",
    "score = np.sqrt(mse(pred2, y_test[:557988]))\n",
    "print(f\"RMSE Score on LSTM Test set: {score:0.3f}\")\n",
    "mae = mean_absolute_error(pred2, y_test[:557988])\n",
    "print(f\"MAE Score on LSTM Test set: {mae:0.3f}\")\n",
    "mape = mean_absolute_percentage_error(pred2, y_test[:557988])\n",
    "print(f\"MAPE Score on LSTM Test set: {mape:0.3f}\")"
   ]
  },
  {
   "cell_type": "code",
   "execution_count": 46,
   "id": "0cb796b3",
   "metadata": {},
   "outputs": [
    {
     "name": "stdout",
     "output_type": "stream",
     "text": [
      "WARNING:tensorflow:Model was constructed with shape (None, 12, 13) for input KerasTensor(type_spec=TensorSpec(shape=(None, 12, 13), dtype=tf.float32, name='lstm_input'), name='lstm_input', description=\"created by layer 'lstm_input'\"), but it was called on an input with incompatible shape (None, 12).\n"
     ]
    },
    {
     "name": "stderr",
     "output_type": "stream",
     "text": [
      "WARNING:tensorflow:Model was constructed with shape (None, 12, 13) for input KerasTensor(type_spec=TensorSpec(shape=(None, 12, 13), dtype=tf.float32, name='lstm_input'), name='lstm_input', description=\"created by layer 'lstm_input'\"), but it was called on an input with incompatible shape (None, 12).\n"
     ]
    },
    {
     "ename": "ValueError",
     "evalue": "Exception encountered when calling layer \"sequential_1\" (type Sequential).\n\nInput 0 of layer \"lstm\" is incompatible with the layer: expected ndim=3, found ndim=2. Full shape received: (None, 12)\n\nCall arguments received by layer \"sequential_1\" (type Sequential):\n  • inputs=tf.Tensor(shape=(None, 12), dtype=float32)\n  • training=None\n  • mask=None",
     "output_type": "error",
     "traceback": [
      "\u001b[0;31m---------------------------------------------------------------------------\u001b[0m",
      "\u001b[0;31mValueError\u001b[0m                                Traceback (most recent call last)",
      "Cell \u001b[0;32mIn[46], line 3\u001b[0m\n\u001b[1;32m      1\u001b[0m inputs \u001b[38;5;241m=\u001b[39m tf\u001b[38;5;241m.\u001b[39mkeras\u001b[38;5;241m.\u001b[39mInput(shape\u001b[38;5;241m=\u001b[39m(\u001b[38;5;241m12\u001b[39m))\n\u001b[0;32m----> 3\u001b[0m lstm_out \u001b[38;5;241m=\u001b[39m \u001b[43mlstm\u001b[49m\u001b[43m(\u001b[49m\u001b[43minputs\u001b[49m\u001b[43m)\u001b[49m\n\u001b[1;32m      4\u001b[0m gru_out \u001b[38;5;241m=\u001b[39m gru(inputs)\n\u001b[1;32m      5\u001b[0m dense \u001b[38;5;241m=\u001b[39m layers\u001b[38;5;241m.\u001b[39mDense(q)\n",
      "File \u001b[0;32m~/miniconda3/lib/python3.8/site-packages/keras/utils/traceback_utils.py:70\u001b[0m, in \u001b[0;36mfilter_traceback.<locals>.error_handler\u001b[0;34m(*args, **kwargs)\u001b[0m\n\u001b[1;32m     67\u001b[0m     filtered_tb \u001b[38;5;241m=\u001b[39m _process_traceback_frames(e\u001b[38;5;241m.\u001b[39m__traceback__)\n\u001b[1;32m     68\u001b[0m     \u001b[38;5;66;03m# To get the full stack trace, call:\u001b[39;00m\n\u001b[1;32m     69\u001b[0m     \u001b[38;5;66;03m# `tf.debugging.disable_traceback_filtering()`\u001b[39;00m\n\u001b[0;32m---> 70\u001b[0m     \u001b[38;5;28;01mraise\u001b[39;00m e\u001b[38;5;241m.\u001b[39mwith_traceback(filtered_tb) \u001b[38;5;28;01mfrom\u001b[39;00m \u001b[38;5;28mNone\u001b[39m\n\u001b[1;32m     71\u001b[0m \u001b[38;5;28;01mfinally\u001b[39;00m:\n\u001b[1;32m     72\u001b[0m     \u001b[38;5;28;01mdel\u001b[39;00m filtered_tb\n",
      "File \u001b[0;32m~/miniconda3/lib/python3.8/site-packages/keras/engine/input_spec.py:232\u001b[0m, in \u001b[0;36massert_input_compatibility\u001b[0;34m(input_spec, inputs, layer_name)\u001b[0m\n\u001b[1;32m    230\u001b[0m     ndim \u001b[38;5;241m=\u001b[39m shape\u001b[38;5;241m.\u001b[39mrank\n\u001b[1;32m    231\u001b[0m     \u001b[38;5;28;01mif\u001b[39;00m ndim \u001b[38;5;241m!=\u001b[39m spec\u001b[38;5;241m.\u001b[39mndim:\n\u001b[0;32m--> 232\u001b[0m         \u001b[38;5;28;01mraise\u001b[39;00m \u001b[38;5;167;01mValueError\u001b[39;00m(\n\u001b[1;32m    233\u001b[0m             \u001b[38;5;124mf\u001b[39m\u001b[38;5;124m'\u001b[39m\u001b[38;5;124mInput \u001b[39m\u001b[38;5;132;01m{\u001b[39;00minput_index\u001b[38;5;132;01m}\u001b[39;00m\u001b[38;5;124m of layer \u001b[39m\u001b[38;5;124m\"\u001b[39m\u001b[38;5;132;01m{\u001b[39;00mlayer_name\u001b[38;5;132;01m}\u001b[39;00m\u001b[38;5;124m\"\u001b[39m\u001b[38;5;124m \u001b[39m\u001b[38;5;124m'\u001b[39m\n\u001b[1;32m    234\u001b[0m             \u001b[38;5;124m\"\u001b[39m\u001b[38;5;124mis incompatible with the layer: \u001b[39m\u001b[38;5;124m\"\u001b[39m\n\u001b[1;32m    235\u001b[0m             \u001b[38;5;124mf\u001b[39m\u001b[38;5;124m\"\u001b[39m\u001b[38;5;124mexpected ndim=\u001b[39m\u001b[38;5;132;01m{\u001b[39;00mspec\u001b[38;5;241m.\u001b[39mndim\u001b[38;5;132;01m}\u001b[39;00m\u001b[38;5;124m, found ndim=\u001b[39m\u001b[38;5;132;01m{\u001b[39;00mndim\u001b[38;5;132;01m}\u001b[39;00m\u001b[38;5;124m. \u001b[39m\u001b[38;5;124m\"\u001b[39m\n\u001b[1;32m    236\u001b[0m             \u001b[38;5;124mf\u001b[39m\u001b[38;5;124m\"\u001b[39m\u001b[38;5;124mFull shape received: \u001b[39m\u001b[38;5;132;01m{\u001b[39;00m\u001b[38;5;28mtuple\u001b[39m(shape)\u001b[38;5;132;01m}\u001b[39;00m\u001b[38;5;124m\"\u001b[39m\n\u001b[1;32m    237\u001b[0m         )\n\u001b[1;32m    238\u001b[0m \u001b[38;5;28;01mif\u001b[39;00m spec\u001b[38;5;241m.\u001b[39mmax_ndim \u001b[38;5;129;01mis\u001b[39;00m \u001b[38;5;129;01mnot\u001b[39;00m \u001b[38;5;28;01mNone\u001b[39;00m:\n\u001b[1;32m    239\u001b[0m     ndim \u001b[38;5;241m=\u001b[39m x\u001b[38;5;241m.\u001b[39mshape\u001b[38;5;241m.\u001b[39mrank\n",
      "\u001b[0;31mValueError\u001b[0m: Exception encountered when calling layer \"sequential_1\" (type Sequential).\n\nInput 0 of layer \"lstm\" is incompatible with the layer: expected ndim=3, found ndim=2. Full shape received: (None, 12)\n\nCall arguments received by layer \"sequential_1\" (type Sequential):\n  • inputs=tf.Tensor(shape=(None, 12), dtype=float32)\n  • training=None\n  • mask=None"
     ]
    }
   ],
   "source": [
    "inputs = tf.keras.Input(shape=(12))\n",
    "\n",
    "lstm_out = lstm(inputs)\n",
    "gru_out = gru(inputs)\n",
    "dense = layers.Dense(q)\n",
    "out = dense(tf.cat([lstm_out, gru_out]))\n",
    "\n",
    "my_functional_model = tf.keras.Model(inputs=inputs, outputs=out)\n",
    "my_functional_model.summary()"
   ]
  },
  {
   "cell_type": "code",
   "execution_count": 43,
   "id": "e6c14b5f",
   "metadata": {},
   "outputs": [
    {
     "ename": "AttributeError",
     "evalue": "'Ensemble' object has no attribute 'fit_generator'",
     "output_type": "error",
     "traceback": [
      "\u001b[0;31m---------------------------------------------------------------------------\u001b[0m",
      "\u001b[0;31mAttributeError\u001b[0m                            Traceback (most recent call last)",
      "Cell \u001b[0;32mIn[43], line 2\u001b[0m\n\u001b[1;32m      1\u001b[0m \u001b[38;5;66;03m# LSTM\u001b[39;00m\n\u001b[0;32m----> 2\u001b[0m history1 \u001b[38;5;241m=\u001b[39m \u001b[43mensemble\u001b[49m\u001b[38;5;241;43m.\u001b[39;49m\u001b[43mfit_generator\u001b[49m(\n\u001b[1;32m      3\u001b[0m     train_sequences, validation_data\u001b[38;5;241m=\u001b[39mtest_sequences, epochs\u001b[38;5;241m=\u001b[39m\u001b[38;5;241m1\u001b[39m, verbose\u001b[38;5;241m=\u001b[39m\u001b[38;5;241m1\u001b[39m\n\u001b[1;32m      4\u001b[0m )\n",
      "\u001b[0;31mAttributeError\u001b[0m: 'Ensemble' object has no attribute 'fit_generator'"
     ]
    }
   ],
   "source": [
    "# LSTM\n",
    "history1 = ensemble.fit_generator(\n",
    "    train_sequences, validation_data=test_sequences, epochs=1, verbose=1\n",
    ")"
   ]
  },
  {
   "cell_type": "markdown",
   "id": "3073b257-4cc6-48cd-a2b5-959f10a1c330",
   "metadata": {
    "id": "3073b257-4cc6-48cd-a2b5-959f10a1c330"
   },
   "source": [
    "## Our Proposed Model"
   ]
  },
  {
   "cell_type": "code",
   "execution_count": 22,
   "id": "35b229fc-f36d-48a1-8765-b204680eddf3",
   "metadata": {
    "executionInfo": {
     "elapsed": 3,
     "status": "ok",
     "timestamp": 1681097837008,
     "user": {
      "displayName": "Minh-Tam Pham",
      "userId": "15961201256875286786"
     },
     "user_tz": 420
    },
    "id": "35b229fc-f36d-48a1-8765-b204680eddf3",
    "tags": []
   },
   "outputs": [],
   "source": [
    "# dense -> MLP             -\\\n",
    "# sparse -> nn.Embedding   --  MLP\n",
    "\n",
    "\n",
    "class ElectricyMarketPriceModule(pl.LightningModule):\n",
    "    def __init__(self):\n",
    "        super().__init__()\n",
    "\n",
    "        embedding_dim = 32\n",
    "        self._dense_mlp = nn.Sequential(\n",
    "            nn.LazyLinear(32),\n",
    "            nn.Tanh(),\n",
    "        )\n",
    "        self._month_emb = nn.Embedding(12, embedding_dim)\n",
    "        self._hour_emb = nn.Embedding(24, embedding_dim)\n",
    "        self._weekday_emb = nn.Embedding(7, embedding_dim)\n",
    "        self._sparse_mlp = nn.Sequential(\n",
    "            nn.LazyLinear(32),\n",
    "            nn.Tanh(),\n",
    "        )\n",
    "        # self._transformer_model = nn.Transformer(nhead=16, num_encoder_layers=12)\n",
    "        self._multihead_attn = nn.MultiheadAttention(32 + 32, 8)\n",
    "        self._over_mlp = nn.Sequential(\n",
    "            nn.LazyLinear(64),\n",
    "            nn.Tanh(),\n",
    "            nn.LazyLinear(6),\n",
    "        )\n",
    "\n",
    "        self.loss = nn.MSELoss()\n",
    "\n",
    "    def training_step(self, batch):\n",
    "        dense, sparse, label = batch\n",
    "        # print(f\"dense = {dense}\")\n",
    "        # print(f\"sparse = {sparse}\")\n",
    "        # print(f\"label = {label}\")\n",
    "        # raise Exception()\n",
    "\n",
    "        B = dense.size(0)\n",
    "        dense_out = self._dense_mlp(dense)\n",
    "        month_embs = self._month_emb(sparse[:, :, 0])\n",
    "        hour_embs = self._hour_emb(sparse[:, :, 1])\n",
    "        weekday_embs = self._weekday_emb(sparse[:, :, 2])\n",
    "        sparse_out = self._sparse_mlp(\n",
    "            torch.cat([month_embs, hour_embs, weekday_embs], dim=-1)\n",
    "        )\n",
    "        attn_input = torch.cat([dense_out, sparse_out], dim=-1)\n",
    "        attn_output, _ = self._multihead_attn(\n",
    "            attn_input, attn_input, attn_input, need_weights=False\n",
    "        )  # [B, 288, 68]\n",
    "        pred = self._over_mlp(attn_output.view(B, -1))\n",
    "        # print(f'pred {pred}')\n",
    "        # print(f'label {label}')\n",
    "        loss = self.loss(pred, label)\n",
    "        # print(f'loss {loss}')\n",
    "        self.log(\"train_loss\", loss)\n",
    "        return loss\n",
    "\n",
    "    def validation_step(self, batch, batch_idx):\n",
    "        x, y = batch\n",
    "        out = self.cnn_net(x)\n",
    "        out = out.view(x.size(0), -1)\n",
    "        pred = self.linear_net(out)\n",
    "        pred = torch.argmax(pred, dim=1)\n",
    "        self.log(\"val_loss\", (pred == y).sum().item() / x.size(0), prog_bar=True)\n",
    "\n",
    "    def test_step(self, batch, batch_idx):\n",
    "        # this is the test loop\n",
    "        x, y = batch\n",
    "        out = self.cnn_net(x)\n",
    "        out = out.view(x.size(0), -1)\n",
    "        pred = self.linear_net(out)\n",
    "        pred = torch.argmax(pred, dim=1)\n",
    "        self.log(\"test_loss\", (pred == y).sum().item() / x.size(0))\n",
    "\n",
    "    def predict_step(self, batch, batch_idx):\n",
    "        dense, sparse, label = batch\n",
    "        # print(f\"dense = {dense}\")\n",
    "        # print(f\"sparse = {sparse}\")\n",
    "        # print(f\"label = {label}\")\n",
    "        # raise Exception()\n",
    "\n",
    "        B = dense.size(0)\n",
    "        dense_out = self._dense_mlp(dense)\n",
    "        month_embs = self._month_emb(sparse[:, :, 0])\n",
    "        hour_embs = self._hour_emb(sparse[:, :, 1])\n",
    "        weekday_embs = self._weekday_emb(sparse[:, :, 2])\n",
    "        sparse_out = self._sparse_mlp(\n",
    "            torch.cat([month_embs, hour_embs, weekday_embs], dim=-1)\n",
    "        )\n",
    "        attn_input = torch.cat([dense_out, sparse_out], dim=-1)\n",
    "        attn_output, _ = self._multihead_attn(\n",
    "            attn_input, attn_input, attn_input, need_weights=False\n",
    "        )  # [B, 288, 68]\n",
    "        pred = self._over_mlp(attn_output.view(B, -1))\n",
    "        return pred, label\n",
    "\n",
    "    def configure_optimizers(self):\n",
    "        optimizer = torch.optim.SGD(self.parameters(), lr=0.01)\n",
    "        lr_scheduler = torch.optim.lr_scheduler.ExponentialLR(\n",
    "            optimizer, gamma=0.95, verbose=True\n",
    "        )\n",
    "        return [optimizer], [lr_scheduler]"
   ]
  },
  {
   "cell_type": "code",
   "execution_count": 51,
   "id": "90826f22-de3f-4e5e-9949-80b08c16656f",
   "metadata": {
    "executionInfo": {
     "elapsed": 246,
     "status": "ok",
     "timestamp": 1681098242125,
     "user": {
      "displayName": "Minh-Tam Pham",
      "userId": "15961201256875286786"
     },
     "user_tz": 420
    },
    "id": "90826f22-de3f-4e5e-9949-80b08c16656f",
    "tags": []
   },
   "outputs": [],
   "source": [
    "class MyIterableDataset(torch.utils.data.IterableDataset):\n",
    "    def __init__(self, df, years: List[int]):\n",
    "        super(MyIterableDataset).__init__()\n",
    "\n",
    "        self._df = df\n",
    "\n",
    "    def __iter__(self):\n",
    "        worker_info = torch.utils.data.get_worker_info()\n",
    "        assert (\n",
    "            worker_info is None\n",
    "        )  # single-process data loading, return the full iterator\n",
    "\n",
    "        price_list: List[float] = []\n",
    "        dense_list: List[List[float]] = []\n",
    "        month_list: List[int] = []\n",
    "        hour_list: List[int] = []\n",
    "        weekday_list: List[int] = []\n",
    "\n",
    "        for index, row in self._df.iterrows():\n",
    "            # 24 hours for training, 1 hour for ground truth\n",
    "            if len(price_list) == 24 * 12 + 12 * 24:\n",
    "                indices = list(range(0, 24 * 12, 12))\n",
    "                yield torch.tensor(\n",
    "                    [dense_list[i] for i in indices], dtype=torch.float\n",
    "                ), torch.tensor(\n",
    "                    list(\n",
    "                        zip(\n",
    "                            [month_list[i] for i in indices],\n",
    "                            [hour_list[i] for i in indices],\n",
    "                            [weekday_list[i] for i in indices],\n",
    "                        )\n",
    "                    ),\n",
    "                    dtype=torch.int,\n",
    "                ), torch.tensor(\n",
    "                    [\n",
    "                        price_list[24 * 12],\n",
    "                        price_list[24 * 12 + 11],\n",
    "                        price_list[24 * 12 + 12 * 2 - 1],\n",
    "                        price_list[24 * 12 + 12 * 4 - 1],\n",
    "                        price_list[24 * 12 + 12 * 12 - 1],\n",
    "                        price_list[24 * 12 + 12 * 24 - 1],\n",
    "                    ],\n",
    "                    dtype=torch.float,\n",
    "                ),\n",
    "\n",
    "                # 5 minutes, one hour, 2 hours, 4 hours, 12 hours, 24 hours\n",
    "\n",
    "                price_list.pop(0)\n",
    "                dense_list.pop(0)\n",
    "                month_list.pop(0)\n",
    "                hour_list.pop(0)\n",
    "                weekday_list.pop(0)\n",
    "\n",
    "           \n",
    "            try:\n",
    "              curt_dt = datetime.strptime(\n",
    "                  str(row[\"INTERVALSTARTTIME_GMT\"]), \"%Y-%m-%dT%H:%M:00-00:00\"\n",
    "              ) + timedelta(hours=8)\n",
    "            except: \n",
    "              continue\n",
    "            price_list.append(float(row[\"VALUE\"]))\n",
    "            dense_list.append([float(row[\"VALUE\"])] + row[df.columns[-9:]].tolist())\n",
    "            month_list.append(curt_dt.month - 1)\n",
    "            hour_list.append(curt_dt.hour)\n",
    "            weekday_list.append(curt_dt.weekday())\n",
    "\n",
    "\n",
    "train_dataset = MyIterableDataset(df, years=[2020, 2021, 2022])\n",
    "test_dataset = MyIterableDataset(df, years=[2023])"
   ]
  },
  {
   "cell_type": "code",
   "execution_count": 54,
   "id": "04cde994-97ad-443a-9572-28b427536963",
   "metadata": {
    "executionInfo": {
     "elapsed": 166,
     "status": "ok",
     "timestamp": 1681098575639,
     "user": {
      "displayName": "Minh-Tam Pham",
      "userId": "15961201256875286786"
     },
     "user_tz": 420
    },
    "id": "04cde994-97ad-443a-9572-28b427536963",
    "tags": []
   },
   "outputs": [
    {
     "name": "stderr",
     "output_type": "stream",
     "text": [
      "/home/zyan/miniconda3/lib/python3.8/site-packages/torch/nn/modules/lazy.py:180: UserWarning: Lazy modules are a new feature under heavy development so changes to the API or functionality can happen at any moment.\n",
      "  warnings.warn('Lazy modules are a new feature under heavy development '\n"
     ]
    }
   ],
   "source": [
    "def init_weights(m):\n",
    "    if isinstance(m, nn.Linear):\n",
    "        print(f'linear {m}')\n",
    "        torch.nn.init.xavier_uniform(m.weight)\n",
    "        m.bias.data.fill_(0.01)\n",
    "    if isinstance(m, nn.Embedding):\n",
    "        print(f'embedding {m}')\n",
    "        nn.init.uniform_(m.weight, -1.0, 1.0)\n",
    "\n",
    "module = ElectricyMarketPriceModule()\n",
    "\n"
   ]
  },
  {
   "cell_type": "code",
   "execution_count": 55,
   "id": "nhXjr0PNTHNa",
   "metadata": {
    "executionInfo": {
     "elapsed": 739,
     "status": "ok",
     "timestamp": 1681098834066,
     "user": {
      "displayName": "Minh-Tam Pham",
      "userId": "15961201256875286786"
     },
     "user_tz": 420
    },
    "id": "nhXjr0PNTHNa",
    "tags": []
   },
   "outputs": [],
   "source": [
    "from sklearn.preprocessing import StandardScaler\n",
    "from torch import nn\n",
    "from torch.utils.data import DataLoader\n",
    "from tqdm.notebook import tqdm"
   ]
  },
  {
   "cell_type": "code",
   "execution_count": 56,
   "id": "ow1H3DPHSG3T",
   "metadata": {
    "id": "ow1H3DPHSG3T",
    "tags": []
   },
   "outputs": [],
   "source": [
    "batch = next(iter(DataLoader(train_dataset, batch_size=32)))\n"
   ]
  },
  {
   "cell_type": "code",
   "execution_count": 57,
   "id": "djbYXkAvSKZe",
   "metadata": {
    "id": "djbYXkAvSKZe",
    "tags": []
   },
   "outputs": [
    {
     "name": "stdout",
     "output_type": "stream",
     "text": [
      "linear Linear(in_features=10, out_features=32, bias=True)\n",
      "embedding Embedding(12, 32)\n",
      "embedding Embedding(24, 32)\n",
      "embedding Embedding(7, 32)\n",
      "linear Linear(in_features=96, out_features=32, bias=True)\n",
      "linear NonDynamicallyQuantizableLinear(in_features=64, out_features=64, bias=True)\n",
      "linear Linear(in_features=1536, out_features=64, bias=True)\n",
      "linear Linear(in_features=64, out_features=6, bias=True)\n"
     ]
    },
    {
     "name": "stderr",
     "output_type": "stream",
     "text": [
      "/home/zyan/miniconda3/lib/python3.8/site-packages/pytorch_lightning/core/module.py:410: UserWarning: You are trying to `self.log()` but the `self.trainer` reference is not registered on the model yet. This is most likely because the model hasn't been passed to the `Trainer`\n",
      "  rank_zero_warn(\n",
      "/tmp/ipykernel_6018/3358660829.py:4: UserWarning: nn.init.xavier_uniform is now deprecated in favor of nn.init.xavier_uniform_.\n",
      "  torch.nn.init.xavier_uniform(m.weight)\n"
     ]
    },
    {
     "data": {
      "text/plain": [
       "tensor(0.3491, grad_fn=<MseLossBackward0>)"
      ]
     },
     "execution_count": 57,
     "metadata": {},
     "output_type": "execute_result"
    }
   ],
   "source": [
    "module.training_step(batch)\n",
    "module.apply(init_weights)\n",
    "module.training_step(batch)"
   ]
  },
  {
   "cell_type": "code",
   "execution_count": 41,
   "id": "26bdd135-5318-4426-8646-a66b0d32d6d1",
   "metadata": {
    "id": "26bdd135-5318-4426-8646-a66b0d32d6d1",
    "tags": []
   },
   "outputs": [
    {
     "name": "stderr",
     "output_type": "stream",
     "text": [
      "GPU available: True (cuda), used: True\n",
      "TPU available: False, using: 0 TPU cores\n",
      "IPU available: False, using: 0 IPUs\n",
      "HPU available: False, using: 0 HPUs\n",
      "/home/zyan/miniconda3/lib/python3.8/site-packages/pytorch_lightning/trainer/configuration_validator.py:72: PossibleUserWarning: You defined a `validation_step` but have no `val_dataloader`. Skipping val loop.\n",
      "  rank_zero_warn(\n",
      "You are using a CUDA device ('NVIDIA Graphics Device') that has Tensor Cores. To properly utilize them, you should set `torch.set_float32_matmul_precision('medium' | 'high')` which will trade-off precision for performance. For more details, read https://pytorch.org/docs/stable/generated/torch.set_float32_matmul_precision.html#torch.set_float32_matmul_precision\n",
      "LOCAL_RANK: 0 - CUDA_VISIBLE_DEVICES: [0]\n",
      "\n",
      "  | Name            | Type               | Params\n",
      "-------------------------------------------------------\n",
      "0 | _dense_mlp      | Sequential         | 352   \n",
      "1 | _month_emb      | Embedding          | 384   \n",
      "2 | _hour_emb       | Embedding          | 768   \n",
      "3 | _weekday_emb    | Embedding          | 224   \n",
      "4 | _sparse_mlp     | Sequential         | 3.1 K \n",
      "5 | _multihead_attn | MultiheadAttention | 16.6 K\n",
      "6 | _over_mlp       | Sequential         | 98.8 K\n",
      "7 | loss            | MSELoss            | 0     \n",
      "-------------------------------------------------------\n",
      "120 K     Trainable params\n",
      "0         Non-trainable params\n",
      "120 K     Total params\n",
      "0.481     Total estimated model params size (MB)\n"
     ]
    },
    {
     "name": "stdout",
     "output_type": "stream",
     "text": [
      "Adjusting learning rate of group 0 to 1.0000e-02.\n"
     ]
    },
    {
     "name": "stderr",
     "output_type": "stream",
     "text": [
      "/home/zyan/miniconda3/lib/python3.8/site-packages/pytorch_lightning/trainer/connectors/data_connector.py:430: PossibleUserWarning: The dataloader, train_dataloader, does not have many workers which may be a bottleneck. Consider increasing the value of the `num_workers` argument` (try 32 which is the number of cpus on this machine) in the `DataLoader` init to improve performance.\n",
      "  rank_zero_warn(\n"
     ]
    },
    {
     "data": {
      "application/vnd.jupyter.widget-view+json": {
       "model_id": "ce944eaa4e3743cab4b6aef3fb08e86d",
       "version_major": 2,
       "version_minor": 0
      },
      "text/plain": [
       "Training: 0it [00:00, ?it/s]"
      ]
     },
     "metadata": {},
     "output_type": "display_data"
    },
    {
     "name": "stdout",
     "output_type": "stream",
     "text": [
      "Adjusting learning rate of group 0 to 9.5000e-03.\n",
      "Adjusting learning rate of group 0 to 9.0250e-03.\n",
      "Adjusting learning rate of group 0 to 8.5737e-03.\n",
      "Adjusting learning rate of group 0 to 8.1451e-03.\n"
     ]
    },
    {
     "name": "stderr",
     "output_type": "stream",
     "text": [
      "`Trainer.fit` stopped: `max_epochs=5` reached.\n"
     ]
    },
    {
     "name": "stdout",
     "output_type": "stream",
     "text": [
      "Adjusting learning rate of group 0 to 7.7378e-03.\n"
     ]
    }
   ],
   "source": [
    "lr_monitor = LearningRateMonitor(logging_interval=\"epoch\")\n",
    "trainer = pl.Trainer(\n",
    "    max_epochs=1,\n",
    "    callbacks=[lr_monitor],\n",
    "    logger=TensorBoardLogger(\"tb_logs\", name=\"my_model\"),\n",
    "    accelerator=\"gpu\",  # accelerator=\"gpu\",\n",
    ")\n",
    "trainer.fit(module, DataLoader(train_dataset, batch_size=1024))"
   ]
  },
  {
   "cell_type": "code",
   "execution_count": 52,
   "id": "1e0333bf-2c11-4079-9414-0f1348e67560",
   "metadata": {
    "tags": []
   },
   "outputs": [
    {
     "name": "stderr",
     "output_type": "stream",
     "text": [
      "You are using a CUDA device ('NVIDIA Graphics Device') that has Tensor Cores. To properly utilize them, you should set `torch.set_float32_matmul_precision('medium' | 'high')` which will trade-off precision for performance. For more details, read https://pytorch.org/docs/stable/generated/torch.set_float32_matmul_precision.html#torch.set_float32_matmul_precision\n",
      "LOCAL_RANK: 0 - CUDA_VISIBLE_DEVICES: [0]\n"
     ]
    },
    {
     "data": {
      "application/vnd.jupyter.widget-view+json": {
       "model_id": "a080a5a6266a454fa94cd189a7d46a82",
       "version_major": 2,
       "version_minor": 0
      },
      "text/plain": [
       "Predicting: 0it [00:00, ?it/s]"
      ]
     },
     "metadata": {},
     "output_type": "display_data"
    }
   ],
   "source": [
    "res = trainer.predict(module, DataLoader(test_dataset, batch_size=512))"
   ]
  },
  {
   "cell_type": "code",
   "execution_count": 53,
   "id": "0f441702-1f55-439f-8ed9-fab233ff7785",
   "metadata": {
    "colab": {
     "base_uri": "https://localhost:8080/"
    },
    "id": "0f441702-1f55-439f-8ed9-fab233ff7785",
    "outputId": "ba855b5f-2b69-42e9-bb58-bca24b5b9e3b",
    "tags": []
   },
   "outputs": [
    {
     "name": "stdout",
     "output_type": "stream",
     "text": [
      "RMSE Score on Transformer Test set: 0.569\n",
      "MAE Score on Transformer Test set: 0.375\n",
      "MAPE Score on Transformer Test set: 11.503\n"
     ]
    }
   ],
   "source": [
    "from sklearn.metrics import mean_absolute_error, mean_absolute_percentage_error\n",
    "from sklearn.metrics import mean_squared_error as mse\n",
    "from sklearn.metrics import r2_score\n",
    "\n",
    "mses = []\n",
    "maes = []\n",
    "mapes = []\n",
    "\n",
    "for r in res:\n",
    "    pred, test = r\n",
    "    mses.append(np.sqrt(mse(pred, test)))\n",
    "    maes.append(mean_absolute_error(pred, test))\n",
    "    mapes.append(mean_absolute_percentage_error(pred, test))\n",
    "\n",
    "print(f\"RMSE Score on Transformer Test set: {sum(mses)/len(mses):0.3f}\")\n",
    "print(f\"MAE Score on Transformer Test set: {sum(maes)/len(maes):0.3f}\")\n",
    "print(f\"MAPE Score on Transformer Test set: {sum(mapes)/len(mapes):0.3f}\")\n"
   ]
  },
  {
   "cell_type": "markdown",
   "id": "624307f0-0bf4-4216-960b-6fa2ef9ea3ea",
   "metadata": {
    "id": "624307f0-0bf4-4216-960b-6fa2ef9ea3ea"
   },
   "source": [
    "## Trading"
   ]
  },
  {
   "cell_type": "code",
   "execution_count": null,
   "id": "67741384-f053-4a9d-8fd6-3eadc216bc07",
   "metadata": {
    "id": "67741384-f053-4a9d-8fd6-3eadc216bc07",
    "tags": []
   },
   "outputs": [],
   "source": [
    "# baseline: buy at at 9pm - 9am, sell at 9am - 9pm\n",
    "\n",
    "balance = 0.0\n",
    "charged = 0.0\n",
    "naive_dts = []\n",
    "naive_balances = []\n",
    "naive_remainings = []\n",
    "\n",
    "CAPACITY = 13.3\n",
    "CHARGE_SPEED = 3.3\n",
    "\n",
    "price_list: List[float] = []\n",
    "month_list: List[int] = []\n",
    "hour_list: List[int] = []\n",
    "weekday_list: List[int] = []\n",
    "\n",
    "\n",
    "pbar = tqdm(df.iterrows())\n",
    "for index, row in pbar:\n",
    "    price = float(row[\"VALUE\"])\n",
    "    price_list.append(float(row[\"VALUE\"]))\n",
    "    curt_dt = datetime.strptime(\n",
    "        row[\"INTERVALSTARTTIME_GMT\"], \"%Y-%m-%dT%H:%M:00-00:00\"\n",
    "    ) + timedelta(hours=8)\n",
    "    month_list.append(curt_dt.month - 1)\n",
    "    hour_list.append(curt_dt.hour)\n",
    "    weekday_list.append(curt_dt.weekday())\n",
    "\n",
    "    if curt_dt.year != 2022:\n",
    "        if curt_dt.hour == 0:\n",
    "            pbar.set_description(f\"{curt_dt}\")\n",
    "        continue\n",
    "\n",
    "    # trade at minute 0\n",
    "    if curt_dt.minute == 0:\n",
    "        naive_dts.append(curt_dt)\n",
    "        naive_balances.append(balance)\n",
    "        naive_remainings.append(charged)\n",
    "\n",
    "        if curt_dt.hour >= 9 and curt_dt.hour < 21:\n",
    "            if charged > 0:\n",
    "                balance += price * (CAPACITY / 12)\n",
    "                charged -= CAPACITY / 12\n",
    "        else:\n",
    "            if charged < CAPACITY:\n",
    "                balance -= price * (CAPACITY / 12)\n",
    "                charged += CAPACITY / 12\n",
    "\n",
    "        if curt_dt.hour == 0:\n",
    "            pbar.set_description(f\"{curt_dt} {balance}\")"
   ]
  },
  {
   "cell_type": "code",
   "execution_count": null,
   "id": "f1251ed6-382c-4944-9dea-a3c504ea664d",
   "metadata": {
    "id": "f1251ed6-382c-4944-9dea-a3c504ea664d",
    "outputId": "2859f6b5-dae6-4a99-aec3-b90063aaea33"
   },
   "outputs": [
    {
     "data": {
      "image/png": "[encoded data removed]",
      "text/plain": [
       "<Figure size 640x480 with 1 Axes>"
      ]
     },
     "metadata": {},
     "output_type": "display_data"
    }
   ],
   "source": [
    "import matplotlib.pyplot as plt\n",
    "\n",
    "plt.plot(dts, balances, label=\"ML\")\n",
    "plt.plot(naive_dts, naive_balances, label=\"Naive\")\n",
    "plt.xlabel(\"Date\")\n",
    "plt.xticks(rotation=30)\n",
    "plt.ylabel(\"Balance\")\n",
    "plt.legend()\n",
    "plt.show()"
   ]
  },
  {
   "cell_type": "code",
   "execution_count": null,
   "id": "c7d55b77-cbfe-467f-b382-dddc7436a7b5",
   "metadata": {
    "id": "c7d55b77-cbfe-467f-b382-dddc7436a7b5"
   },
   "outputs": [],
   "source": []
  }
 ],
 "metadata": {
  "colab": {
   "provenance": [],
   "toc_visible": true
  },
  "kernelspec": {
   "display_name": "Python 3 (ipykernel)",
   "language": "python",
   "name": "python3"
  },
  "language_info": {
   "codemirror_mode": {
    "name": "ipython",
    "version": 3
   },
   "file_extension": ".py",
   "mimetype": "text/x-python",
   "name": "python",
   "nbconvert_exporter": "python",
   "pygments_lexer": "ipython3",
   "version": "3.8.16"
  }
 },
 "nbformat": 4,
 "nbformat_minor": 5
}
