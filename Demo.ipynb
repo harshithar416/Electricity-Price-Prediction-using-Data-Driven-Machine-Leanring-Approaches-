{
 "cells": [
  {
   "cell_type": "code",
   "execution_count": 1,
   "id": "1e1420a6-ec32-41b6-91e7-6721bc0a68c5",
   "metadata": {},
   "outputs": [
    {
     "name": "stderr",
     "output_type": "stream",
     "text": [
      "2023-03-06 19:45:38.951709: I tensorflow/core/platform/cpu_feature_guard.cc:193] This TensorFlow binary is optimized with oneAPI Deep Neural Network Library (oneDNN) to use the following CPU instructions in performance-critical operations:  SSE4.1 SSE4.2 AVX AVX2 FMA\n",
      "To enable them in other operations, rebuild TensorFlow with the appropriate compiler flags.\n"
     ]
    }
   ],
   "source": [
    "# imports\n",
    "\n",
    "import glob\n",
    "import math\n",
    "import os\n",
    "import pickle\n",
    "import random\n",
    "import tempfile\n",
    "import time\n",
    "import urllib\n",
    "from datetime import datetime, timedelta\n",
    "from io import StringIO\n",
    "from typing import List\n",
    "from zipfile import ZipFile\n",
    "\n",
    "import matplotlib.pyplot as plt\n",
    "import numpy as np\n",
    "import pandas as pd\n",
    "import pytorch_lightning as pl\n",
    "import pytz\n",
    "import seaborn as sns\n",
    "import torch\n",
    "from pandas.plotting import register_matplotlib_converters\n",
    "from pytorch_lightning.callbacks import LearningRateMonitor\n",
    "from pytorch_lightning.loggers import TensorBoardLogger\n",
    "from scipy.stats import normaltest\n",
    "from sklearn.preprocessing import StandardScaler\n",
    "from torch import nn\n",
    "from torch.utils.data import DataLoader\n",
    "from tqdm.notebook import tqdm\n",
    "\n",
    "register_matplotlib_converters()\n",
    "%matplotlib inline\n",
    "sns.set_style(\"whitegrid\")"
   ]
  },
  {
   "cell_type": "code",
   "execution_count": 2,
   "id": "b45c1f7a-591c-4956-b944-6e0c11ba167b",
   "metadata": {
    "tags": []
   },
   "outputs": [],
   "source": [
    "# load preprocessed data from 10 nodes in the bay area\n",
    "\n",
    "df = pd.read_csv(\"processed.csv\")"
   ]
  },
  {
   "cell_type": "code",
   "execution_count": 3,
   "id": "023e61bb-6d5c-4b7f-b8cb-13748a2023d4",
   "metadata": {
    "tags": []
   },
   "outputs": [],
   "source": [
    "df = df.drop(\n",
    "    [\n",
    "        \"Unnamed: 0\",\n",
    "        \"INTERVALENDTIME_GMT\",\n",
    "        \"OPR_DT\",\n",
    "        \"OPR_HR\",\n",
    "        \"NODE_ID_XML\",\n",
    "        \"NODE_ID\",\n",
    "        \"NODE\",\n",
    "        \"MARKET_RUN_ID\",\n",
    "        \"LMP_TYPE\",\n",
    "        \"XML_DATA_ITEM\",\n",
    "        \"PNODE_RESMRID\",\n",
    "        \"GRP_TYPE\",\n",
    "    ],\n",
    "    axis=1,\n",
    ")"
   ]
  },
  {
   "cell_type": "code",
   "execution_count": 4,
   "id": "a88391ab-79b4-46c3-8d96-5aac40747154",
   "metadata": {
    "colab": {
     "base_uri": "https://localhost:8080/"
    },
    "id": "fkGWE7Eg5GnU",
    "outputId": "59d64edc-1505-4a22-d627-ae93025dfac4",
    "tags": []
   },
   "outputs": [
    {
     "name": "stdout",
     "output_type": "stream",
     "text": [
      "\n",
      "Train: 2344464 rows\n",
      "Test:  781488 rows\n",
      "\n",
      "Train set shape: (2344464, 15)\n",
      "Test set shape:  (781488, 15)\n",
      "\n"
     ]
    }
   ],
   "source": [
    "train_set_length = int(round((df.shape[0] * 0.75), 0))\n",
    "test_set_length = df.shape[0] - train_set_length\n",
    "\n",
    "print(f\"\\nTrain: {train_set_length} rows\\nTest:  {test_set_length} rows\")\n",
    "\n",
    "train = df.iloc[:train_set_length]\n",
    "test = df.iloc[train_set_length:]\n",
    "\n",
    "print(f\"\\nTrain set shape: {train.shape}\\nTest set shape:  {test.shape}\\n\")"
   ]
  },
  {
   "cell_type": "code",
   "execution_count": 5,
   "id": "03dfa697-7530-4d0a-b52a-47d852ec4604",
   "metadata": {
    "id": "ZMC6T4su5LVh",
    "tags": []
   },
   "outputs": [],
   "source": [
    "train = train.set_index(\"INTERVALSTARTTIME_GMT\")\n",
    "test = test.set_index(\"INTERVALSTARTTIME_GMT\")"
   ]
  },
  {
   "cell_type": "code",
   "execution_count": 6,
   "id": "4eb9d003-fc88-4183-b883-98eb1b4f0f27",
   "metadata": {
    "tags": []
   },
   "outputs": [
    {
     "name": "stdout",
     "output_type": "stream",
     "text": [
      "13\n",
      "['POS', 'OPR_INTERVAL', 'GROUP', 'HOUR', '2DA', '7DA', 'ACTUAL', 'DAM', 'ETo (in)', 'Precip (in)', 'Rel Hum (%)', 'Wind Speed (mph)', 'Soil Temp (F)']\n"
     ]
    }
   ],
   "source": [
    "features = [col for col in train.columns if col != \"VALUE\"]\n",
    "print(len(features))\n",
    "print(features)"
   ]
  },
  {
   "cell_type": "code",
   "execution_count": 7,
   "id": "36599712-5490-4127-84b4-a7a737f0129b",
   "metadata": {
    "id": "JtpYLkvJ5tV-",
    "tags": []
   },
   "outputs": [],
   "source": [
    "X_train = train[features]\n",
    "y_train = train[\"VALUE\"]\n",
    "\n",
    "X_test = test[features]\n",
    "y_test = test[\"VALUE\"]"
   ]
  },
  {
   "cell_type": "markdown",
   "id": "6b8c89e7-b921-423c-95e9-3a224ca0c442",
   "metadata": {},
   "source": [
    "# Classic Machine Learning Models"
   ]
  },
  {
   "cell_type": "markdown",
   "id": "3bd4f1db-5137-4ef8-a97c-622262892bd1",
   "metadata": {},
   "source": [
    "## Linear Regression\n",
    "\n",
    "Linear Regression is the most basic regression model."
   ]
  },
  {
   "cell_type": "code",
   "execution_count": 47,
   "id": "8b339c3d-a7b7-4fc9-8207-9c38c5518a51",
   "metadata": {
    "tags": []
   },
   "outputs": [],
   "source": [
    "from sklearn.linear_model import LinearRegression\n",
    "\n",
    "reg = LinearRegression().fit(X_train, y_train)"
   ]
  },
  {
   "cell_type": "code",
   "execution_count": 48,
   "id": "2ab50126-38cd-4a62-8d0d-66be2c184427",
   "metadata": {
    "tags": []
   },
   "outputs": [],
   "source": [
    "prediction = reg.predict(X_test)"
   ]
  },
  {
   "cell_type": "code",
   "execution_count": 50,
   "id": "f3fd6667-ef1c-4a2e-81e2-584dd0983c5a",
   "metadata": {
    "colab": {
     "base_uri": "https://localhost:8080/"
    },
    "executionInfo": {
     "elapsed": 162,
     "status": "ok",
     "timestamp": 1677304371575,
     "user": {
      "displayName": "Minh-Tam Pham",
      "userId": "15961201256875286786"
     },
     "user_tz": 480
    },
    "id": "p_at_FvDFHZN",
    "outputId": "026773b3-3e3c-4d6e-8acd-4aab5f8152c2",
    "tags": []
   },
   "outputs": [
    {
     "name": "stdout",
     "output_type": "stream",
     "text": [
      "RMSE Score on LinearRegression Test set: 1.065\n",
      "MAE Score on LinearRegression Test set: 0.479\n",
      "MAPE Score on LinearRegression Test set: 1.562\n",
      "R2 Score on LinearRegression Test set: -0.011\n"
     ]
    }
   ],
   "source": [
    "from sklearn.metrics import mean_absolute_error, mean_absolute_percentage_error\n",
    "from sklearn.metrics import mean_squared_error as mse\n",
    "from sklearn.metrics import r2_score\n",
    "\n",
    "score = np.sqrt(mse(y_test, prediction))\n",
    "print(f\"RMSE Score on LinearRegression Test set: {score:0.3f}\")\n",
    "mae = mean_absolute_error(y_test, prediction)\n",
    "print(f\"MAE Score on LinearRegression Test set: {mae:0.3f}\")\n",
    "mape = mean_absolute_percentage_error(y_test, prediction)\n",
    "print(f\"MAPE Score on LinearRegression Test set: {mape:0.3f}\")\n",
    "r2 = r2_score(y_test, prediction)\n",
    "print(f\"R2 Score on LinearRegression Test set: {r2:0.3f}\")"
   ]
  },
  {
   "cell_type": "markdown",
   "id": "a30523bc-d82e-49d1-ae64-ea6fcaad75f2",
   "metadata": {},
   "source": [
    "## XGBoost\n",
    "\n",
    "XGBoost (eXtreme Gradient Boosting) is an open-source software library which provides a regularizing gradient boosting framework. It aims to provide a \"Scalable, Portable and Distributed Gradient Boosting (GBM, GBRT, GBDT) Library\". It runs on a single machine, as well as the distributed processing frameworks Apache Hadoop, Apache Spark, Apache Flink, and Dask.\n",
    "\n"
   ]
  },
  {
   "cell_type": "code",
   "execution_count": 51,
   "id": "79224371-6f7e-4f40-8f9f-dd3eab18e5e6",
   "metadata": {
    "tags": []
   },
   "outputs": [
    {
     "name": "stdout",
     "output_type": "stream",
     "text": [
      "[20:06:14] WARNING: /croot/xgboost-split_1675457761144/work/src/objective/regression_obj.cu:213: reg:linear is now deprecated in favor of reg:squarederror.\n",
      "[0]\tvalidation_0-rmse:1.10761\tvalidation_1-rmse:1.13717\n",
      "[100]\tvalidation_0-rmse:0.95275\tvalidation_1-rmse:1.05259\n",
      "[200]\tvalidation_0-rmse:0.92183\tvalidation_1-rmse:1.04798\n",
      "[223]\tvalidation_0-rmse:0.91895\tvalidation_1-rmse:1.04832\n"
     ]
    },
    {
     "data": {
      "text/html": [
       "<style>#sk-container-id-1 {color: black;background-color: white;}#sk-container-id-1 pre{padding: 0;}#sk-container-id-1 div.sk-toggleable {background-color: white;}#sk-container-id-1 label.sk-toggleable__label {cursor: pointer;display: block;width: 100%;margin-bottom: 0;padding: 0.3em;box-sizing: border-box;text-align: center;}#sk-container-id-1 label.sk-toggleable__label-arrow:before {content: \"▸\";float: left;margin-right: 0.25em;color: #696969;}#sk-container-id-1 label.sk-toggleable__label-arrow:hover:before {color: black;}#sk-container-id-1 div.sk-estimator:hover label.sk-toggleable__label-arrow:before {color: black;}#sk-container-id-1 div.sk-toggleable__content {max-height: 0;max-width: 0;overflow: hidden;text-align: left;background-color: #f0f8ff;}#sk-container-id-1 div.sk-toggleable__content pre {margin: 0.2em;color: black;border-radius: 0.25em;background-color: #f0f8ff;}#sk-container-id-1 input.sk-toggleable__control:checked~div.sk-toggleable__content {max-height: 200px;max-width: 100%;overflow: auto;}#sk-container-id-1 input.sk-toggleable__control:checked~label.sk-toggleable__label-arrow:before {content: \"▾\";}#sk-container-id-1 div.sk-estimator input.sk-toggleable__control:checked~label.sk-toggleable__label {background-color: #d4ebff;}#sk-container-id-1 div.sk-label input.sk-toggleable__control:checked~label.sk-toggleable__label {background-color: #d4ebff;}#sk-container-id-1 input.sk-hidden--visually {border: 0;clip: rect(1px 1px 1px 1px);clip: rect(1px, 1px, 1px, 1px);height: 1px;margin: -1px;overflow: hidden;padding: 0;position: absolute;width: 1px;}#sk-container-id-1 div.sk-estimator {font-family: monospace;background-color: #f0f8ff;border: 1px dotted black;border-radius: 0.25em;box-sizing: border-box;margin-bottom: 0.5em;}#sk-container-id-1 div.sk-estimator:hover {background-color: #d4ebff;}#sk-container-id-1 div.sk-parallel-item::after {content: \"\";width: 100%;border-bottom: 1px solid gray;flex-grow: 1;}#sk-container-id-1 div.sk-label:hover label.sk-toggleable__label {background-color: #d4ebff;}#sk-container-id-1 div.sk-serial::before {content: \"\";position: absolute;border-left: 1px solid gray;box-sizing: border-box;top: 0;bottom: 0;left: 50%;z-index: 0;}#sk-container-id-1 div.sk-serial {display: flex;flex-direction: column;align-items: center;background-color: white;padding-right: 0.2em;padding-left: 0.2em;position: relative;}#sk-container-id-1 div.sk-item {position: relative;z-index: 1;}#sk-container-id-1 div.sk-parallel {display: flex;align-items: stretch;justify-content: center;background-color: white;position: relative;}#sk-container-id-1 div.sk-item::before, #sk-container-id-1 div.sk-parallel-item::before {content: \"\";position: absolute;border-left: 1px solid gray;box-sizing: border-box;top: 0;bottom: 0;left: 50%;z-index: -1;}#sk-container-id-1 div.sk-parallel-item {display: flex;flex-direction: column;z-index: 1;position: relative;background-color: white;}#sk-container-id-1 div.sk-parallel-item:first-child::after {align-self: flex-end;width: 50%;}#sk-container-id-1 div.sk-parallel-item:last-child::after {align-self: flex-start;width: 50%;}#sk-container-id-1 div.sk-parallel-item:only-child::after {width: 0;}#sk-container-id-1 div.sk-dashed-wrapped {border: 1px dashed gray;margin: 0 0.4em 0.5em 0.4em;box-sizing: border-box;padding-bottom: 0.4em;background-color: white;}#sk-container-id-1 div.sk-label label {font-family: monospace;font-weight: bold;display: inline-block;line-height: 1.2em;}#sk-container-id-1 div.sk-label-container {text-align: center;}#sk-container-id-1 div.sk-container {/* jupyter's `normalize.less` sets `[hidden] { display: none; }` but bootstrap.min.css set `[hidden] { display: none !important; }` so we also need the `!important` here to be able to override the default hidden behavior on the sphinx rendered scikit-learn.org. See: https://github.com/scikit-learn/scikit-learn/issues/21755 */display: inline-block !important;position: relative;}#sk-container-id-1 div.sk-text-repr-fallback {display: none;}</style><div id=\"sk-container-id-1\" class=\"sk-top-container\"><div class=\"sk-text-repr-fallback\"><pre>XGBRegressor(base_score=0.5, booster=&#x27;gbtree&#x27;, callbacks=None,\n",
       "             colsample_bylevel=None, colsample_bynode=None,\n",
       "             colsample_bytree=None, early_stopping_rounds=50,\n",
       "             enable_categorical=False, eval_metric=None, feature_types=None,\n",
       "             gamma=None, gpu_id=None, grow_policy=None, importance_type=None,\n",
       "             interaction_constraints=None, learning_rate=0.01, max_bin=None,\n",
       "             max_cat_threshold=None, max_cat_to_onehot=None,\n",
       "             max_delta_step=None, max_depth=10, max_leaves=None,\n",
       "             min_child_weight=None, missing=nan, monotone_constraints=None,\n",
       "             n_estimators=10000, n_jobs=None, num_parallel_tree=None,\n",
       "             objective=&#x27;reg:linear&#x27;, predictor=None, ...)</pre><b>In a Jupyter environment, please rerun this cell to show the HTML representation or trust the notebook. <br />On GitHub, the HTML representation is unable to render, please try loading this page with nbviewer.org.</b></div><div class=\"sk-container\" hidden><div class=\"sk-item\"><div class=\"sk-estimator sk-toggleable\"><input class=\"sk-toggleable__control sk-hidden--visually\" id=\"sk-estimator-id-1\" type=\"checkbox\" checked><label for=\"sk-estimator-id-1\" class=\"sk-toggleable__label sk-toggleable__label-arrow\">XGBRegressor</label><div class=\"sk-toggleable__content\"><pre>XGBRegressor(base_score=0.5, booster=&#x27;gbtree&#x27;, callbacks=None,\n",
       "             colsample_bylevel=None, colsample_bynode=None,\n",
       "             colsample_bytree=None, early_stopping_rounds=50,\n",
       "             enable_categorical=False, eval_metric=None, feature_types=None,\n",
       "             gamma=None, gpu_id=None, grow_policy=None, importance_type=None,\n",
       "             interaction_constraints=None, learning_rate=0.01, max_bin=None,\n",
       "             max_cat_threshold=None, max_cat_to_onehot=None,\n",
       "             max_delta_step=None, max_depth=10, max_leaves=None,\n",
       "             min_child_weight=None, missing=nan, monotone_constraints=None,\n",
       "             n_estimators=10000, n_jobs=None, num_parallel_tree=None,\n",
       "             objective=&#x27;reg:linear&#x27;, predictor=None, ...)</pre></div></div></div></div></div>"
      ],
      "text/plain": [
       "XGBRegressor(base_score=0.5, booster='gbtree', callbacks=None,\n",
       "             colsample_bylevel=None, colsample_bynode=None,\n",
       "             colsample_bytree=None, early_stopping_rounds=50,\n",
       "             enable_categorical=False, eval_metric=None, feature_types=None,\n",
       "             gamma=None, gpu_id=None, grow_policy=None, importance_type=None,\n",
       "             interaction_constraints=None, learning_rate=0.01, max_bin=None,\n",
       "             max_cat_threshold=None, max_cat_to_onehot=None,\n",
       "             max_delta_step=None, max_depth=10, max_leaves=None,\n",
       "             min_child_weight=None, missing=nan, monotone_constraints=None,\n",
       "             n_estimators=10000, n_jobs=None, num_parallel_tree=None,\n",
       "             objective='reg:linear', predictor=None, ...)"
      ]
     },
     "execution_count": 51,
     "metadata": {},
     "output_type": "execute_result"
    }
   ],
   "source": [
    "# Xgboost\n",
    "import matplotlib.pyplot as plt\n",
    "import numpy as np\n",
    "import pandas as pd\n",
    "import seaborn as sns\n",
    "import xgboost as xgb\n",
    "from sklearn.metrics import mean_squared_error\n",
    "\n",
    "color_pal = sns.color_palette()\n",
    "plt.style.use(\"fivethirtyeight\")\n",
    "\n",
    "reg = xgb.XGBRegressor(\n",
    "    base_score=0.5,\n",
    "    booster=\"gbtree\",\n",
    "    n_estimators=10000,\n",
    "    early_stopping_rounds=50,\n",
    "    objective=\"reg:linear\",\n",
    "    max_depth=10,\n",
    "    learning_rate=0.01,\n",
    ")\n",
    "reg.fit(X_train, y_train, eval_set=[(X_train, y_train), (X_test, y_test)], verbose=100)"
   ]
  },
  {
   "cell_type": "code",
   "execution_count": 52,
   "id": "426b045f-4bc2-470c-9617-57efa1d9c396",
   "metadata": {
    "id": "37UsjCCH7CP_",
    "tags": []
   },
   "outputs": [],
   "source": [
    "prediction = reg.predict(X_test)"
   ]
  },
  {
   "cell_type": "code",
   "execution_count": 53,
   "id": "de4c7b60-8e68-46f4-9f26-0a2d3fcb5565",
   "metadata": {
    "colab": {
     "base_uri": "https://localhost:8080/"
    },
    "executionInfo": {
     "elapsed": 162,
     "status": "ok",
     "timestamp": 1677304371575,
     "user": {
      "displayName": "Minh-Tam Pham",
      "userId": "15961201256875286786"
     },
     "user_tz": 480
    },
    "id": "p_at_FvDFHZN",
    "outputId": "026773b3-3e3c-4d6e-8acd-4aab5f8152c2",
    "tags": []
   },
   "outputs": [
    {
     "name": "stdout",
     "output_type": "stream",
     "text": [
      "RMSE Score on XGBRegressor Test set: 1.048\n",
      "MAE Score on XGBRegressor Test set: 0.495\n",
      "MAPE Score on XGBRegressor Test set: 2.790\n",
      "R2 Score on XGBRegressor Test set: 0.022\n"
     ]
    }
   ],
   "source": [
    "from sklearn.metrics import mean_absolute_error, mean_absolute_percentage_error\n",
    "from sklearn.metrics import mean_squared_error as mse\n",
    "from sklearn.metrics import r2_score\n",
    "\n",
    "score = np.sqrt(mse(y_test, prediction))\n",
    "print(f\"RMSE Score on XGBRegressor Test set: {score:0.3f}\")\n",
    "mae = mean_absolute_error(y_test, prediction)\n",
    "print(f\"MAE Score on XGBRegressor Test set: {mae:0.3f}\")\n",
    "mape = mean_absolute_percentage_error(y_test, prediction)\n",
    "print(f\"MAPE Score on XGBRegressor Test set: {mape:0.3f}\")\n",
    "r2 = r2_score(y_test, prediction)\n",
    "print(f\"R2 Score on XGBRegressor Test set: {r2:0.3f}\")"
   ]
  },
  {
   "cell_type": "markdown",
   "id": "7c9e2d89-e0fa-483c-8b29-1580eb97d194",
   "metadata": {},
   "source": [
    "# Innovative Machine Learning Models"
   ]
  },
  {
   "cell_type": "markdown",
   "id": "a4bb73f8-eb9e-4797-a320-a5b4a8630263",
   "metadata": {},
   "source": [
    "## RNN (LSTM, GRU)"
   ]
  },
  {
   "cell_type": "code",
   "execution_count": 54,
   "id": "7fa11cb2-3b9c-48ba-a174-ee6d31bb8e40",
   "metadata": {
    "id": "u44N3_6Y8YNc",
    "tags": []
   },
   "outputs": [],
   "source": [
    "import tensorflow as tf\n",
    "from keras import regularizers\n",
    "from keras.layers import GRU, LSTM, Dense, Dropout\n",
    "from keras.models import Sequential\n",
    "from keras.optimizers import Adam\n",
    "from keras.preprocessing.sequence import TimeseriesGenerator\n",
    "from sklearn.metrics import accuracy_score\n",
    "from sklearn.model_selection import train_test_split"
   ]
  },
  {
   "cell_type": "code",
   "execution_count": 55,
   "id": "13442886-d978-4fab-bae3-e6b4d4f37cb9",
   "metadata": {
    "id": "hA_KZ8EB8KAX",
    "tags": []
   },
   "outputs": [],
   "source": [
    "# Time Series Generator Parameters\n",
    "\n",
    "lookback_length = 12\n",
    "batch_size = 64"
   ]
  },
  {
   "cell_type": "code",
   "execution_count": 56,
   "id": "0fa13ea2-093c-4819-8adf-65cd12837fd7",
   "metadata": {
    "id": "y8earks68KDn",
    "tags": []
   },
   "outputs": [],
   "source": [
    "train_sequences = TimeseriesGenerator(\n",
    "    X_train, y_train, length=lookback_length, batch_size=batch_size\n",
    ")\n",
    "batch_x, batch_y = train_sequences[0]"
   ]
  },
  {
   "cell_type": "code",
   "execution_count": 57,
   "id": "840e8b98-051a-4930-84a5-51b775081f2a",
   "metadata": {
    "id": "hlFFXLvF8KGp",
    "tags": []
   },
   "outputs": [],
   "source": [
    "test_sequences = TimeseriesGenerator(\n",
    "    X_test, y_test, length=lookback_length, batch_size=batch_size\n",
    ")\n",
    "\n",
    "batch_x_test, batch_y_test = train_sequences[0]"
   ]
  },
  {
   "cell_type": "code",
   "execution_count": 58,
   "id": "ba96c1a3-41d8-47ff-93e5-3cbb8b80f43c",
   "metadata": {
    "colab": {
     "base_uri": "https://localhost:8080/"
    },
    "id": "PVV-4zw4MLb2",
    "outputId": "b40602bf-139f-4d2b-ab28-c85d451634f6",
    "tags": []
   },
   "outputs": [
    {
     "name": "stdout",
     "output_type": "stream",
     "text": [
      "Model: \"sequential\"\n",
      "_________________________________________________________________\n",
      " Layer (type)                Output Shape              Param #   \n",
      "=================================================================\n",
      " gru (GRU)                   (None, 12, 16)            1488      \n",
      "                                                                 \n",
      " gru_1 (GRU)                 (None, 16)                1632      \n",
      "                                                                 \n",
      " dense_34 (Dense)            (None, 32)                544       \n",
      "                                                                 \n",
      " dense_35 (Dense)            (None, 16)                528       \n",
      "                                                                 \n",
      " dense_36 (Dense)            (None, 8)                 136       \n",
      "                                                                 \n",
      " dense_37 (Dense)            (None, 1)                 9         \n",
      "                                                                 \n",
      "=================================================================\n",
      "Total params: 4,337\n",
      "Trainable params: 4,337\n",
      "Non-trainable params: 0\n",
      "_________________________________________________________________\n"
     ]
    }
   ],
   "source": [
    "with tf.device(\"/gpu:0\"):\n",
    "    model = Sequential()\n",
    "\n",
    "    model.add(\n",
    "        GRU(16, input_shape=(batch_x.shape[1], batch_x.shape[2]), return_sequences=True)\n",
    "    )\n",
    "\n",
    "    model.add(GRU(16))\n",
    "\n",
    "    model.add(Dense(32, activation=\"relu\"))\n",
    "    # model.add(Dropout(0.1))                  # refers to nodes in the first hidden layer\n",
    "\n",
    "    model.add(Dense(16, activation=\"relu\"))\n",
    "    # model.add(Dropout(0.1))\n",
    "\n",
    "    model.add(Dense(8, activation=\"relu\"))\n",
    "    # model.add(Dropout(0.1))\n",
    "\n",
    "    model.add(Dense(1, activation=\"linear\"))\n",
    "\n",
    "    model.summary()"
   ]
  },
  {
   "cell_type": "code",
   "execution_count": 59,
   "id": "0c7c7653-b874-4bea-a47c-3913cdac2d23",
   "metadata": {
    "colab": {
     "base_uri": "https://localhost:8080/"
    },
    "id": "EOkC1Kq0MLZR",
    "outputId": "6f624b9f-305f-40eb-f474-5bf105092cfc"
   },
   "outputs": [
    {
     "name": "stderr",
     "output_type": "stream",
     "text": [
      "/home/zyan/miniconda3/lib/python3.8/site-packages/keras/optimizers/optimizer_v2/adam.py:117: UserWarning: The `lr` argument is deprecated, use `learning_rate` instead.\n",
      "  super().__init__(name, **kwargs)\n",
      "/tmp/ipykernel_4987/3278019805.py:6: UserWarning: `Model.fit_generator` is deprecated and will be removed in a future version. Please use `Model.fit`, which supports generators.\n",
      "  history = model.fit_generator(\n"
     ]
    },
    {
     "name": "stdout",
     "output_type": "stream",
     "text": [
      "36633/36633 [==============================] - 397s 11ms/step - loss: 0.9517 - val_loss: 1.1246\n"
     ]
    }
   ],
   "source": [
    "# GRU\n",
    "\n",
    "with tf.device(\"/gpu:0\"):\n",
    "    model.compile(optimizer=Adam(lr=0.0005), loss=\"mean_squared_error\")\n",
    "\n",
    "    history = model.fit_generator(\n",
    "        train_sequences,\n",
    "        validation_data=test_sequences,\n",
    "        epochs=1,\n",
    "        verbose=1,\n",
    "        use_multiprocessing=True,\n",
    "    )"
   ]
  },
  {
   "cell_type": "code",
   "execution_count": 60,
   "id": "9e658c0d-e4b5-4ec9-9379-d8c348c671c7",
   "metadata": {
    "colab": {
     "base_uri": "https://localhost:8080/"
    },
    "id": "rSpmBk-S71Ml",
    "outputId": "ba855b5f-2b69-42e9-bb58-bca24b5b9e3b"
   },
   "outputs": [
    {
     "name": "stdout",
     "output_type": "stream",
     "text": [
      "2/2 [==============================] - 0s 2ms/step\n",
      "RMSE Score on GRU Test set: 0.277\n",
      "MAE Score on GRU Test set: 0.276\n",
      "MAPE Score on GRU Test set: 2.404\n",
      "R2 Score on GRU Test set: -19712.803\n"
     ]
    }
   ],
   "source": [
    "from sklearn.metrics import mean_absolute_error, mean_absolute_percentage_error\n",
    "from sklearn.metrics import mean_squared_error as mse\n",
    "from sklearn.metrics import r2_score\n",
    "\n",
    "pred = model.predict(batch_x_test)\n",
    "score = np.sqrt(mse(pred, batch_y_test))\n",
    "print(f\"RMSE Score on GRU Test set: {score:0.3f}\")\n",
    "mae = mean_absolute_error(pred, batch_y_test)\n",
    "print(f\"MAE Score on GRU Test set: {mae:0.3f}\")\n",
    "mape = mean_absolute_percentage_error(pred, batch_y_test)\n",
    "print(f\"MAPE Score on GRU Test set: {mape:0.3f}\")\n",
    "r2 = r2_score(pred, batch_y_test)\n",
    "print(f\"R2 Score on GRU Test set: {r2:0.3f}\")"
   ]
  },
  {
   "cell_type": "code",
   "execution_count": 61,
   "id": "6c65c69e-dbbb-44da-acfa-0d190533ab50",
   "metadata": {
    "colab": {
     "base_uri": "https://localhost:8080/"
    },
    "id": "_sAqDnv0krAt",
    "outputId": "89599af4-6a33-4f78-f54b-8ab288b34989",
    "tags": []
   },
   "outputs": [
    {
     "name": "stdout",
     "output_type": "stream",
     "text": [
      "Model: \"sequential_1\"\n",
      "_________________________________________________________________\n",
      " Layer (type)                Output Shape              Param #   \n",
      "=================================================================\n",
      " lstm (LSTM)                 (None, 12, 120)           64320     \n",
      "                                                                 \n",
      " lstm_1 (LSTM)               (None, 12, 80)            64320     \n",
      "                                                                 \n",
      " lstm_2 (LSTM)               (None, 40)                19360     \n",
      "                                                                 \n",
      " dense_38 (Dense)            (None, 1)                 41        \n",
      "                                                                 \n",
      "=================================================================\n",
      "Total params: 148,041\n",
      "Trainable params: 148,041\n",
      "Non-trainable params: 0\n",
      "_________________________________________________________________\n"
     ]
    }
   ],
   "source": [
    "# %%LSTM Model\n",
    "model1 = Sequential()\n",
    "model1.add(\n",
    "    LSTM(\n",
    "        120,\n",
    "        return_sequences=True,\n",
    "        input_shape=(batch_x.shape[1], batch_x.shape[2]),\n",
    "    )\n",
    ")\n",
    "model1.add(LSTM(80, return_sequences=True))\n",
    "model1.add(LSTM(40))\n",
    "model1.add(Dense(1))\n",
    "model1.compile(loss=\"mean_squared_error\", optimizer=\"adam\")\n",
    "model1.summary()"
   ]
  },
  {
   "cell_type": "code",
   "execution_count": 62,
   "id": "70810c8b-1c95-43ba-b0b3-6cc299efb92e",
   "metadata": {
    "colab": {
     "base_uri": "https://localhost:8080/"
    },
    "id": "YRj21zgEmbfR",
    "outputId": "87a3e468-8803-40fa-8a2e-45d861786655",
    "tags": []
   },
   "outputs": [
    {
     "name": "stdout",
     "output_type": "stream",
     "text": [
      "   22/36633 [..............................] - ETA: 3:00 - loss: 0.6058"
     ]
    },
    {
     "name": "stderr",
     "output_type": "stream",
     "text": [
      "/home/zyan/miniconda3/lib/python3.8/site-packages/keras/optimizers/optimizer_v2/adam.py:117: UserWarning: The `lr` argument is deprecated, use `learning_rate` instead.\n",
      "  super().__init__(name, **kwargs)\n",
      "/tmp/ipykernel_4987/2376662000.py:4: UserWarning: `Model.fit_generator` is deprecated and will be removed in a future version. Please use `Model.fit`, which supports generators.\n",
      "  history1 = model.fit_generator(\n"
     ]
    },
    {
     "name": "stdout",
     "output_type": "stream",
     "text": [
      "36633/36633 [==============================] - 219s 6ms/step - loss: 0.9392 - val_loss: 1.1140\n"
     ]
    }
   ],
   "source": [
    "# LSTM\n",
    "model1.compile(optimizer=Adam(lr=0.0005), loss=\"mean_squared_error\")\n",
    "\n",
    "history1 = model.fit_generator(\n",
    "    train_sequences, validation_data=test_sequences, epochs=1, verbose=1\n",
    ")"
   ]
  },
  {
   "cell_type": "code",
   "execution_count": 63,
   "id": "d08f0dd1-7314-4c42-bc8f-7ec757cd856a",
   "metadata": {
    "colab": {
     "base_uri": "https://localhost:8080/"
    },
    "id": "rSpmBk-S71Ml",
    "outputId": "ba855b5f-2b69-42e9-bb58-bca24b5b9e3b"
   },
   "outputs": [
    {
     "name": "stdout",
     "output_type": "stream",
     "text": [
      "2/2 [==============================] - 0s 2ms/step\n",
      "RMSE Score on LSTM Test set: 0.225\n",
      "MAE Score on LSTM Test set: 0.223\n",
      "MAPE Score on LSTM Test set: 1.335\n",
      "R2 Score on LSTM Test set: -1838.638\n"
     ]
    }
   ],
   "source": [
    "from sklearn.metrics import mean_absolute_error, mean_absolute_percentage_error\n",
    "from sklearn.metrics import mean_squared_error as mse\n",
    "from sklearn.metrics import r2_score\n",
    "\n",
    "pred = model.predict(batch_x_test)\n",
    "score = np.sqrt(mse(pred, batch_y_test))\n",
    "print(f\"RMSE Score on LSTM Test set: {score:0.3f}\")\n",
    "mae = mean_absolute_error(pred, batch_y_test)\n",
    "print(f\"MAE Score on LSTM Test set: {mae:0.3f}\")\n",
    "mape = mean_absolute_percentage_error(pred, batch_y_test)\n",
    "print(f\"MAPE Score on LSTM Test set: {mape:0.3f}\")\n",
    "r2 = r2_score(pred, batch_y_test)\n",
    "print(f\"R2 Score on LSTM Test set: {r2:0.3f}\")"
   ]
  },
  {
   "cell_type": "code",
   "execution_count": 8,
   "id": "c545bd3a-58ef-409d-a3a2-f2acb53d11dd",
   "metadata": {
    "colab": {
     "base_uri": "https://localhost:8080/"
    },
    "id": "_sAqDnv0krAt",
    "outputId": "89599af4-6a33-4f78-f54b-8ab288b34989",
    "tags": []
   },
   "outputs": [],
   "source": [
    "# Transformer\n",
    "from tensorflow import keras\n",
    "from tensorflow.keras import layers\n",
    "\n",
    "def transformer_encoder(inputs, head_size, num_heads, ff_dim, dropout=0):\n",
    "    # Normalization and Attention\n",
    "    x = layers.LayerNormalization(epsilon=1e-6)(inputs)\n",
    "    x = layers.MultiHeadAttention(\n",
    "        key_dim=head_size, num_heads=num_heads, dropout=dropout\n",
    "    )(x, x)\n",
    "    x = layers.Dropout(dropout)(x)\n",
    "    res = x + inputs\n",
    " \n",
    "    # Feed Forward Part\n",
    "    x = layers.LayerNormalization(epsilon=1e-6)(res)\n",
    "    x = layers.Conv1D(filters=ff_dim, kernel_size=1, activation=\"relu\")(x)\n",
    "    x = layers.Dropout(dropout)(x)\n",
    "    x = layers.Conv1D(filters=inputs.shape[-1], kernel_size=1)(x)\n",
    "    return x + res\n",
    "\n",
    "# Attention layer\n",
    "def build_model(\n",
    "    input_shape,\n",
    "    head_size,\n",
    "    num_heads,\n",
    "    ff_dim,\n",
    "    num_transformer_blocks,\n",
    "    mlp_units,\n",
    "    dropout=0,\n",
    "    mlp_dropout=0,\n",
    "):\n",
    "    inputs = keras.Input(shape=input_shape)\n",
    "    x = inputs\n",
    "    for _ in range(num_transformer_blocks):\n",
    "        x = transformer_encoder(x, head_size, num_heads, ff_dim, dropout)\n",
    "\n",
    "    x = layers.GlobalAveragePooling1D(data_format=\"channels_first\")(x)\n",
    "    for dim in mlp_units:\n",
    "        x = layers.Dense(dim, activation=\"relu\")(x)\n",
    "        x = layers.Dropout(mlp_dropout)(x)\n",
    "    outputs = layers.Dense(1)(x)\n",
    "    return keras.Model(inputs, outputs)\n",
    "\n"
   ]
  },
  {
   "cell_type": "code",
   "execution_count": 44,
   "id": "4e87f079-a5b4-4e31-ac5b-c20b608373dd",
   "metadata": {
    "colab": {
     "base_uri": "https://localhost:8080/"
    },
    "id": "YRj21zgEmbfR",
    "outputId": "87a3e468-8803-40fa-8a2e-45d861786655",
    "tags": []
   },
   "outputs": [
    {
     "name": "stdout",
     "output_type": "stream",
     "text": [
      "Epoch 1/100\n",
      "1/1 [==============================] - 3s 3s/step - loss: 0.2240 - val_loss: 0.0350\n",
      "Epoch 2/100\n",
      "1/1 [==============================] - 0s 107ms/step - loss: 0.1671 - val_loss: 0.0363\n",
      "Epoch 3/100\n",
      "1/1 [==============================] - 0s 98ms/step - loss: 0.1355 - val_loss: 0.0378\n",
      "Epoch 4/100\n",
      "1/1 [==============================] - 0s 97ms/step - loss: 0.0941 - val_loss: 0.0404\n",
      "Epoch 5/100\n",
      "1/1 [==============================] - 0s 101ms/step - loss: 0.0805 - val_loss: 0.0416\n",
      "Epoch 6/100\n",
      "1/1 [==============================] - 0s 99ms/step - loss: 0.0768 - val_loss: 0.0418\n",
      "Epoch 7/100\n",
      "1/1 [==============================] - 0s 100ms/step - loss: 0.0774 - val_loss: 0.0420\n",
      "Epoch 8/100\n",
      "1/1 [==============================] - 0s 97ms/step - loss: 0.0722 - val_loss: 0.0386\n",
      "Epoch 9/100\n",
      "1/1 [==============================] - 0s 98ms/step - loss: 0.0575 - val_loss: 0.0359\n",
      "Epoch 10/100\n",
      "1/1 [==============================] - 0s 102ms/step - loss: 0.0762 - val_loss: 0.0340\n",
      "Epoch 11/100\n",
      "1/1 [==============================] - 0s 103ms/step - loss: 0.0759 - val_loss: 0.0307\n",
      "Epoch 12/100\n",
      "1/1 [==============================] - 0s 103ms/step - loss: 0.0651 - val_loss: 0.0273\n",
      "Epoch 13/100\n",
      "1/1 [==============================] - 0s 102ms/step - loss: 0.0405 - val_loss: 0.0242\n",
      "Epoch 14/100\n",
      "1/1 [==============================] - 0s 102ms/step - loss: 0.0520 - val_loss: 0.0227\n",
      "Epoch 15/100\n",
      "1/1 [==============================] - 0s 105ms/step - loss: 0.0741 - val_loss: 0.0227\n",
      "Epoch 16/100\n",
      "1/1 [==============================] - 0s 102ms/step - loss: 0.0666 - val_loss: 0.0231\n",
      "Epoch 17/100\n",
      "1/1 [==============================] - 0s 100ms/step - loss: 0.0570 - val_loss: 0.0248\n",
      "Epoch 18/100\n",
      "1/1 [==============================] - 0s 102ms/step - loss: 0.0674 - val_loss: 0.0275\n",
      "Epoch 19/100\n",
      "1/1 [==============================] - 0s 102ms/step - loss: 0.0717 - val_loss: 0.0301\n",
      "Epoch 20/100\n",
      "1/1 [==============================] - 0s 99ms/step - loss: 0.0594 - val_loss: 0.0318\n",
      "Epoch 21/100\n",
      "1/1 [==============================] - 0s 98ms/step - loss: 0.0508 - val_loss: 0.0332\n",
      "Epoch 22/100\n",
      "1/1 [==============================] - 0s 99ms/step - loss: 0.0532 - val_loss: 0.0337\n",
      "Epoch 23/100\n",
      "1/1 [==============================] - 0s 99ms/step - loss: 0.0563 - val_loss: 0.0338\n",
      "Epoch 24/100\n",
      "1/1 [==============================] - 0s 101ms/step - loss: 0.0458 - val_loss: 0.0338\n",
      "Epoch 25/100\n",
      "1/1 [==============================] - 0s 104ms/step - loss: 0.0636 - val_loss: 0.0336\n",
      "2/2 [==============================] - 0s 19ms/step - loss: 0.0105\n"
     ]
    },
    {
     "data": {
      "text/plain": [
       "0.010519315488636494"
      ]
     },
     "execution_count": 44,
     "metadata": {},
     "output_type": "execute_result"
    }
   ],
   "source": [
    "input_shape = batch_x.shape[1:]\n",
    "\n",
    "model = build_model(\n",
    "    input_shape,\n",
    "    head_size=256,\n",
    "    num_heads=8,\n",
    "    ff_dim=4,\n",
    "    num_transformer_blocks=4,\n",
    "    mlp_units=[128],\n",
    "    mlp_dropout=0.5,\n",
    "    dropout=0.25,\n",
    ")\n",
    "\n",
    "model.compile(\n",
    "    loss=\"mean_squared_error\",\n",
    "    optimizer=keras.optimizers.Adam(learning_rate=1e-4)\n",
    ")\n",
    "#model.summary()\n",
    "\n",
    "callbacks = [keras.callbacks.EarlyStopping(patience=10, \\\n",
    "    restore_best_weights=True)]\n",
    "\n",
    "model.fit(\n",
    "    batch_x,\n",
    "    batch_y,\n",
    "    validation_split=0.1,\n",
    "    epochs=100,\n",
    "    batch_size=512,\n",
    "    callbacks=callbacks,\n",
    ")\n",
    "\n",
    "model.evaluate(batch_x_test, batch_y_test, verbose=1)"
   ]
  },
  {
   "cell_type": "code",
   "execution_count": null,
   "id": "91f08f14-1199-4d79-8436-596ae4965135",
   "metadata": {},
   "outputs": [],
   "source": []
  },
  {
   "cell_type": "code",
   "execution_count": 1,
   "id": "ee0792db-4bcf-4d76-8884-39862b0319bf",
   "metadata": {
    "colab": {
     "base_uri": "https://localhost:8080/"
    },
    "id": "rSpmBk-S71Ml",
    "outputId": "ba855b5f-2b69-42e9-bb58-bca24b5b9e3b"
   },
   "outputs": [
    {
     "ename": "NameError",
     "evalue": "name 'model' is not defined",
     "output_type": "error",
     "traceback": [
      "\u001b[0;31m---------------------------------------------------------------------------\u001b[0m",
      "\u001b[0;31mNameError\u001b[0m                                 Traceback (most recent call last)",
      "Cell \u001b[0;32mIn[1], line 5\u001b[0m\n\u001b[1;32m      2\u001b[0m \u001b[38;5;28;01mfrom\u001b[39;00m \u001b[38;5;21;01msklearn\u001b[39;00m\u001b[38;5;21;01m.\u001b[39;00m\u001b[38;5;21;01mmetrics\u001b[39;00m \u001b[38;5;28;01mimport\u001b[39;00m mean_squared_error \u001b[38;5;28;01mas\u001b[39;00m mse\n\u001b[1;32m      3\u001b[0m \u001b[38;5;28;01mfrom\u001b[39;00m \u001b[38;5;21;01msklearn\u001b[39;00m\u001b[38;5;21;01m.\u001b[39;00m\u001b[38;5;21;01mmetrics\u001b[39;00m \u001b[38;5;28;01mimport\u001b[39;00m r2_score\n\u001b[0;32m----> 5\u001b[0m pred \u001b[38;5;241m=\u001b[39m \u001b[43mmodel\u001b[49m\u001b[38;5;241m.\u001b[39mpredict(batch_x_test)\n\u001b[1;32m      6\u001b[0m score \u001b[38;5;241m=\u001b[39m np\u001b[38;5;241m.\u001b[39msqrt(mse(pred, batch_y_test))\n\u001b[1;32m      7\u001b[0m \u001b[38;5;28mprint\u001b[39m(\u001b[38;5;124mf\u001b[39m\u001b[38;5;124m\"\u001b[39m\u001b[38;5;124mRMSE Score on vanilla Transformer Test set: \u001b[39m\u001b[38;5;132;01m{\u001b[39;00mscore\u001b[38;5;132;01m:\u001b[39;00m\u001b[38;5;124m0.3f\u001b[39m\u001b[38;5;132;01m}\u001b[39;00m\u001b[38;5;124m\"\u001b[39m)\n",
      "\u001b[0;31mNameError\u001b[0m: name 'model' is not defined"
     ]
    }
   ],
   "source": [
    "from sklearn.metrics import mean_absolute_error, mean_absolute_percentage_error\n",
    "from sklearn.metrics import mean_squared_error as mse\n",
    "from sklearn.metrics import r2_score\n",
    "\n",
    "pred = model.predict(batch_x_test)\n",
    "score = np.sqrt(mse(pred, batch_y_test))\n",
    "print(f\"RMSE Score on vanilla Transformer Test set: {score:0.3f}\")\n",
    "mae = mean_absolute_error(pred, batch_y_test)\n",
    "print(f\"MAE Score on vanilla Transformer Test set: {mae:0.3f}\")\n",
    "mape = mean_absolute_percentage_error(pred, batch_y_test)\n",
    "print(f\"MAPE Score on vanilla Transformer Test set: {mape:0.3f}\")\n",
    "r2 = r2_score(pred, batch_y_test)\n",
    "print(f\"R2 Score on vanilla Transformer Test set: {r2:0.3f}\")"
   ]
  },
  {
   "cell_type": "markdown",
   "id": "3073b257-4cc6-48cd-a2b5-959f10a1c330",
   "metadata": {},
   "source": [
    "## Our Proposed Model"
   ]
  },
  {
   "cell_type": "code",
   "execution_count": 3,
   "id": "35b229fc-f36d-48a1-8765-b204680eddf3",
   "metadata": {},
   "outputs": [],
   "source": [
    "# dense -> MLP             -\\\n",
    "# sparse -> nn.Embedding   --  MLP\n",
    "\n",
    "\n",
    "class ElectricyMarketPriceModule(pl.LightningModule):\n",
    "    def __init__(self):\n",
    "        super().__init__()\n",
    "\n",
    "        embedding_dim = 32\n",
    "        self._dense_mlp = nn.Sequential(\n",
    "            nn.LazyLinear(32),\n",
    "            nn.Tanh(),\n",
    "        )\n",
    "        self._month_emb = nn.Embedding(12, embedding_dim)\n",
    "        self._hour_emb = nn.Embedding(24, embedding_dim)\n",
    "        self._weekday_emb = nn.Embedding(7, embedding_dim)\n",
    "        self._sparse_mlp = nn.Sequential(\n",
    "            nn.LazyLinear(32),\n",
    "            nn.Tanh(),\n",
    "        )\n",
    "        # self._transformer_model = nn.Transformer(nhead=16, num_encoder_layers=12)\n",
    "        self._multihead_attn = nn.MultiheadAttention(32 + 32, 8)\n",
    "        self._over_mlp = nn.Sequential(\n",
    "            nn.LazyLinear(64),\n",
    "            nn.Tanh(),\n",
    "            nn.LazyLinear(6),\n",
    "        )\n",
    "\n",
    "        self.loss = nn.MSELoss()\n",
    "\n",
    "    def training_step(self, batch):\n",
    "        dense, sparse, label = batch\n",
    "        # print(f\"dense = {dense}\")\n",
    "        # print(f\"sparse = {sparse}\")\n",
    "        # print(f\"label = {label}\")\n",
    "        # raise Exception()\n",
    "\n",
    "        B = dense.size(0)\n",
    "        dense_out = self._dense_mlp(dense)\n",
    "        month_embs = self._month_emb(sparse[:, :, 0])\n",
    "        hour_embs = self._hour_emb(sparse[:, :, 1])\n",
    "        weekday_embs = self._weekday_emb(sparse[:, :, 2])\n",
    "        sparse_out = self._sparse_mlp(\n",
    "            torch.cat([month_embs, hour_embs, weekday_embs], dim=-1)\n",
    "        )\n",
    "        attn_input = torch.cat([dense_out, sparse_out], dim=-1)\n",
    "        attn_output, _ = self._multihead_attn(\n",
    "            attn_input, attn_input, attn_input, need_weights=False\n",
    "        )  # [B, 288, 68]\n",
    "        pred = self._over_mlp(attn_output.view(B, -1))\n",
    "        # print(f'pred {pred}')\n",
    "        # print(f'label {label}')\n",
    "        loss = self.loss(pred, label)\n",
    "        # print(f'loss {loss}')\n",
    "        self.log(\"train_loss\", loss)\n",
    "        return loss\n",
    "\n",
    "    def validation_step(self, batch, batch_idx):\n",
    "        x, y = batch\n",
    "        out = self.cnn_net(x)\n",
    "        out = out.view(x.size(0), -1)\n",
    "        pred = self.linear_net(out)\n",
    "        pred = torch.argmax(pred, dim=1)\n",
    "        self.log(\"val_loss\", (pred == y).sum().item() / x.size(0), prog_bar=True)\n",
    "\n",
    "    def test_step(self, batch, batch_idx):\n",
    "        # this is the test loop\n",
    "        x, y = batch\n",
    "        out = self.cnn_net(x)\n",
    "        out = out.view(x.size(0), -1)\n",
    "        pred = self.linear_net(out)\n",
    "        pred = torch.argmax(pred, dim=1)\n",
    "        self.log(\"test_loss\", (pred == y).sum().item() / x.size(0))\n",
    "\n",
    "    def predict_step(self, batch, batch_idx):\n",
    "        dense, sparse, label = batch\n",
    "        # print(f\"dense = {dense}\")\n",
    "        # print(f\"sparse = {sparse}\")\n",
    "        # print(f\"label = {label}\")\n",
    "        # raise Exception()\n",
    "\n",
    "        B = dense.size(0)\n",
    "        dense_out = self._dense_mlp(dense)\n",
    "        month_embs = self._month_emb(sparse[:, :, 0])\n",
    "        hour_embs = self._hour_emb(sparse[:, :, 1])\n",
    "        weekday_embs = self._weekday_emb(sparse[:, :, 2])\n",
    "        sparse_out = self._sparse_mlp(\n",
    "            torch.cat([month_embs, hour_embs, weekday_embs], dim=-1)\n",
    "        )\n",
    "        attn_input = torch.cat([dense_out, sparse_out], dim=-1)\n",
    "        attn_output, _ = self._multihead_attn(\n",
    "            attn_input, attn_input, attn_input, need_weights=False\n",
    "        )  # [B, 288, 68]\n",
    "        pred = self._over_mlp(attn_output.view(B, -1))\n",
    "        return pred\n",
    "\n",
    "    def configure_optimizers(self):\n",
    "        optimizer = torch.optim.SGD(self.parameters(), lr=0.01)\n",
    "        lr_scheduler = torch.optim.lr_scheduler.ExponentialLR(\n",
    "            optimizer, gamma=0.95, verbose=True\n",
    "        )\n",
    "        return [optimizer], [lr_scheduler]"
   ]
  },
  {
   "cell_type": "code",
   "execution_count": 4,
   "id": "90826f22-de3f-4e5e-9949-80b08c16656f",
   "metadata": {
    "tags": []
   },
   "outputs": [],
   "source": [
    "class MyIterableDataset(torch.utils.data.IterableDataset):\n",
    "    def __init__(self, df, years: List[int]):\n",
    "        super(MyIterableDataset).__init__()\n",
    "\n",
    "        self._df = df\n",
    "\n",
    "    def __iter__(self):\n",
    "        worker_info = torch.utils.data.get_worker_info()\n",
    "        assert (\n",
    "            worker_info is None\n",
    "        )  # single-process data loading, return the full iterator\n",
    "\n",
    "        price_list: List[float] = []\n",
    "        dense_list: List[List[float]] = []\n",
    "        month_list: List[int] = []\n",
    "        hour_list: List[int] = []\n",
    "        weekday_list: List[int] = []\n",
    "\n",
    "        for index, row in self._df.iterrows():\n",
    "            # 24 hours for training, 1 hour for ground truth\n",
    "            if len(price_list) == 24 * 12 + 12 * 24:\n",
    "                indices = list(range(0, 24 * 12, 12))\n",
    "                yield torch.tensor(\n",
    "                    [dense_list[i] for i in indices], dtype=torch.float\n",
    "                ), torch.tensor(\n",
    "                    list(\n",
    "                        zip(\n",
    "                            [month_list[i] for i in indices],\n",
    "                            [hour_list[i] for i in indices],\n",
    "                            [weekday_list[i] for i in indices],\n",
    "                        )\n",
    "                    ),\n",
    "                    dtype=torch.int,\n",
    "                ), torch.tensor(\n",
    "                    [\n",
    "                        price_list[24 * 12],\n",
    "                        price_list[24 * 12 + 11],\n",
    "                        price_list[24 * 12 + 12 * 2 - 1],\n",
    "                        price_list[24 * 12 + 12 * 4 - 1],\n",
    "                        price_list[24 * 12 + 12 * 12 - 1],\n",
    "                        price_list[24 * 12 + 12 * 24 - 1],\n",
    "                    ],\n",
    "                    dtype=torch.float,\n",
    "                ),\n",
    "\n",
    "                # 5 minutes, one hour, 2 hours, 4 hours, 12 hours, 24 hours\n",
    "\n",
    "                price_list.pop(0)\n",
    "                dense_list.pop(0)\n",
    "                month_list.pop(0)\n",
    "                hour_list.pop(0)\n",
    "                weekday_list.pop(0)\n",
    "\n",
    "            price_list.append(float(row[\"VALUE\"]))\n",
    "            dense_list.append([float(row[\"VALUE\"])] + row[df.columns[-9:]].tolist())\n",
    "            curt_dt = datetime.strptime(\n",
    "                row[\"INTERVALSTARTTIME_GMT\"], \"%Y-%m-%dT%H:%M:00-00:00\"\n",
    "            ) + timedelta(hours=8)\n",
    "            month_list.append(curt_dt.month - 1)\n",
    "            hour_list.append(curt_dt.hour)\n",
    "            weekday_list.append(curt_dt.weekday())\n",
    "\n",
    "\n",
    "train_dataset = MyIterableDataset(df, years=[2020, 2021])\n",
    "test_dataset = MyIterableDataset(df, years=[2022])"
   ]
  },
  {
   "cell_type": "code",
   "execution_count": 5,
   "id": "04cde994-97ad-443a-9572-28b427536963",
   "metadata": {},
   "outputs": [
    {
     "name": "stderr",
     "output_type": "stream",
     "text": [
      "/home/zyan/miniconda3/lib/python3.8/site-packages/torch/nn/modules/lazy.py:180: UserWarning: Lazy modules are a new feature under heavy development so changes to the API or functionality can happen at any moment.\n",
      "  warnings.warn('Lazy modules are a new feature under heavy development '\n"
     ]
    },
    {
     "name": "stdout",
     "output_type": "stream",
     "text": [
      "linear Linear(in_features=10, out_features=32, bias=True)\n",
      "embedding Embedding(12, 32)\n",
      "embedding Embedding(24, 32)\n",
      "embedding Embedding(7, 32)\n",
      "linear Linear(in_features=96, out_features=32, bias=True)\n",
      "linear NonDynamicallyQuantizableLinear(in_features=64, out_features=64, bias=True)\n",
      "linear Linear(in_features=1536, out_features=64, bias=True)\n",
      "linear Linear(in_features=64, out_features=6, bias=True)\n"
     ]
    },
    {
     "name": "stderr",
     "output_type": "stream",
     "text": [
      "/home/zyan/miniconda3/lib/python3.8/site-packages/pytorch_lightning/core/module.py:416: UserWarning: You are trying to `self.log()` but the `self.trainer` reference is not registered on the model yet. This is most likely because the model hasn't been passed to the `Trainer`\n",
      "  rank_zero_warn(\n",
      "/tmp/ipykernel_110067/1710434713.py:4: UserWarning: nn.init.xavier_uniform is now deprecated in favor of nn.init.xavier_uniform_.\n",
      "  torch.nn.init.xavier_uniform(m.weight)\n"
     ]
    },
    {
     "data": {
      "text/plain": [
       "tensor(0.8116, grad_fn=<MseLossBackward0>)"
      ]
     },
     "execution_count": 5,
     "metadata": {},
     "output_type": "execute_result"
    }
   ],
   "source": [
    "def init_weights(m):\n",
    "    if isinstance(m, nn.Linear):\n",
    "        print(f'linear {m}')\n",
    "        torch.nn.init.xavier_uniform(m.weight)\n",
    "        m.bias.data.fill_(0.01)\n",
    "    if isinstance(m, nn.Embedding):\n",
    "        print(f'embedding {m}')\n",
    "        nn.init.uniform_(m.weight, -1.0, 1.0)\n",
    "\n",
    "module = ElectricyMarketPriceModule()\n",
    "\n",
    "batch = next(iter(DataLoader(train_dataset, batch_size=32)))\n",
    "module.training_step(batch)\n",
    "module.apply(init_weights)\n",
    "module.training_step(batch)"
   ]
  },
  {
   "cell_type": "code",
   "execution_count": null,
   "id": "26bdd135-5318-4426-8646-a66b0d32d6d1",
   "metadata": {},
   "outputs": [],
   "source": [
    "lr_monitor = LearningRateMonitor(logging_interval=\"epoch\")\n",
    "trainer = pl.Trainer(\n",
    "    max_epochs=1,\n",
    "    callbacks=[lr_monitor],\n",
    "    logger=TensorBoardLogger(\"tb_logs\", name=\"my_model\"),\n",
    "    accelerator=\"gpu\",  # accelerator=\"gpu\",\n",
    ")\n",
    "trainer.fit(module, DataLoader(train_dataset, batch_size=512))"
   ]
  },
  {
   "cell_type": "code",
   "execution_count": 27,
   "id": "0f441702-1f55-439f-8ed9-fab233ff7785",
   "metadata": {
    "colab": {
     "base_uri": "https://localhost:8080/"
    },
    "id": "rSpmBk-S71Ml",
    "outputId": "ba855b5f-2b69-42e9-bb58-bca24b5b9e3b"
   },
   "outputs": [
    {
     "name": "stdout",
     "output_type": "stream",
     "text": [
      "RMSE Score on Transformer Test set: 0.057\n",
      "MAE Score on Transformer Test set: 0.049\n",
      "MAPE Score on Transformer Test set: 0.149\n"
     ]
    }
   ],
   "source": [
    "from sklearn.metrics import mean_absolute_error, mean_absolute_percentage_error\n",
    "from sklearn.metrics import mean_squared_error as mse\n",
    "from sklearn.metrics import r2_score\n",
    "\n",
    "score = np.sqrt(mse(pred, test))\n",
    "print(f\"RMSE Score on Transformer Test set: {score:0.3f}\")\n",
    "mae = mean_absolute_error(pred, test)\n",
    "print(f\"MAE Score on Transformer Test set: {mae:0.3f}\")\n",
    "mape = mean_absolute_percentage_error(pred, test)\n",
    "print(f\"MAPE Score on Transformer Test set: {mape:0.3f}\")"
   ]
  },
  {
   "cell_type": "markdown",
   "id": "624307f0-0bf4-4216-960b-6fa2ef9ea3ea",
   "metadata": {},
   "source": [
    "## Trading"
   ]
  },
  {
   "cell_type": "code",
   "execution_count": null,
   "id": "67741384-f053-4a9d-8fd6-3eadc216bc07",
   "metadata": {
    "tags": []
   },
   "outputs": [],
   "source": [
    "# baseline: buy at at 9pm - 9am, sell at 9am - 9pm\n",
    "\n",
    "balance = 0.0\n",
    "charged = 0.0\n",
    "naive_dts = []\n",
    "naive_balances = []\n",
    "naive_remainings = []\n",
    "\n",
    "CAPACITY = 13.3\n",
    "CHARGE_SPEED = 3.3\n",
    "\n",
    "price_list: List[float] = []\n",
    "month_list: List[int] = []\n",
    "hour_list: List[int] = []\n",
    "weekday_list: List[int] = []\n",
    "\n",
    "\n",
    "pbar = tqdm(df.iterrows())\n",
    "for index, row in pbar:\n",
    "    price = float(row[\"VALUE\"])\n",
    "    price_list.append(float(row[\"VALUE\"]))\n",
    "    curt_dt = datetime.strptime(\n",
    "        row[\"INTERVALSTARTTIME_GMT\"], \"%Y-%m-%dT%H:%M:00-00:00\"\n",
    "    ) + timedelta(hours=8)\n",
    "    month_list.append(curt_dt.month - 1)\n",
    "    hour_list.append(curt_dt.hour)\n",
    "    weekday_list.append(curt_dt.weekday())\n",
    "\n",
    "    if curt_dt.year != 2022:\n",
    "        if curt_dt.hour == 0:\n",
    "            pbar.set_description(f\"{curt_dt}\")\n",
    "        continue\n",
    "\n",
    "    # trade at minute 0\n",
    "    if curt_dt.minute == 0:\n",
    "        naive_dts.append(curt_dt)\n",
    "        naive_balances.append(balance)\n",
    "        naive_remainings.append(charged)\n",
    "\n",
    "        if curt_dt.hour >= 9 and curt_dt.hour < 21:\n",
    "            if charged > 0:\n",
    "                balance += price * (CAPACITY / 12)\n",
    "                charged -= CAPACITY / 12\n",
    "        else:\n",
    "            if charged < CAPACITY:\n",
    "                balance -= price * (CAPACITY / 12)\n",
    "                charged += CAPACITY / 12\n",
    "\n",
    "        if curt_dt.hour == 0:\n",
    "            pbar.set_description(f\"{curt_dt} {balance}\")"
   ]
  },
  {
   "cell_type": "code",
   "execution_count": 39,
   "id": "f1251ed6-382c-4944-9dea-a3c504ea664d",
   "metadata": {},
   "outputs": [
    {
     "data": {
      "image/png": "[encoded data removed]",
      "text/plain": [
       "<Figure size 640x480 with 1 Axes>"
      ]
     },
     "metadata": {},
     "output_type": "display_data"
    }
   ],
   "source": [
    "import matplotlib.pyplot as plt\n",
    "\n",
    "plt.plot(dts, balances, label=\"ML\")\n",
    "plt.plot(naive_dts, naive_balances, label=\"Naive\")\n",
    "plt.xlabel(\"Date\")\n",
    "plt.xticks(rotation=30)\n",
    "plt.ylabel(\"Balance\")\n",
    "plt.legend()\n",
    "plt.show()"
   ]
  },
  {
   "cell_type": "code",
   "execution_count": null,
   "id": "c7d55b77-cbfe-467f-b382-dddc7436a7b5",
   "metadata": {},
   "outputs": [],
   "source": []
  }
 ],
 "metadata": {
  "kernelspec": {
   "display_name": "Python 3 (ipykernel)",
   "language": "python",
   "name": "python3"
  },
  "language_info": {
   "codemirror_mode": {
    "name": "ipython",
    "version": 3
   },
   "file_extension": ".py",
   "mimetype": "text/x-python",
   "name": "python",
   "nbconvert_exporter": "python",
   "pygments_lexer": "ipython3",
   "version": "3.8.16"
  }
 },
 "nbformat": 4,
 "nbformat_minor": 5
}
