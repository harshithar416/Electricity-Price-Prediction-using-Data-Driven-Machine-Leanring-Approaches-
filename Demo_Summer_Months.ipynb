{
 "cells": [
  {
   "cell_type": "code",
   "execution_count": 1,
   "id": "kv8IKWeBZisr",
   "metadata": {
    "colab": {
     "base_uri": "https://localhost:8080/"
    },
    "executionInfo": {
     "elapsed": 12456,
     "status": "ok",
     "timestamp": 1681172666954,
     "user": {
      "displayName": "Shamama Afnan",
      "userId": "18119871591444313216"
     },
     "user_tz": 420
    },
    "id": "kv8IKWeBZisr",
    "outputId": "603a835b-88de-4f58-a5af-4bc55abbbf42",
    "tags": []
   },
   "outputs": [
    {
     "name": "stdout",
     "output_type": "stream",
     "text": [
      "Requirement already satisfied: pytorch-lightning in /home/zyan/miniconda3/envs/pytorch/lib/python3.10/site-packages (2.0.1.post0)\n",
      "Requirement already satisfied: numpy>=1.17.2 in /home/zyan/miniconda3/envs/pytorch/lib/python3.10/site-packages (from pytorch-lightning) (1.23.4)\n",
      "Requirement already satisfied: torchmetrics>=0.7.0 in /home/zyan/miniconda3/envs/pytorch/lib/python3.10/site-packages (from pytorch-lightning) (0.11.4)\n",
      "Requirement already satisfied: typing-extensions>=4.0.0 in /home/zyan/miniconda3/envs/pytorch/lib/python3.10/site-packages (from pytorch-lightning) (4.5.0)\n",
      "Requirement already satisfied: packaging>=17.1 in /home/zyan/miniconda3/envs/pytorch/lib/python3.10/site-packages (from pytorch-lightning) (23.0)\n",
      "Requirement already satisfied: fsspec[http]>2021.06.0 in /home/zyan/miniconda3/envs/pytorch/lib/python3.10/site-packages (from pytorch-lightning) (2023.4.0)\n",
      "Requirement already satisfied: lightning-utilities>=0.7.0 in /home/zyan/miniconda3/envs/pytorch/lib/python3.10/site-packages (from pytorch-lightning) (0.8.0)\n",
      "Requirement already satisfied: torch>=1.11.0 in /home/zyan/miniconda3/envs/pytorch/lib/python3.10/site-packages (from pytorch-lightning) (2.0.0)\n",
      "Requirement already satisfied: tqdm>=4.57.0 in /home/zyan/miniconda3/envs/pytorch/lib/python3.10/site-packages (from pytorch-lightning) (4.65.0)\n",
      "Requirement already satisfied: PyYAML>=5.4 in /home/zyan/miniconda3/envs/pytorch/lib/python3.10/site-packages (from pytorch-lightning) (6.0)\n",
      "Requirement already satisfied: requests in /home/zyan/miniconda3/envs/pytorch/lib/python3.10/site-packages (from fsspec[http]>2021.06.0->pytorch-lightning) (2.28.2)\n",
      "Requirement already satisfied: aiohttp!=4.0.0a0,!=4.0.0a1 in /home/zyan/miniconda3/envs/pytorch/lib/python3.10/site-packages (from fsspec[http]>2021.06.0->pytorch-lightning) (3.8.4)\n",
      "Requirement already satisfied: nvidia-cusolver-cu11==11.4.0.1 in /home/zyan/miniconda3/envs/pytorch/lib/python3.10/site-packages (from torch>=1.11.0->pytorch-lightning) (11.4.0.1)\n",
      "Requirement already satisfied: nvidia-cuda-nvrtc-cu11==11.7.99 in /home/zyan/miniconda3/envs/pytorch/lib/python3.10/site-packages (from torch>=1.11.0->pytorch-lightning) (11.7.99)\n",
      "Requirement already satisfied: jinja2 in /home/zyan/miniconda3/envs/pytorch/lib/python3.10/site-packages (from torch>=1.11.0->pytorch-lightning) (3.1.2)\n",
      "Requirement already satisfied: nvidia-nvtx-cu11==11.7.91 in /home/zyan/miniconda3/envs/pytorch/lib/python3.10/site-packages (from torch>=1.11.0->pytorch-lightning) (11.7.91)\n",
      "Requirement already satisfied: nvidia-cuda-runtime-cu11==11.7.99 in /home/zyan/miniconda3/envs/pytorch/lib/python3.10/site-packages (from torch>=1.11.0->pytorch-lightning) (11.7.99)\n",
      "Requirement already satisfied: networkx in /home/zyan/miniconda3/envs/pytorch/lib/python3.10/site-packages (from torch>=1.11.0->pytorch-lightning) (3.1)\n",
      "Requirement already satisfied: nvidia-curand-cu11==10.2.10.91 in /home/zyan/miniconda3/envs/pytorch/lib/python3.10/site-packages (from torch>=1.11.0->pytorch-lightning) (10.2.10.91)\n",
      "Requirement already satisfied: nvidia-nccl-cu11==2.14.3 in /home/zyan/miniconda3/envs/pytorch/lib/python3.10/site-packages (from torch>=1.11.0->pytorch-lightning) (2.14.3)\n",
      "Requirement already satisfied: triton==2.0.0 in /home/zyan/miniconda3/envs/pytorch/lib/python3.10/site-packages (from torch>=1.11.0->pytorch-lightning) (2.0.0)\n",
      "Requirement already satisfied: nvidia-cufft-cu11==10.9.0.58 in /home/zyan/miniconda3/envs/pytorch/lib/python3.10/site-packages (from torch>=1.11.0->pytorch-lightning) (10.9.0.58)\n",
      "Requirement already satisfied: nvidia-cudnn-cu11==8.5.0.96 in /home/zyan/miniconda3/envs/pytorch/lib/python3.10/site-packages (from torch>=1.11.0->pytorch-lightning) (8.5.0.96)\n",
      "Requirement already satisfied: nvidia-cublas-cu11==11.10.3.66 in /home/zyan/miniconda3/envs/pytorch/lib/python3.10/site-packages (from torch>=1.11.0->pytorch-lightning) (11.10.3.66)\n",
      "Requirement already satisfied: sympy in /home/zyan/miniconda3/envs/pytorch/lib/python3.10/site-packages (from torch>=1.11.0->pytorch-lightning) (1.11.1)\n",
      "Requirement already satisfied: filelock in /home/zyan/miniconda3/envs/pytorch/lib/python3.10/site-packages (from torch>=1.11.0->pytorch-lightning) (3.11.0)\n",
      "Requirement already satisfied: nvidia-cuda-cupti-cu11==11.7.101 in /home/zyan/miniconda3/envs/pytorch/lib/python3.10/site-packages (from torch>=1.11.0->pytorch-lightning) (11.7.101)\n",
      "Requirement already satisfied: nvidia-cusparse-cu11==11.7.4.91 in /home/zyan/miniconda3/envs/pytorch/lib/python3.10/site-packages (from torch>=1.11.0->pytorch-lightning) (11.7.4.91)\n",
      "Requirement already satisfied: wheel in /home/zyan/miniconda3/envs/pytorch/lib/python3.10/site-packages (from nvidia-cublas-cu11==11.10.3.66->torch>=1.11.0->pytorch-lightning) (0.38.4)\n",
      "Requirement already satisfied: setuptools in /home/zyan/miniconda3/envs/pytorch/lib/python3.10/site-packages (from nvidia-cublas-cu11==11.10.3.66->torch>=1.11.0->pytorch-lightning) (66.0.0)\n",
      "Requirement already satisfied: lit in /home/zyan/miniconda3/envs/pytorch/lib/python3.10/site-packages (from triton==2.0.0->torch>=1.11.0->pytorch-lightning) (16.0.1)\n",
      "Requirement already satisfied: cmake in /home/zyan/miniconda3/envs/pytorch/lib/python3.10/site-packages (from triton==2.0.0->torch>=1.11.0->pytorch-lightning) (3.26.3)\n",
      "Requirement already satisfied: charset-normalizer<4.0,>=2.0 in /home/zyan/miniconda3/envs/pytorch/lib/python3.10/site-packages (from aiohttp!=4.0.0a0,!=4.0.0a1->fsspec[http]>2021.06.0->pytorch-lightning) (3.1.0)\n",
      "Requirement already satisfied: frozenlist>=1.1.1 in /home/zyan/miniconda3/envs/pytorch/lib/python3.10/site-packages (from aiohttp!=4.0.0a0,!=4.0.0a1->fsspec[http]>2021.06.0->pytorch-lightning) (1.3.3)\n",
      "Requirement already satisfied: yarl<2.0,>=1.0 in /home/zyan/miniconda3/envs/pytorch/lib/python3.10/site-packages (from aiohttp!=4.0.0a0,!=4.0.0a1->fsspec[http]>2021.06.0->pytorch-lightning) (1.8.2)\n",
      "Requirement already satisfied: attrs>=17.3.0 in /home/zyan/miniconda3/envs/pytorch/lib/python3.10/site-packages (from aiohttp!=4.0.0a0,!=4.0.0a1->fsspec[http]>2021.06.0->pytorch-lightning) (22.1.0)\n",
      "Requirement already satisfied: multidict<7.0,>=4.5 in /home/zyan/miniconda3/envs/pytorch/lib/python3.10/site-packages (from aiohttp!=4.0.0a0,!=4.0.0a1->fsspec[http]>2021.06.0->pytorch-lightning) (6.0.4)\n",
      "Requirement already satisfied: aiosignal>=1.1.2 in /home/zyan/miniconda3/envs/pytorch/lib/python3.10/site-packages (from aiohttp!=4.0.0a0,!=4.0.0a1->fsspec[http]>2021.06.0->pytorch-lightning) (1.3.1)\n",
      "Requirement already satisfied: async-timeout<5.0,>=4.0.0a3 in /home/zyan/miniconda3/envs/pytorch/lib/python3.10/site-packages (from aiohttp!=4.0.0a0,!=4.0.0a1->fsspec[http]>2021.06.0->pytorch-lightning) (4.0.2)\n",
      "Requirement already satisfied: MarkupSafe>=2.0 in /home/zyan/miniconda3/envs/pytorch/lib/python3.10/site-packages (from jinja2->torch>=1.11.0->pytorch-lightning) (2.1.1)\n",
      "Requirement already satisfied: idna<4,>=2.5 in /home/zyan/miniconda3/envs/pytorch/lib/python3.10/site-packages (from requests->fsspec[http]>2021.06.0->pytorch-lightning) (3.4)\n",
      "Requirement already satisfied: urllib3<1.27,>=1.21.1 in /home/zyan/miniconda3/envs/pytorch/lib/python3.10/site-packages (from requests->fsspec[http]>2021.06.0->pytorch-lightning) (1.26.15)\n",
      "Requirement already satisfied: certifi>=2017.4.17 in /home/zyan/miniconda3/envs/pytorch/lib/python3.10/site-packages (from requests->fsspec[http]>2021.06.0->pytorch-lightning) (2022.12.7)\n",
      "Requirement already satisfied: mpmath>=0.19 in /home/zyan/miniconda3/envs/pytorch/lib/python3.10/site-packages (from sympy->torch>=1.11.0->pytorch-lightning) (1.3.0)\n",
      "Note: you may need to restart the kernel to use updated packages.\n"
     ]
    }
   ],
   "source": [
    "pip install pytorch-lightning"
   ]
  },
  {
   "cell_type": "code",
   "execution_count": 2,
   "id": "4ggIlo9-aaDF",
   "metadata": {
    "colab": {
     "base_uri": "https://localhost:8080/"
    },
    "executionInfo": {
     "elapsed": 1563,
     "status": "ok",
     "timestamp": 1681172677062,
     "user": {
      "displayName": "Shamama Afnan",
      "userId": "18119871591444313216"
     },
     "user_tz": 420
    },
    "id": "4ggIlo9-aaDF",
    "outputId": "956794d5-73da-4f7a-b351-bad0d1f89a1f",
    "tags": []
   },
   "outputs": [
    {
     "ename": "ModuleNotFoundError",
     "evalue": "No module named 'google.colab'",
     "output_type": "error",
     "traceback": [
      "\u001b[0;31m---------------------------------------------------------------------------\u001b[0m",
      "\u001b[0;31mModuleNotFoundError\u001b[0m                       Traceback (most recent call last)",
      "Cell \u001b[0;32mIn[2], line 1\u001b[0m\n\u001b[0;32m----> 1\u001b[0m \u001b[38;5;28;01mfrom\u001b[39;00m \u001b[38;5;21;01mgoogle\u001b[39;00m\u001b[38;5;21;01m.\u001b[39;00m\u001b[38;5;21;01mcolab\u001b[39;00m \u001b[38;5;28;01mimport\u001b[39;00m drive\n\u001b[1;32m      3\u001b[0m drive\u001b[38;5;241m.\u001b[39mmount(\u001b[38;5;124m\"\u001b[39m\u001b[38;5;124m/content/drive\u001b[39m\u001b[38;5;124m\"\u001b[39m)\n",
      "\u001b[0;31mModuleNotFoundError\u001b[0m: No module named 'google.colab'"
     ]
    }
   ],
   "source": [
    "from google.colab import drive\n",
    "\n",
    "drive.mount(\"/content/drive\")"
   ]
  },
  {
   "cell_type": "code",
   "execution_count": 3,
   "id": "1e1420a6-ec32-41b6-91e7-6721bc0a68c5",
   "metadata": {
    "executionInfo": {
     "elapsed": 127,
     "status": "ok",
     "timestamp": 1681172678598,
     "user": {
      "displayName": "Shamama Afnan",
      "userId": "18119871591444313216"
     },
     "user_tz": 420
    },
    "id": "1e1420a6-ec32-41b6-91e7-6721bc0a68c5",
    "tags": []
   },
   "outputs": [],
   "source": [
    "# imports\n",
    "\n",
    "import glob\n",
    "import math\n",
    "import os\n",
    "import pickle\n",
    "import random\n",
    "import tempfile\n",
    "import time\n",
    "import urllib\n",
    "from datetime import datetime, timedelta\n",
    "from io import StringIO\n",
    "from typing import List\n",
    "from zipfile import ZipFile\n",
    "\n",
    "import matplotlib.pyplot as plt\n",
    "import numpy as np\n",
    "import pandas as pd\n",
    "import pytorch_lightning as pl\n",
    "import pytz\n",
    "import seaborn as sns\n",
    "import torch\n",
    "from pandas.plotting import register_matplotlib_converters\n",
    "from pytorch_lightning.callbacks import LearningRateMonitor\n",
    "from pytorch_lightning.loggers import TensorBoardLogger\n",
    "from scipy.stats import normaltest\n",
    "from sklearn.preprocessing import StandardScaler\n",
    "from torch import nn\n",
    "from torch.utils.data import DataLoader\n",
    "from tqdm.notebook import tqdm\n",
    "\n",
    "register_matplotlib_converters()\n",
    "%matplotlib inline\n",
    "sns.set_style(\"whitegrid\")"
   ]
  },
  {
   "cell_type": "code",
   "execution_count": 4,
   "id": "b45c1f7a-591c-4956-b944-6e0c11ba167b",
   "metadata": {
    "executionInfo": {
     "elapsed": 64459,
     "status": "ok",
     "timestamp": 1681172745368,
     "user": {
      "displayName": "Shamama Afnan",
      "userId": "18119871591444313216"
     },
     "user_tz": 420
    },
    "id": "b45c1f7a-591c-4956-b944-6e0c11ba167b",
    "tags": []
   },
   "outputs": [],
   "source": [
    "# load preprocessed data from 10 nodes in the bay area\n",
    "\n",
    "# df = pd.read_csv(\"/content/drive/Shareddrives/DATA 298A  B- Electricity Price Prediction/New/processed.csv\")\n",
    "df = pd.read_csv(\"processed (1).csv\")"
   ]
  },
  {
   "cell_type": "code",
   "execution_count": 5,
   "id": "GNJGZ7W-KQC8",
   "metadata": {
    "colab": {
     "base_uri": "https://localhost:8080/",
     "height": 421
    },
    "executionInfo": {
     "elapsed": 138,
     "status": "ok",
     "timestamp": 1681168440180,
     "user": {
      "displayName": "Shamama Afnan",
      "userId": "18119871591444313216"
     },
     "user_tz": 420
    },
    "id": "GNJGZ7W-KQC8",
    "outputId": "cc9216ea-1d91-4717-d7b5-8c42b7755142",
    "tags": []
   },
   "outputs": [
    {
     "data": {
      "text/html": [
       "<div>\n",
       "<style scoped>\n",
       "    .dataframe tbody tr th:only-of-type {\n",
       "        vertical-align: middle;\n",
       "    }\n",
       "\n",
       "    .dataframe tbody tr th {\n",
       "        vertical-align: top;\n",
       "    }\n",
       "\n",
       "    .dataframe thead th {\n",
       "        text-align: right;\n",
       "    }\n",
       "</style>\n",
       "<table border=\"1\" class=\"dataframe\">\n",
       "  <thead>\n",
       "    <tr style=\"text-align: right;\">\n",
       "      <th></th>\n",
       "      <th>Unnamed: 0</th>\n",
       "      <th>INTERVALSTARTTIME_GMT</th>\n",
       "      <th>INTERVALENDTIME_GMT</th>\n",
       "      <th>OPR_DT</th>\n",
       "      <th>OPR_HR</th>\n",
       "      <th>NODE_ID_XML</th>\n",
       "      <th>NODE_ID</th>\n",
       "      <th>NODE</th>\n",
       "      <th>MARKET_RUN_ID</th>\n",
       "      <th>LMP_TYPE</th>\n",
       "      <th>...</th>\n",
       "      <th>HOUR</th>\n",
       "      <th>2DA</th>\n",
       "      <th>7DA</th>\n",
       "      <th>ACTUAL</th>\n",
       "      <th>DAM</th>\n",
       "      <th>ETo (in)</th>\n",
       "      <th>Precip (in)</th>\n",
       "      <th>Rel Hum (%)</th>\n",
       "      <th>Wind Speed (mph)</th>\n",
       "      <th>Soil Temp (F)</th>\n",
       "    </tr>\n",
       "  </thead>\n",
       "  <tbody>\n",
       "    <tr>\n",
       "      <th>0</th>\n",
       "      <td>0</td>\n",
       "      <td>2020-01-01T08:00:00-00:00</td>\n",
       "      <td>2020-01-01T08:05:00-00:00</td>\n",
       "      <td>2020-01-01</td>\n",
       "      <td>1</td>\n",
       "      <td>DIXONLD_1_N008</td>\n",
       "      <td>DIXONLD_1_N008</td>\n",
       "      <td>DIXONLD_1_N008</td>\n",
       "      <td>RTM</td>\n",
       "      <td>LMP</td>\n",
       "      <td>...</td>\n",
       "      <td>16</td>\n",
       "      <td>-4.146099</td>\n",
       "      <td>-4.113026</td>\n",
       "      <td>-4.485045</td>\n",
       "      <td>-4.307317</td>\n",
       "      <td>-3.023405</td>\n",
       "      <td>-0.03305</td>\n",
       "      <td>3.663296</td>\n",
       "      <td>-1.213782</td>\n",
       "      <td>0.188814</td>\n",
       "    </tr>\n",
       "    <tr>\n",
       "      <th>1</th>\n",
       "      <td>1</td>\n",
       "      <td>2020-01-01T08:05:00-00:00</td>\n",
       "      <td>2020-01-01T08:10:00-00:00</td>\n",
       "      <td>2020-01-01</td>\n",
       "      <td>1</td>\n",
       "      <td>DIXONLD_1_N008</td>\n",
       "      <td>DIXONLD_1_N008</td>\n",
       "      <td>DIXONLD_1_N008</td>\n",
       "      <td>RTM</td>\n",
       "      <td>LMP</td>\n",
       "      <td>...</td>\n",
       "      <td>16</td>\n",
       "      <td>-4.146099</td>\n",
       "      <td>-4.113026</td>\n",
       "      <td>-4.485045</td>\n",
       "      <td>-4.307317</td>\n",
       "      <td>-3.023405</td>\n",
       "      <td>-0.03305</td>\n",
       "      <td>3.663296</td>\n",
       "      <td>-1.213782</td>\n",
       "      <td>0.188814</td>\n",
       "    </tr>\n",
       "    <tr>\n",
       "      <th>2</th>\n",
       "      <td>2</td>\n",
       "      <td>2020-01-01T08:10:00-00:00</td>\n",
       "      <td>2020-01-01T08:15:00-00:00</td>\n",
       "      <td>2020-01-01</td>\n",
       "      <td>1</td>\n",
       "      <td>DIXONLD_1_N008</td>\n",
       "      <td>DIXONLD_1_N008</td>\n",
       "      <td>DIXONLD_1_N008</td>\n",
       "      <td>RTM</td>\n",
       "      <td>LMP</td>\n",
       "      <td>...</td>\n",
       "      <td>16</td>\n",
       "      <td>-4.146099</td>\n",
       "      <td>-4.113026</td>\n",
       "      <td>-4.485045</td>\n",
       "      <td>-4.307317</td>\n",
       "      <td>-3.023405</td>\n",
       "      <td>-0.03305</td>\n",
       "      <td>3.663296</td>\n",
       "      <td>-1.213782</td>\n",
       "      <td>0.188814</td>\n",
       "    </tr>\n",
       "    <tr>\n",
       "      <th>3</th>\n",
       "      <td>3</td>\n",
       "      <td>2020-01-01T08:15:00-00:00</td>\n",
       "      <td>2020-01-01T08:20:00-00:00</td>\n",
       "      <td>2020-01-01</td>\n",
       "      <td>1</td>\n",
       "      <td>DIXONLD_1_N008</td>\n",
       "      <td>DIXONLD_1_N008</td>\n",
       "      <td>DIXONLD_1_N008</td>\n",
       "      <td>RTM</td>\n",
       "      <td>LMP</td>\n",
       "      <td>...</td>\n",
       "      <td>16</td>\n",
       "      <td>-4.146099</td>\n",
       "      <td>-4.113026</td>\n",
       "      <td>-4.485045</td>\n",
       "      <td>-4.307317</td>\n",
       "      <td>-3.023405</td>\n",
       "      <td>-0.03305</td>\n",
       "      <td>3.663296</td>\n",
       "      <td>-1.213782</td>\n",
       "      <td>0.188814</td>\n",
       "    </tr>\n",
       "    <tr>\n",
       "      <th>4</th>\n",
       "      <td>4</td>\n",
       "      <td>2020-01-01T08:20:00-00:00</td>\n",
       "      <td>2020-01-01T08:25:00-00:00</td>\n",
       "      <td>2020-01-01</td>\n",
       "      <td>1</td>\n",
       "      <td>DIXONLD_1_N008</td>\n",
       "      <td>DIXONLD_1_N008</td>\n",
       "      <td>DIXONLD_1_N008</td>\n",
       "      <td>RTM</td>\n",
       "      <td>LMP</td>\n",
       "      <td>...</td>\n",
       "      <td>16</td>\n",
       "      <td>-4.146099</td>\n",
       "      <td>-4.113026</td>\n",
       "      <td>-4.485045</td>\n",
       "      <td>-4.307317</td>\n",
       "      <td>-3.023405</td>\n",
       "      <td>-0.03305</td>\n",
       "      <td>3.663296</td>\n",
       "      <td>-1.213782</td>\n",
       "      <td>0.188814</td>\n",
       "    </tr>\n",
       "  </tbody>\n",
       "</table>\n",
       "<p>5 rows × 27 columns</p>\n",
       "</div>"
      ],
      "text/plain": [
       "   Unnamed: 0      INTERVALSTARTTIME_GMT        INTERVALENDTIME_GMT  \\\n",
       "0           0  2020-01-01T08:00:00-00:00  2020-01-01T08:05:00-00:00   \n",
       "1           1  2020-01-01T08:05:00-00:00  2020-01-01T08:10:00-00:00   \n",
       "2           2  2020-01-01T08:10:00-00:00  2020-01-01T08:15:00-00:00   \n",
       "3           3  2020-01-01T08:15:00-00:00  2020-01-01T08:20:00-00:00   \n",
       "4           4  2020-01-01T08:20:00-00:00  2020-01-01T08:25:00-00:00   \n",
       "\n",
       "       OPR_DT  OPR_HR     NODE_ID_XML         NODE_ID            NODE  \\\n",
       "0  2020-01-01       1  DIXONLD_1_N008  DIXONLD_1_N008  DIXONLD_1_N008   \n",
       "1  2020-01-01       1  DIXONLD_1_N008  DIXONLD_1_N008  DIXONLD_1_N008   \n",
       "2  2020-01-01       1  DIXONLD_1_N008  DIXONLD_1_N008  DIXONLD_1_N008   \n",
       "3  2020-01-01       1  DIXONLD_1_N008  DIXONLD_1_N008  DIXONLD_1_N008   \n",
       "4  2020-01-01       1  DIXONLD_1_N008  DIXONLD_1_N008  DIXONLD_1_N008   \n",
       "\n",
       "  MARKET_RUN_ID LMP_TYPE  ... HOUR       2DA       7DA    ACTUAL       DAM  \\\n",
       "0           RTM      LMP  ...   16 -4.146099 -4.113026 -4.485045 -4.307317   \n",
       "1           RTM      LMP  ...   16 -4.146099 -4.113026 -4.485045 -4.307317   \n",
       "2           RTM      LMP  ...   16 -4.146099 -4.113026 -4.485045 -4.307317   \n",
       "3           RTM      LMP  ...   16 -4.146099 -4.113026 -4.485045 -4.307317   \n",
       "4           RTM      LMP  ...   16 -4.146099 -4.113026 -4.485045 -4.307317   \n",
       "\n",
       "   ETo (in)  Precip (in)  Rel Hum (%)  Wind Speed (mph)  Soil Temp (F)  \n",
       "0 -3.023405     -0.03305     3.663296         -1.213782       0.188814  \n",
       "1 -3.023405     -0.03305     3.663296         -1.213782       0.188814  \n",
       "2 -3.023405     -0.03305     3.663296         -1.213782       0.188814  \n",
       "3 -3.023405     -0.03305     3.663296         -1.213782       0.188814  \n",
       "4 -3.023405     -0.03305     3.663296         -1.213782       0.188814  \n",
       "\n",
       "[5 rows x 27 columns]"
      ]
     },
     "execution_count": 5,
     "metadata": {},
     "output_type": "execute_result"
    }
   ],
   "source": [
    "df.head()"
   ]
  },
  {
   "cell_type": "code",
   "execution_count": 6,
   "id": "fD2Ta4RYKhjG",
   "metadata": {
    "colab": {
     "base_uri": "https://localhost:8080/"
    },
    "executionInfo": {
     "elapsed": 834,
     "status": "ok",
     "timestamp": 1681168442679,
     "user": {
      "displayName": "Shamama Afnan",
      "userId": "18119871591444313216"
     },
     "user_tz": 420
    },
    "id": "fD2Ta4RYKhjG",
    "outputId": "daa9fd7c-a736-47e5-a84b-a01ccd7cc2fb",
    "tags": []
   },
   "outputs": [
    {
     "data": {
      "text/plain": [
       "10"
      ]
     },
     "execution_count": 6,
     "metadata": {},
     "output_type": "execute_result"
    }
   ],
   "source": [
    "df[\"NODE\"].nunique()"
   ]
  },
  {
   "cell_type": "code",
   "execution_count": 7,
   "id": "023e61bb-6d5c-4b7f-b8cb-13748a2023d4",
   "metadata": {
    "executionInfo": {
     "elapsed": 813,
     "status": "ok",
     "timestamp": 1681172746167,
     "user": {
      "displayName": "Shamama Afnan",
      "userId": "18119871591444313216"
     },
     "user_tz": 420
    },
    "id": "023e61bb-6d5c-4b7f-b8cb-13748a2023d4",
    "tags": []
   },
   "outputs": [],
   "source": [
    "df = df.drop(\n",
    "    [\n",
    "        \"Unnamed: 0\",\n",
    "        \"INTERVALENDTIME_GMT\",\n",
    "        \"OPR_DT\",\n",
    "        \"OPR_HR\",\n",
    "        \"NODE_ID_XML\",\n",
    "        \"NODE\",\n",
    "        \"NODE_ID\",\n",
    "        \"MARKET_RUN_ID\",\n",
    "        \"LMP_TYPE\",\n",
    "        \"XML_DATA_ITEM\",\n",
    "        \"PNODE_RESMRID\",\n",
    "        \"GRP_TYPE\",\n",
    "    ],\n",
    "    axis=1,\n",
    ")"
   ]
  },
  {
   "cell_type": "code",
   "execution_count": 8,
   "id": "iIAlEU6YbKog",
   "metadata": {
    "executionInfo": {
     "elapsed": 1418,
     "status": "ok",
     "timestamp": 1681172756235,
     "user": {
      "displayName": "Shamama Afnan",
      "userId": "18119871591444313216"
     },
     "user_tz": 420
    },
    "id": "iIAlEU6YbKog",
    "tags": []
   },
   "outputs": [],
   "source": [
    "df[\"INTERVALSTARTTIME_GMT\"] = pd.to_datetime(df[\"INTERVALSTARTTIME_GMT\"])"
   ]
  },
  {
   "cell_type": "code",
   "execution_count": 9,
   "id": "K1ErwooubEMh",
   "metadata": {
    "executionInfo": {
     "elapsed": 1123,
     "status": "ok",
     "timestamp": 1681172758363,
     "user": {
      "displayName": "Shamama Afnan",
      "userId": "18119871591444313216"
     },
     "user_tz": 420
    },
    "id": "K1ErwooubEMh",
    "tags": []
   },
   "outputs": [],
   "source": [
    "df = df[\n",
    "    (\n",
    "        (df[\"INTERVALSTARTTIME_GMT\"].dt.month > 4)\n",
    "        & (df[\"INTERVALSTARTTIME_GMT\"].dt.month < 10)\n",
    "    )\n",
    "]"
   ]
  },
  {
   "cell_type": "code",
   "execution_count": 10,
   "id": "FCxOrCEZGAMW",
   "metadata": {
    "colab": {
     "base_uri": "https://localhost:8080/"
    },
    "executionInfo": {
     "elapsed": 353,
     "status": "ok",
     "timestamp": 1681172760315,
     "user": {
      "displayName": "Shamama Afnan",
      "userId": "18119871591444313216"
     },
     "user_tz": 420
    },
    "id": "FCxOrCEZGAMW",
    "outputId": "dafec027-12b3-4bf8-b02d-d697c5925d2f",
    "tags": []
   },
   "outputs": [
    {
     "data": {
      "text/plain": [
       "array([5, 6, 7, 8, 9])"
      ]
     },
     "execution_count": 10,
     "metadata": {},
     "output_type": "execute_result"
    }
   ],
   "source": [
    "df[\"INTERVALSTARTTIME_GMT\"].dt.month.unique()"
   ]
  },
  {
   "cell_type": "code",
   "execution_count": 11,
   "id": "-nh59iLBF2Jb",
   "metadata": {
    "colab": {
     "base_uri": "https://localhost:8080/"
    },
    "executionInfo": {
     "elapsed": 433,
     "status": "ok",
     "timestamp": 1681172763018,
     "user": {
      "displayName": "Shamama Afnan",
      "userId": "18119871591444313216"
     },
     "user_tz": 420
    },
    "id": "-nh59iLBF2Jb",
    "outputId": "c7330803-56c6-4a61-cf4c-c04811c6e233",
    "tags": []
   },
   "outputs": [
    {
     "data": {
      "text/plain": [
       "array([2020, 2021, 2022])"
      ]
     },
     "execution_count": 11,
     "metadata": {},
     "output_type": "execute_result"
    }
   ],
   "source": [
    "df[\"INTERVALSTARTTIME_GMT\"].dt.year.unique()"
   ]
  },
  {
   "cell_type": "code",
   "execution_count": 12,
   "id": "a88391ab-79b4-46c3-8d96-5aac40747154",
   "metadata": {
    "colab": {
     "base_uri": "https://localhost:8080/"
    },
    "executionInfo": {
     "elapsed": 5,
     "status": "ok",
     "timestamp": 1681172764773,
     "user": {
      "displayName": "Shamama Afnan",
      "userId": "18119871591444313216"
     },
     "user_tz": 420
    },
    "id": "a88391ab-79b4-46c3-8d96-5aac40747154",
    "outputId": "3ada103a-7991-46d9-8d00-03582086cd4f",
    "tags": []
   },
   "outputs": [
    {
     "name": "stdout",
     "output_type": "stream",
     "text": [
      "\n",
      "Train: 958392 rows\n",
      "Test:  319464 rows\n",
      "\n",
      "Train set shape: (958392, 15)\n",
      "Test set shape:  (319464, 15)\n",
      "\n"
     ]
    }
   ],
   "source": [
    "train_set_length = int(round((df.shape[0] * 0.75), 0))\n",
    "test_set_length = df.shape[0] - train_set_length\n",
    "\n",
    "print(f\"\\nTrain: {train_set_length} rows\\nTest:  {test_set_length} rows\")\n",
    "\n",
    "train = df.iloc[:train_set_length]\n",
    "test = df.iloc[train_set_length:]\n",
    "\n",
    "print(f\"\\nTrain set shape: {train.shape}\\nTest set shape:  {test.shape}\\n\")"
   ]
  },
  {
   "cell_type": "code",
   "execution_count": 13,
   "id": "03dfa697-7530-4d0a-b52a-47d852ec4604",
   "metadata": {
    "executionInfo": {
     "elapsed": 127,
     "status": "ok",
     "timestamp": 1681172768531,
     "user": {
      "displayName": "Shamama Afnan",
      "userId": "18119871591444313216"
     },
     "user_tz": 420
    },
    "id": "03dfa697-7530-4d0a-b52a-47d852ec4604",
    "tags": []
   },
   "outputs": [],
   "source": [
    "train = train.set_index(\"INTERVALSTARTTIME_GMT\")\n",
    "test = test.set_index(\"INTERVALSTARTTIME_GMT\")"
   ]
  },
  {
   "cell_type": "code",
   "execution_count": 14,
   "id": "4eb9d003-fc88-4183-b883-98eb1b4f0f27",
   "metadata": {
    "colab": {
     "base_uri": "https://localhost:8080/"
    },
    "executionInfo": {
     "elapsed": 220,
     "status": "ok",
     "timestamp": 1681172770901,
     "user": {
      "displayName": "Shamama Afnan",
      "userId": "18119871591444313216"
     },
     "user_tz": 420
    },
    "id": "4eb9d003-fc88-4183-b883-98eb1b4f0f27",
    "outputId": "d6ef8927-99fd-4299-a33b-e83901569e1c",
    "tags": []
   },
   "outputs": [
    {
     "name": "stdout",
     "output_type": "stream",
     "text": [
      "13\n",
      "['POS', 'OPR_INTERVAL', 'GROUP', 'HOUR', '2DA', '7DA', 'ACTUAL', 'DAM', 'ETo (in)', 'Precip (in)', 'Rel Hum (%)', 'Wind Speed (mph)', 'Soil Temp (F)']\n"
     ]
    }
   ],
   "source": [
    "features = [col for col in train.columns if col != \"VALUE\"]\n",
    "print(len(features))\n",
    "print(features)"
   ]
  },
  {
   "cell_type": "code",
   "execution_count": 15,
   "id": "93e9be8f",
   "metadata": {
    "tags": []
   },
   "outputs": [
    {
     "data": {
      "text/html": [
       "<div>\n",
       "<style scoped>\n",
       "    .dataframe tbody tr th:only-of-type {\n",
       "        vertical-align: middle;\n",
       "    }\n",
       "\n",
       "    .dataframe tbody tr th {\n",
       "        vertical-align: top;\n",
       "    }\n",
       "\n",
       "    .dataframe thead th {\n",
       "        text-align: right;\n",
       "    }\n",
       "</style>\n",
       "<table border=\"1\" class=\"dataframe\">\n",
       "  <thead>\n",
       "    <tr style=\"text-align: right;\">\n",
       "      <th></th>\n",
       "      <th>POS</th>\n",
       "      <th>VALUE</th>\n",
       "      <th>OPR_INTERVAL</th>\n",
       "      <th>GROUP</th>\n",
       "      <th>HOUR</th>\n",
       "      <th>2DA</th>\n",
       "      <th>7DA</th>\n",
       "      <th>ACTUAL</th>\n",
       "      <th>DAM</th>\n",
       "      <th>ETo (in)</th>\n",
       "      <th>Precip (in)</th>\n",
       "      <th>Rel Hum (%)</th>\n",
       "      <th>Wind Speed (mph)</th>\n",
       "      <th>Soil Temp (F)</th>\n",
       "    </tr>\n",
       "    <tr>\n",
       "      <th>INTERVALSTARTTIME_GMT</th>\n",
       "      <th></th>\n",
       "      <th></th>\n",
       "      <th></th>\n",
       "      <th></th>\n",
       "      <th></th>\n",
       "      <th></th>\n",
       "      <th></th>\n",
       "      <th></th>\n",
       "      <th></th>\n",
       "      <th></th>\n",
       "      <th></th>\n",
       "      <th></th>\n",
       "      <th></th>\n",
       "      <th></th>\n",
       "    </tr>\n",
       "  </thead>\n",
       "  <tbody>\n",
       "    <tr>\n",
       "      <th>2020-05-01 00:00:00+00:00</th>\n",
       "      <td>1</td>\n",
       "      <td>-0.744149</td>\n",
       "      <td>1</td>\n",
       "      <td>5</td>\n",
       "      <td>8</td>\n",
       "      <td>-3.327543</td>\n",
       "      <td>-2.446943</td>\n",
       "      <td>-3.077697</td>\n",
       "      <td>-2.811133</td>\n",
       "      <td>-3.023405</td>\n",
       "      <td>-0.03305</td>\n",
       "      <td>2.138363</td>\n",
       "      <td>-2.159378</td>\n",
       "      <td>3.209224</td>\n",
       "    </tr>\n",
       "    <tr>\n",
       "      <th>2020-05-01 00:05:00+00:00</th>\n",
       "      <td>1</td>\n",
       "      <td>-0.760948</td>\n",
       "      <td>2</td>\n",
       "      <td>5</td>\n",
       "      <td>8</td>\n",
       "      <td>-3.327543</td>\n",
       "      <td>-2.446943</td>\n",
       "      <td>-3.077697</td>\n",
       "      <td>-2.811133</td>\n",
       "      <td>-3.023405</td>\n",
       "      <td>-0.03305</td>\n",
       "      <td>2.138363</td>\n",
       "      <td>-2.159378</td>\n",
       "      <td>3.209224</td>\n",
       "    </tr>\n",
       "    <tr>\n",
       "      <th>2020-05-01 00:10:00+00:00</th>\n",
       "      <td>1</td>\n",
       "      <td>-0.753703</td>\n",
       "      <td>3</td>\n",
       "      <td>5</td>\n",
       "      <td>8</td>\n",
       "      <td>-3.327543</td>\n",
       "      <td>-2.446943</td>\n",
       "      <td>-3.077697</td>\n",
       "      <td>-2.811133</td>\n",
       "      <td>-3.023405</td>\n",
       "      <td>-0.03305</td>\n",
       "      <td>2.138363</td>\n",
       "      <td>-2.159378</td>\n",
       "      <td>3.209224</td>\n",
       "    </tr>\n",
       "    <tr>\n",
       "      <th>2020-05-01 00:15:00+00:00</th>\n",
       "      <td>1</td>\n",
       "      <td>-0.765075</td>\n",
       "      <td>4</td>\n",
       "      <td>5</td>\n",
       "      <td>8</td>\n",
       "      <td>-3.327543</td>\n",
       "      <td>-2.446943</td>\n",
       "      <td>-3.077697</td>\n",
       "      <td>-2.811133</td>\n",
       "      <td>-3.023405</td>\n",
       "      <td>-0.03305</td>\n",
       "      <td>2.138363</td>\n",
       "      <td>-2.159378</td>\n",
       "      <td>3.209224</td>\n",
       "    </tr>\n",
       "    <tr>\n",
       "      <th>2020-05-01 00:20:00+00:00</th>\n",
       "      <td>1</td>\n",
       "      <td>-0.790930</td>\n",
       "      <td>5</td>\n",
       "      <td>5</td>\n",
       "      <td>8</td>\n",
       "      <td>-3.327543</td>\n",
       "      <td>-2.446943</td>\n",
       "      <td>-3.077697</td>\n",
       "      <td>-2.811133</td>\n",
       "      <td>-3.023405</td>\n",
       "      <td>-0.03305</td>\n",
       "      <td>2.138363</td>\n",
       "      <td>-2.159378</td>\n",
       "      <td>3.209224</td>\n",
       "    </tr>\n",
       "  </tbody>\n",
       "</table>\n",
       "</div>"
      ],
      "text/plain": [
       "                           POS     VALUE  OPR_INTERVAL  GROUP  HOUR       2DA  \\\n",
       "INTERVALSTARTTIME_GMT                                                           \n",
       "2020-05-01 00:00:00+00:00    1 -0.744149             1      5     8 -3.327543   \n",
       "2020-05-01 00:05:00+00:00    1 -0.760948             2      5     8 -3.327543   \n",
       "2020-05-01 00:10:00+00:00    1 -0.753703             3      5     8 -3.327543   \n",
       "2020-05-01 00:15:00+00:00    1 -0.765075             4      5     8 -3.327543   \n",
       "2020-05-01 00:20:00+00:00    1 -0.790930             5      5     8 -3.327543   \n",
       "\n",
       "                                7DA    ACTUAL       DAM  ETo (in)  \\\n",
       "INTERVALSTARTTIME_GMT                                               \n",
       "2020-05-01 00:00:00+00:00 -2.446943 -3.077697 -2.811133 -3.023405   \n",
       "2020-05-01 00:05:00+00:00 -2.446943 -3.077697 -2.811133 -3.023405   \n",
       "2020-05-01 00:10:00+00:00 -2.446943 -3.077697 -2.811133 -3.023405   \n",
       "2020-05-01 00:15:00+00:00 -2.446943 -3.077697 -2.811133 -3.023405   \n",
       "2020-05-01 00:20:00+00:00 -2.446943 -3.077697 -2.811133 -3.023405   \n",
       "\n",
       "                           Precip (in)  Rel Hum (%)  Wind Speed (mph)  \\\n",
       "INTERVALSTARTTIME_GMT                                                   \n",
       "2020-05-01 00:00:00+00:00     -0.03305     2.138363         -2.159378   \n",
       "2020-05-01 00:05:00+00:00     -0.03305     2.138363         -2.159378   \n",
       "2020-05-01 00:10:00+00:00     -0.03305     2.138363         -2.159378   \n",
       "2020-05-01 00:15:00+00:00     -0.03305     2.138363         -2.159378   \n",
       "2020-05-01 00:20:00+00:00     -0.03305     2.138363         -2.159378   \n",
       "\n",
       "                           Soil Temp (F)  \n",
       "INTERVALSTARTTIME_GMT                     \n",
       "2020-05-01 00:00:00+00:00       3.209224  \n",
       "2020-05-01 00:05:00+00:00       3.209224  \n",
       "2020-05-01 00:10:00+00:00       3.209224  \n",
       "2020-05-01 00:15:00+00:00       3.209224  \n",
       "2020-05-01 00:20:00+00:00       3.209224  "
      ]
     },
     "execution_count": 15,
     "metadata": {},
     "output_type": "execute_result"
    }
   ],
   "source": [
    "train.head()"
   ]
  },
  {
   "cell_type": "code",
   "execution_count": 16,
   "id": "36599712-5490-4127-84b4-a7a737f0129b",
   "metadata": {
    "executionInfo": {
     "elapsed": 149,
     "status": "ok",
     "timestamp": 1681172772157,
     "user": {
      "displayName": "Shamama Afnan",
      "userId": "18119871591444313216"
     },
     "user_tz": 420
    },
    "id": "36599712-5490-4127-84b4-a7a737f0129b",
    "tags": []
   },
   "outputs": [],
   "source": [
    "X_train = train[features]\n",
    "y_train = train[\"VALUE\"]\n",
    "\n",
    "X_test = test[features]\n",
    "y_test = test[\"VALUE\"]"
   ]
  },
  {
   "cell_type": "markdown",
   "id": "6b8c89e7-b921-423c-95e9-3a224ca0c442",
   "metadata": {
    "id": "6b8c89e7-b921-423c-95e9-3a224ca0c442"
   },
   "source": [
    "# Classic Machine Learning Models"
   ]
  },
  {
   "cell_type": "markdown",
   "id": "3bd4f1db-5137-4ef8-a97c-622262892bd1",
   "metadata": {
    "id": "3bd4f1db-5137-4ef8-a97c-622262892bd1"
   },
   "source": [
    "## Linear Regression\n",
    "\n",
    "Linear Regression is the most basic regression model."
   ]
  },
  {
   "cell_type": "code",
   "execution_count": 19,
   "id": "8b339c3d-a7b7-4fc9-8207-9c38c5518a51",
   "metadata": {
    "executionInfo": {
     "elapsed": 947,
     "status": "ok",
     "timestamp": 1681172854004,
     "user": {
      "displayName": "Shamama Afnan",
      "userId": "18119871591444313216"
     },
     "user_tz": 420
    },
    "id": "8b339c3d-a7b7-4fc9-8207-9c38c5518a51",
    "tags": []
   },
   "outputs": [
    {
     "ename": "ValueError",
     "evalue": "could not convert string to float: 'DIXONLD_1_N008'",
     "output_type": "error",
     "traceback": [
      "\u001b[0;31m---------------------------------------------------------------------------\u001b[0m",
      "\u001b[0;31mValueError\u001b[0m                                Traceback (most recent call last)",
      "Cell \u001b[0;32mIn[19], line 3\u001b[0m\n\u001b[1;32m      1\u001b[0m \u001b[38;5;28;01mfrom\u001b[39;00m \u001b[38;5;21;01msklearn\u001b[39;00m\u001b[38;5;21;01m.\u001b[39;00m\u001b[38;5;21;01mlinear_model\u001b[39;00m \u001b[38;5;28;01mimport\u001b[39;00m LinearRegression\n\u001b[0;32m----> 3\u001b[0m reg \u001b[38;5;241m=\u001b[39m \u001b[43mLinearRegression\u001b[49m\u001b[43m(\u001b[49m\u001b[43m)\u001b[49m\u001b[38;5;241;43m.\u001b[39;49m\u001b[43mfit\u001b[49m\u001b[43m(\u001b[49m\u001b[43mX_train\u001b[49m\u001b[43m,\u001b[49m\u001b[43m \u001b[49m\u001b[43my_train\u001b[49m\u001b[43m)\u001b[49m\n",
      "File \u001b[0;32m~/miniconda3/lib/python3.8/site-packages/sklearn/linear_model/_base.py:648\u001b[0m, in \u001b[0;36mLinearRegression.fit\u001b[0;34m(self, X, y, sample_weight)\u001b[0m\n\u001b[1;32m    644\u001b[0m n_jobs_ \u001b[38;5;241m=\u001b[39m \u001b[38;5;28mself\u001b[39m\u001b[38;5;241m.\u001b[39mn_jobs\n\u001b[1;32m    646\u001b[0m accept_sparse \u001b[38;5;241m=\u001b[39m \u001b[38;5;28;01mFalse\u001b[39;00m \u001b[38;5;28;01mif\u001b[39;00m \u001b[38;5;28mself\u001b[39m\u001b[38;5;241m.\u001b[39mpositive \u001b[38;5;28;01melse\u001b[39;00m [\u001b[38;5;124m\"\u001b[39m\u001b[38;5;124mcsr\u001b[39m\u001b[38;5;124m\"\u001b[39m, \u001b[38;5;124m\"\u001b[39m\u001b[38;5;124mcsc\u001b[39m\u001b[38;5;124m\"\u001b[39m, \u001b[38;5;124m\"\u001b[39m\u001b[38;5;124mcoo\u001b[39m\u001b[38;5;124m\"\u001b[39m]\n\u001b[0;32m--> 648\u001b[0m X, y \u001b[38;5;241m=\u001b[39m \u001b[38;5;28;43mself\u001b[39;49m\u001b[38;5;241;43m.\u001b[39;49m\u001b[43m_validate_data\u001b[49m\u001b[43m(\u001b[49m\n\u001b[1;32m    649\u001b[0m \u001b[43m    \u001b[49m\u001b[43mX\u001b[49m\u001b[43m,\u001b[49m\u001b[43m \u001b[49m\u001b[43my\u001b[49m\u001b[43m,\u001b[49m\u001b[43m \u001b[49m\u001b[43maccept_sparse\u001b[49m\u001b[38;5;241;43m=\u001b[39;49m\u001b[43maccept_sparse\u001b[49m\u001b[43m,\u001b[49m\u001b[43m \u001b[49m\u001b[43my_numeric\u001b[49m\u001b[38;5;241;43m=\u001b[39;49m\u001b[38;5;28;43;01mTrue\u001b[39;49;00m\u001b[43m,\u001b[49m\u001b[43m \u001b[49m\u001b[43mmulti_output\u001b[49m\u001b[38;5;241;43m=\u001b[39;49m\u001b[38;5;28;43;01mTrue\u001b[39;49;00m\n\u001b[1;32m    650\u001b[0m \u001b[43m\u001b[49m\u001b[43m)\u001b[49m\n\u001b[1;32m    652\u001b[0m sample_weight \u001b[38;5;241m=\u001b[39m _check_sample_weight(\n\u001b[1;32m    653\u001b[0m     sample_weight, X, dtype\u001b[38;5;241m=\u001b[39mX\u001b[38;5;241m.\u001b[39mdtype, only_non_negative\u001b[38;5;241m=\u001b[39m\u001b[38;5;28;01mTrue\u001b[39;00m\n\u001b[1;32m    654\u001b[0m )\n\u001b[1;32m    656\u001b[0m X, y, X_offset, y_offset, X_scale \u001b[38;5;241m=\u001b[39m _preprocess_data(\n\u001b[1;32m    657\u001b[0m     X,\n\u001b[1;32m    658\u001b[0m     y,\n\u001b[0;32m   (...)\u001b[0m\n\u001b[1;32m    661\u001b[0m     sample_weight\u001b[38;5;241m=\u001b[39msample_weight,\n\u001b[1;32m    662\u001b[0m )\n",
      "File \u001b[0;32m~/miniconda3/lib/python3.8/site-packages/sklearn/base.py:584\u001b[0m, in \u001b[0;36mBaseEstimator._validate_data\u001b[0;34m(self, X, y, reset, validate_separately, **check_params)\u001b[0m\n\u001b[1;32m    582\u001b[0m         y \u001b[38;5;241m=\u001b[39m check_array(y, input_name\u001b[38;5;241m=\u001b[39m\u001b[38;5;124m\"\u001b[39m\u001b[38;5;124my\u001b[39m\u001b[38;5;124m\"\u001b[39m, \u001b[38;5;241m*\u001b[39m\u001b[38;5;241m*\u001b[39mcheck_y_params)\n\u001b[1;32m    583\u001b[0m     \u001b[38;5;28;01melse\u001b[39;00m:\n\u001b[0;32m--> 584\u001b[0m         X, y \u001b[38;5;241m=\u001b[39m \u001b[43mcheck_X_y\u001b[49m\u001b[43m(\u001b[49m\u001b[43mX\u001b[49m\u001b[43m,\u001b[49m\u001b[43m \u001b[49m\u001b[43my\u001b[49m\u001b[43m,\u001b[49m\u001b[43m \u001b[49m\u001b[38;5;241;43m*\u001b[39;49m\u001b[38;5;241;43m*\u001b[39;49m\u001b[43mcheck_params\u001b[49m\u001b[43m)\u001b[49m\n\u001b[1;32m    585\u001b[0m     out \u001b[38;5;241m=\u001b[39m X, y\n\u001b[1;32m    587\u001b[0m \u001b[38;5;28;01mif\u001b[39;00m \u001b[38;5;129;01mnot\u001b[39;00m no_val_X \u001b[38;5;129;01mand\u001b[39;00m check_params\u001b[38;5;241m.\u001b[39mget(\u001b[38;5;124m\"\u001b[39m\u001b[38;5;124mensure_2d\u001b[39m\u001b[38;5;124m\"\u001b[39m, \u001b[38;5;28;01mTrue\u001b[39;00m):\n",
      "File \u001b[0;32m~/miniconda3/lib/python3.8/site-packages/sklearn/utils/validation.py:1106\u001b[0m, in \u001b[0;36mcheck_X_y\u001b[0;34m(X, y, accept_sparse, accept_large_sparse, dtype, order, copy, force_all_finite, ensure_2d, allow_nd, multi_output, ensure_min_samples, ensure_min_features, y_numeric, estimator)\u001b[0m\n\u001b[1;32m   1101\u001b[0m         estimator_name \u001b[38;5;241m=\u001b[39m _check_estimator_name(estimator)\n\u001b[1;32m   1102\u001b[0m     \u001b[38;5;28;01mraise\u001b[39;00m \u001b[38;5;167;01mValueError\u001b[39;00m(\n\u001b[1;32m   1103\u001b[0m         \u001b[38;5;124mf\u001b[39m\u001b[38;5;124m\"\u001b[39m\u001b[38;5;132;01m{\u001b[39;00mestimator_name\u001b[38;5;132;01m}\u001b[39;00m\u001b[38;5;124m requires y to be passed, but the target y is None\u001b[39m\u001b[38;5;124m\"\u001b[39m\n\u001b[1;32m   1104\u001b[0m     )\n\u001b[0;32m-> 1106\u001b[0m X \u001b[38;5;241m=\u001b[39m \u001b[43mcheck_array\u001b[49m\u001b[43m(\u001b[49m\n\u001b[1;32m   1107\u001b[0m \u001b[43m    \u001b[49m\u001b[43mX\u001b[49m\u001b[43m,\u001b[49m\n\u001b[1;32m   1108\u001b[0m \u001b[43m    \u001b[49m\u001b[43maccept_sparse\u001b[49m\u001b[38;5;241;43m=\u001b[39;49m\u001b[43maccept_sparse\u001b[49m\u001b[43m,\u001b[49m\n\u001b[1;32m   1109\u001b[0m \u001b[43m    \u001b[49m\u001b[43maccept_large_sparse\u001b[49m\u001b[38;5;241;43m=\u001b[39;49m\u001b[43maccept_large_sparse\u001b[49m\u001b[43m,\u001b[49m\n\u001b[1;32m   1110\u001b[0m \u001b[43m    \u001b[49m\u001b[43mdtype\u001b[49m\u001b[38;5;241;43m=\u001b[39;49m\u001b[43mdtype\u001b[49m\u001b[43m,\u001b[49m\n\u001b[1;32m   1111\u001b[0m \u001b[43m    \u001b[49m\u001b[43morder\u001b[49m\u001b[38;5;241;43m=\u001b[39;49m\u001b[43morder\u001b[49m\u001b[43m,\u001b[49m\n\u001b[1;32m   1112\u001b[0m \u001b[43m    \u001b[49m\u001b[43mcopy\u001b[49m\u001b[38;5;241;43m=\u001b[39;49m\u001b[43mcopy\u001b[49m\u001b[43m,\u001b[49m\n\u001b[1;32m   1113\u001b[0m \u001b[43m    \u001b[49m\u001b[43mforce_all_finite\u001b[49m\u001b[38;5;241;43m=\u001b[39;49m\u001b[43mforce_all_finite\u001b[49m\u001b[43m,\u001b[49m\n\u001b[1;32m   1114\u001b[0m \u001b[43m    \u001b[49m\u001b[43mensure_2d\u001b[49m\u001b[38;5;241;43m=\u001b[39;49m\u001b[43mensure_2d\u001b[49m\u001b[43m,\u001b[49m\n\u001b[1;32m   1115\u001b[0m \u001b[43m    \u001b[49m\u001b[43mallow_nd\u001b[49m\u001b[38;5;241;43m=\u001b[39;49m\u001b[43mallow_nd\u001b[49m\u001b[43m,\u001b[49m\n\u001b[1;32m   1116\u001b[0m \u001b[43m    \u001b[49m\u001b[43mensure_min_samples\u001b[49m\u001b[38;5;241;43m=\u001b[39;49m\u001b[43mensure_min_samples\u001b[49m\u001b[43m,\u001b[49m\n\u001b[1;32m   1117\u001b[0m \u001b[43m    \u001b[49m\u001b[43mensure_min_features\u001b[49m\u001b[38;5;241;43m=\u001b[39;49m\u001b[43mensure_min_features\u001b[49m\u001b[43m,\u001b[49m\n\u001b[1;32m   1118\u001b[0m \u001b[43m    \u001b[49m\u001b[43mestimator\u001b[49m\u001b[38;5;241;43m=\u001b[39;49m\u001b[43mestimator\u001b[49m\u001b[43m,\u001b[49m\n\u001b[1;32m   1119\u001b[0m \u001b[43m    \u001b[49m\u001b[43minput_name\u001b[49m\u001b[38;5;241;43m=\u001b[39;49m\u001b[38;5;124;43m\"\u001b[39;49m\u001b[38;5;124;43mX\u001b[39;49m\u001b[38;5;124;43m\"\u001b[39;49m\u001b[43m,\u001b[49m\n\u001b[1;32m   1120\u001b[0m \u001b[43m\u001b[49m\u001b[43m)\u001b[49m\n\u001b[1;32m   1122\u001b[0m y \u001b[38;5;241m=\u001b[39m _check_y(y, multi_output\u001b[38;5;241m=\u001b[39mmulti_output, y_numeric\u001b[38;5;241m=\u001b[39my_numeric, estimator\u001b[38;5;241m=\u001b[39mestimator)\n\u001b[1;32m   1124\u001b[0m check_consistent_length(X, y)\n",
      "File \u001b[0;32m~/miniconda3/lib/python3.8/site-packages/sklearn/utils/validation.py:879\u001b[0m, in \u001b[0;36mcheck_array\u001b[0;34m(array, accept_sparse, accept_large_sparse, dtype, order, copy, force_all_finite, ensure_2d, allow_nd, ensure_min_samples, ensure_min_features, estimator, input_name)\u001b[0m\n\u001b[1;32m    877\u001b[0m         array \u001b[38;5;241m=\u001b[39m xp\u001b[38;5;241m.\u001b[39mastype(array, dtype, copy\u001b[38;5;241m=\u001b[39m\u001b[38;5;28;01mFalse\u001b[39;00m)\n\u001b[1;32m    878\u001b[0m     \u001b[38;5;28;01melse\u001b[39;00m:\n\u001b[0;32m--> 879\u001b[0m         array \u001b[38;5;241m=\u001b[39m \u001b[43m_asarray_with_order\u001b[49m\u001b[43m(\u001b[49m\u001b[43marray\u001b[49m\u001b[43m,\u001b[49m\u001b[43m \u001b[49m\u001b[43morder\u001b[49m\u001b[38;5;241;43m=\u001b[39;49m\u001b[43morder\u001b[49m\u001b[43m,\u001b[49m\u001b[43m \u001b[49m\u001b[43mdtype\u001b[49m\u001b[38;5;241;43m=\u001b[39;49m\u001b[43mdtype\u001b[49m\u001b[43m,\u001b[49m\u001b[43m \u001b[49m\u001b[43mxp\u001b[49m\u001b[38;5;241;43m=\u001b[39;49m\u001b[43mxp\u001b[49m\u001b[43m)\u001b[49m\n\u001b[1;32m    880\u001b[0m \u001b[38;5;28;01mexcept\u001b[39;00m ComplexWarning \u001b[38;5;28;01mas\u001b[39;00m complex_warning:\n\u001b[1;32m    881\u001b[0m     \u001b[38;5;28;01mraise\u001b[39;00m \u001b[38;5;167;01mValueError\u001b[39;00m(\n\u001b[1;32m    882\u001b[0m         \u001b[38;5;124m\"\u001b[39m\u001b[38;5;124mComplex data not supported\u001b[39m\u001b[38;5;130;01m\\n\u001b[39;00m\u001b[38;5;132;01m{}\u001b[39;00m\u001b[38;5;130;01m\\n\u001b[39;00m\u001b[38;5;124m\"\u001b[39m\u001b[38;5;241m.\u001b[39mformat(array)\n\u001b[1;32m    883\u001b[0m     ) \u001b[38;5;28;01mfrom\u001b[39;00m \u001b[38;5;21;01mcomplex_warning\u001b[39;00m\n",
      "File \u001b[0;32m~/miniconda3/lib/python3.8/site-packages/sklearn/utils/_array_api.py:185\u001b[0m, in \u001b[0;36m_asarray_with_order\u001b[0;34m(array, dtype, order, copy, xp)\u001b[0m\n\u001b[1;32m    182\u001b[0m     xp, _ \u001b[38;5;241m=\u001b[39m get_namespace(array)\n\u001b[1;32m    183\u001b[0m \u001b[38;5;28;01mif\u001b[39;00m xp\u001b[38;5;241m.\u001b[39m\u001b[38;5;18m__name__\u001b[39m \u001b[38;5;129;01min\u001b[39;00m {\u001b[38;5;124m\"\u001b[39m\u001b[38;5;124mnumpy\u001b[39m\u001b[38;5;124m\"\u001b[39m, \u001b[38;5;124m\"\u001b[39m\u001b[38;5;124mnumpy.array_api\u001b[39m\u001b[38;5;124m\"\u001b[39m}:\n\u001b[1;32m    184\u001b[0m     \u001b[38;5;66;03m# Use NumPy API to support order\u001b[39;00m\n\u001b[0;32m--> 185\u001b[0m     array \u001b[38;5;241m=\u001b[39m \u001b[43mnumpy\u001b[49m\u001b[38;5;241;43m.\u001b[39;49m\u001b[43masarray\u001b[49m\u001b[43m(\u001b[49m\u001b[43marray\u001b[49m\u001b[43m,\u001b[49m\u001b[43m \u001b[49m\u001b[43morder\u001b[49m\u001b[38;5;241;43m=\u001b[39;49m\u001b[43morder\u001b[49m\u001b[43m,\u001b[49m\u001b[43m \u001b[49m\u001b[43mdtype\u001b[49m\u001b[38;5;241;43m=\u001b[39;49m\u001b[43mdtype\u001b[49m\u001b[43m)\u001b[49m\n\u001b[1;32m    186\u001b[0m     \u001b[38;5;28;01mreturn\u001b[39;00m xp\u001b[38;5;241m.\u001b[39masarray(array, copy\u001b[38;5;241m=\u001b[39mcopy)\n\u001b[1;32m    187\u001b[0m \u001b[38;5;28;01melse\u001b[39;00m:\n",
      "File \u001b[0;32m~/miniconda3/lib/python3.8/site-packages/pandas/core/generic.py:2070\u001b[0m, in \u001b[0;36mNDFrame.__array__\u001b[0;34m(self, dtype)\u001b[0m\n\u001b[1;32m   2069\u001b[0m \u001b[38;5;28;01mdef\u001b[39;00m \u001b[38;5;21m__array__\u001b[39m(\u001b[38;5;28mself\u001b[39m, dtype: npt\u001b[38;5;241m.\u001b[39mDTypeLike \u001b[38;5;241m|\u001b[39m \u001b[38;5;28;01mNone\u001b[39;00m \u001b[38;5;241m=\u001b[39m \u001b[38;5;28;01mNone\u001b[39;00m) \u001b[38;5;241m-\u001b[39m\u001b[38;5;241m>\u001b[39m np\u001b[38;5;241m.\u001b[39mndarray:\n\u001b[0;32m-> 2070\u001b[0m     \u001b[38;5;28;01mreturn\u001b[39;00m \u001b[43mnp\u001b[49m\u001b[38;5;241;43m.\u001b[39;49m\u001b[43masarray\u001b[49m\u001b[43m(\u001b[49m\u001b[38;5;28;43mself\u001b[39;49m\u001b[38;5;241;43m.\u001b[39;49m\u001b[43m_values\u001b[49m\u001b[43m,\u001b[49m\u001b[43m \u001b[49m\u001b[43mdtype\u001b[49m\u001b[38;5;241;43m=\u001b[39;49m\u001b[43mdtype\u001b[49m\u001b[43m)\u001b[49m\n",
      "\u001b[0;31mValueError\u001b[0m: could not convert string to float: 'DIXONLD_1_N008'"
     ]
    }
   ],
   "source": [
    "from sklearn.linear_model import LinearRegression\n",
    "\n",
    "reg = LinearRegression().fit(X_train, y_train)"
   ]
  },
  {
   "cell_type": "code",
   "execution_count": 16,
   "id": "2ab50126-38cd-4a62-8d0d-66be2c184427",
   "metadata": {
    "executionInfo": {
     "elapsed": 2,
     "status": "ok",
     "timestamp": 1681172855822,
     "user": {
      "displayName": "Shamama Afnan",
      "userId": "18119871591444313216"
     },
     "user_tz": 420
    },
    "id": "2ab50126-38cd-4a62-8d0d-66be2c184427",
    "tags": []
   },
   "outputs": [
    {
     "ename": "NameError",
     "evalue": "name 'reg' is not defined",
     "output_type": "error",
     "traceback": [
      "\u001b[0;31m---------------------------------------------------------------------------\u001b[0m",
      "\u001b[0;31mNameError\u001b[0m                                 Traceback (most recent call last)",
      "Cell \u001b[0;32mIn[16], line 1\u001b[0m\n\u001b[0;32m----> 1\u001b[0m prediction \u001b[38;5;241m=\u001b[39m \u001b[43mreg\u001b[49m\u001b[38;5;241m.\u001b[39mpredict(X_test_sc)\n",
      "\u001b[0;31mNameError\u001b[0m: name 'reg' is not defined"
     ]
    }
   ],
   "source": [
    "prediction = reg.predict(X_test_sc)"
   ]
  },
  {
   "cell_type": "code",
   "execution_count": 17,
   "id": "f3fd6667-ef1c-4a2e-81e2-584dd0983c5a",
   "metadata": {
    "colab": {
     "base_uri": "https://localhost:8080/"
    },
    "id": "f3fd6667-ef1c-4a2e-81e2-584dd0983c5a",
    "outputId": "f8bf9d22-c1d6-4903-c14d-dae90a5399fa",
    "tags": []
   },
   "outputs": [
    {
     "ename": "NameError",
     "evalue": "name 'prediction' is not defined",
     "output_type": "error",
     "traceback": [
      "\u001b[0;31m---------------------------------------------------------------------------\u001b[0m",
      "\u001b[0;31mNameError\u001b[0m                                 Traceback (most recent call last)",
      "Cell \u001b[0;32mIn[17], line 5\u001b[0m\n\u001b[1;32m      2\u001b[0m \u001b[38;5;28;01mfrom\u001b[39;00m \u001b[38;5;21;01msklearn\u001b[39;00m\u001b[38;5;21;01m.\u001b[39;00m\u001b[38;5;21;01mmetrics\u001b[39;00m \u001b[38;5;28;01mimport\u001b[39;00m mean_squared_error \u001b[38;5;28;01mas\u001b[39;00m mse\n\u001b[1;32m      3\u001b[0m \u001b[38;5;28;01mfrom\u001b[39;00m \u001b[38;5;21;01msklearn\u001b[39;00m\u001b[38;5;21;01m.\u001b[39;00m\u001b[38;5;21;01mmetrics\u001b[39;00m \u001b[38;5;28;01mimport\u001b[39;00m r2_score\n\u001b[0;32m----> 5\u001b[0m score \u001b[38;5;241m=\u001b[39m np\u001b[38;5;241m.\u001b[39msqrt(mse(y_test, \u001b[43mprediction\u001b[49m))\n\u001b[1;32m      6\u001b[0m \u001b[38;5;28mprint\u001b[39m(\u001b[38;5;124mf\u001b[39m\u001b[38;5;124m\"\u001b[39m\u001b[38;5;124mRMSE Score on LinearRegression Test set: \u001b[39m\u001b[38;5;132;01m{\u001b[39;00mscore\u001b[38;5;132;01m:\u001b[39;00m\u001b[38;5;124m0.3f\u001b[39m\u001b[38;5;132;01m}\u001b[39;00m\u001b[38;5;124m\"\u001b[39m)\n\u001b[1;32m      7\u001b[0m mae \u001b[38;5;241m=\u001b[39m mean_absolute_error(y_test, prediction)\n",
      "\u001b[0;31mNameError\u001b[0m: name 'prediction' is not defined"
     ]
    }
   ],
   "source": [
    "from sklearn.metrics import mean_absolute_error, mean_absolute_percentage_error\n",
    "from sklearn.metrics import mean_squared_error as mse\n",
    "from sklearn.metrics import r2_score\n",
    "\n",
    "score = np.sqrt(mse(y_test, prediction))\n",
    "print(f\"RMSE Score on LinearRegression Test set: {score:0.3f}\")\n",
    "mae = mean_absolute_error(y_test, prediction)\n",
    "print(f\"MAE Score on LinearRegression Test set: {mae:0.3f}\")\n",
    "mape = mean_absolute_percentage_error(y_test, prediction)\n",
    "print(f\"MAPE Score on LinearRegression Test set: {mape:0.3f}\")"
   ]
  },
  {
   "cell_type": "markdown",
   "id": "a30523bc-d82e-49d1-ae64-ea6fcaad75f2",
   "metadata": {
    "id": "a30523bc-d82e-49d1-ae64-ea6fcaad75f2"
   },
   "source": [
    "## XGBoost\n",
    "\n",
    "XGBoost (eXtreme Gradient Boosting) is an open-source software library which provides a regularizing gradient boosting framework. It aims to provide a \"Scalable, Portable and Distributed Gradient Boosting (GBM, GBRT, GBDT) Library\". It runs on a single machine, as well as the distributed processing frameworks Apache Hadoop, Apache Spark, Apache Flink, and Dask.\n",
    "\n"
   ]
  },
  {
   "cell_type": "code",
   "execution_count": 46,
   "id": "79224371-6f7e-4f40-8f9f-dd3eab18e5e6",
   "metadata": {
    "colab": {
     "base_uri": "https://localhost:8080/",
     "height": 339
    },
    "executionInfo": {
     "elapsed": 611079,
     "status": "ok",
     "timestamp": 1681173485772,
     "user": {
      "displayName": "Shamama Afnan",
      "userId": "18119871591444313216"
     },
     "user_tz": 420
    },
    "id": "79224371-6f7e-4f40-8f9f-dd3eab18e5e6",
    "outputId": "2d801df0-f6f1-4d97-a957-66cb08b9eebd",
    "tags": []
   },
   "outputs": [
    {
     "name": "stdout",
     "output_type": "stream",
     "text": [
      "[00:27:56] WARNING: ../src/objective/regression_obj.cu:213: reg:linear is now deprecated in favor of reg:squarederror.\n",
      "[0]\tvalidation_0-rmse:1.21653\tvalidation_1-rmse:1.23416\n",
      "[100]\tvalidation_0-rmse:1.04097\tvalidation_1-rmse:1.12456\n",
      "[200]\tvalidation_0-rmse:1.00343\tvalidation_1-rmse:1.11322\n",
      "[278]\tvalidation_0-rmse:0.99538\tvalidation_1-rmse:1.11310\n"
     ]
    },
    {
     "data": {
      "text/html": [
       "<style>#sk-container-id-1 {color: black;background-color: white;}#sk-container-id-1 pre{padding: 0;}#sk-container-id-1 div.sk-toggleable {background-color: white;}#sk-container-id-1 label.sk-toggleable__label {cursor: pointer;display: block;width: 100%;margin-bottom: 0;padding: 0.3em;box-sizing: border-box;text-align: center;}#sk-container-id-1 label.sk-toggleable__label-arrow:before {content: \"▸\";float: left;margin-right: 0.25em;color: #696969;}#sk-container-id-1 label.sk-toggleable__label-arrow:hover:before {color: black;}#sk-container-id-1 div.sk-estimator:hover label.sk-toggleable__label-arrow:before {color: black;}#sk-container-id-1 div.sk-toggleable__content {max-height: 0;max-width: 0;overflow: hidden;text-align: left;background-color: #f0f8ff;}#sk-container-id-1 div.sk-toggleable__content pre {margin: 0.2em;color: black;border-radius: 0.25em;background-color: #f0f8ff;}#sk-container-id-1 input.sk-toggleable__control:checked~div.sk-toggleable__content {max-height: 200px;max-width: 100%;overflow: auto;}#sk-container-id-1 input.sk-toggleable__control:checked~label.sk-toggleable__label-arrow:before {content: \"▾\";}#sk-container-id-1 div.sk-estimator input.sk-toggleable__control:checked~label.sk-toggleable__label {background-color: #d4ebff;}#sk-container-id-1 div.sk-label input.sk-toggleable__control:checked~label.sk-toggleable__label {background-color: #d4ebff;}#sk-container-id-1 input.sk-hidden--visually {border: 0;clip: rect(1px 1px 1px 1px);clip: rect(1px, 1px, 1px, 1px);height: 1px;margin: -1px;overflow: hidden;padding: 0;position: absolute;width: 1px;}#sk-container-id-1 div.sk-estimator {font-family: monospace;background-color: #f0f8ff;border: 1px dotted black;border-radius: 0.25em;box-sizing: border-box;margin-bottom: 0.5em;}#sk-container-id-1 div.sk-estimator:hover {background-color: #d4ebff;}#sk-container-id-1 div.sk-parallel-item::after {content: \"\";width: 100%;border-bottom: 1px solid gray;flex-grow: 1;}#sk-container-id-1 div.sk-label:hover label.sk-toggleable__label {background-color: #d4ebff;}#sk-container-id-1 div.sk-serial::before {content: \"\";position: absolute;border-left: 1px solid gray;box-sizing: border-box;top: 0;bottom: 0;left: 50%;z-index: 0;}#sk-container-id-1 div.sk-serial {display: flex;flex-direction: column;align-items: center;background-color: white;padding-right: 0.2em;padding-left: 0.2em;position: relative;}#sk-container-id-1 div.sk-item {position: relative;z-index: 1;}#sk-container-id-1 div.sk-parallel {display: flex;align-items: stretch;justify-content: center;background-color: white;position: relative;}#sk-container-id-1 div.sk-item::before, #sk-container-id-1 div.sk-parallel-item::before {content: \"\";position: absolute;border-left: 1px solid gray;box-sizing: border-box;top: 0;bottom: 0;left: 50%;z-index: -1;}#sk-container-id-1 div.sk-parallel-item {display: flex;flex-direction: column;z-index: 1;position: relative;background-color: white;}#sk-container-id-1 div.sk-parallel-item:first-child::after {align-self: flex-end;width: 50%;}#sk-container-id-1 div.sk-parallel-item:last-child::after {align-self: flex-start;width: 50%;}#sk-container-id-1 div.sk-parallel-item:only-child::after {width: 0;}#sk-container-id-1 div.sk-dashed-wrapped {border: 1px dashed gray;margin: 0 0.4em 0.5em 0.4em;box-sizing: border-box;padding-bottom: 0.4em;background-color: white;}#sk-container-id-1 div.sk-label label {font-family: monospace;font-weight: bold;display: inline-block;line-height: 1.2em;}#sk-container-id-1 div.sk-label-container {text-align: center;}#sk-container-id-1 div.sk-container {/* jupyter's `normalize.less` sets `[hidden] { display: none; }` but bootstrap.min.css set `[hidden] { display: none !important; }` so we also need the `!important` here to be able to override the default hidden behavior on the sphinx rendered scikit-learn.org. See: https://github.com/scikit-learn/scikit-learn/issues/21755 */display: inline-block !important;position: relative;}#sk-container-id-1 div.sk-text-repr-fallback {display: none;}</style><div id=\"sk-container-id-1\" class=\"sk-top-container\"><div class=\"sk-text-repr-fallback\"><pre>XGBRegressor(base_score=0.5, booster=&#x27;gbtree&#x27;, callbacks=None,\n",
       "             colsample_bylevel=None, colsample_bynode=None,\n",
       "             colsample_bytree=None, early_stopping_rounds=50,\n",
       "             enable_categorical=False, eval_metric=None, feature_types=None,\n",
       "             gamma=None, gpu_id=None, grow_policy=None, importance_type=None,\n",
       "             interaction_constraints=None, learning_rate=0.01, max_bin=None,\n",
       "             max_cat_threshold=None, max_cat_to_onehot=None,\n",
       "             max_delta_step=None, max_depth=10, max_leaves=None,\n",
       "             min_child_weight=None, missing=nan, monotone_constraints=None,\n",
       "             n_estimators=10000, n_jobs=None, num_parallel_tree=None,\n",
       "             objective=&#x27;reg:linear&#x27;, predictor=None, ...)</pre><b>In a Jupyter environment, please rerun this cell to show the HTML representation or trust the notebook. <br />On GitHub, the HTML representation is unable to render, please try loading this page with nbviewer.org.</b></div><div class=\"sk-container\" hidden><div class=\"sk-item\"><div class=\"sk-estimator sk-toggleable\"><input class=\"sk-toggleable__control sk-hidden--visually\" id=\"sk-estimator-id-1\" type=\"checkbox\" checked><label for=\"sk-estimator-id-1\" class=\"sk-toggleable__label sk-toggleable__label-arrow\">XGBRegressor</label><div class=\"sk-toggleable__content\"><pre>XGBRegressor(base_score=0.5, booster=&#x27;gbtree&#x27;, callbacks=None,\n",
       "             colsample_bylevel=None, colsample_bynode=None,\n",
       "             colsample_bytree=None, early_stopping_rounds=50,\n",
       "             enable_categorical=False, eval_metric=None, feature_types=None,\n",
       "             gamma=None, gpu_id=None, grow_policy=None, importance_type=None,\n",
       "             interaction_constraints=None, learning_rate=0.01, max_bin=None,\n",
       "             max_cat_threshold=None, max_cat_to_onehot=None,\n",
       "             max_delta_step=None, max_depth=10, max_leaves=None,\n",
       "             min_child_weight=None, missing=nan, monotone_constraints=None,\n",
       "             n_estimators=10000, n_jobs=None, num_parallel_tree=None,\n",
       "             objective=&#x27;reg:linear&#x27;, predictor=None, ...)</pre></div></div></div></div></div>"
      ],
      "text/plain": [
       "XGBRegressor(base_score=0.5, booster='gbtree', callbacks=None,\n",
       "             colsample_bylevel=None, colsample_bynode=None,\n",
       "             colsample_bytree=None, early_stopping_rounds=50,\n",
       "             enable_categorical=False, eval_metric=None, feature_types=None,\n",
       "             gamma=None, gpu_id=None, grow_policy=None, importance_type=None,\n",
       "             interaction_constraints=None, learning_rate=0.01, max_bin=None,\n",
       "             max_cat_threshold=None, max_cat_to_onehot=None,\n",
       "             max_delta_step=None, max_depth=10, max_leaves=None,\n",
       "             min_child_weight=None, missing=nan, monotone_constraints=None,\n",
       "             n_estimators=10000, n_jobs=None, num_parallel_tree=None,\n",
       "             objective='reg:linear', predictor=None, ...)"
      ]
     },
     "execution_count": 46,
     "metadata": {},
     "output_type": "execute_result"
    }
   ],
   "source": [
    "# Xgboost\n",
    "import matplotlib.pyplot as plt\n",
    "import numpy as np\n",
    "import pandas as pd\n",
    "import seaborn as sns\n",
    "import xgboost as xgb\n",
    "from sklearn.metrics import mean_squared_error\n",
    "\n",
    "color_pal = sns.color_palette()\n",
    "plt.style.use(\"fivethirtyeight\")\n",
    "\n",
    "reg = xgb.XGBRegressor(\n",
    "    base_score=0.5,\n",
    "    booster=\"gbtree\",\n",
    "    n_estimators=10000,\n",
    "    early_stopping_rounds=50,\n",
    "    objective=\"reg:linear\",\n",
    "    max_depth=10,\n",
    "    learning_rate=0.01,\n",
    ")\n",
    "reg.fit(\n",
    "    X_train_sc,\n",
    "    y_train,\n",
    "    eval_set=[(X_train_sc, y_train), (X_test_sc, y_test)],\n",
    "    verbose=100,\n",
    ")"
   ]
  },
  {
   "cell_type": "code",
   "execution_count": 50,
   "id": "426b045f-4bc2-470c-9617-57efa1d9c396",
   "metadata": {
    "executionInfo": {
     "elapsed": 4455,
     "status": "ok",
     "timestamp": 1681174820103,
     "user": {
      "displayName": "Shamama Afnan",
      "userId": "18119871591444313216"
     },
     "user_tz": 420
    },
    "id": "426b045f-4bc2-470c-9617-57efa1d9c396",
    "tags": []
   },
   "outputs": [],
   "source": [
    "prediction = reg.predict(X_test_sc)"
   ]
  },
  {
   "cell_type": "code",
   "execution_count": 51,
   "id": "hUN-RQ5k02n1",
   "metadata": {
    "colab": {
     "base_uri": "https://localhost:8080/"
    },
    "executionInfo": {
     "elapsed": 134,
     "status": "ok",
     "timestamp": 1681174821403,
     "user": {
      "displayName": "Shamama Afnan",
      "userId": "18119871591444313216"
     },
     "user_tz": 420
    },
    "id": "hUN-RQ5k02n1",
    "outputId": "75bcce77-181f-4e5a-fa7c-65e8c268ac0f"
   },
   "outputs": [
    {
     "name": "stdout",
     "output_type": "stream",
     "text": [
      "RMSE Score on XGBRegressor Test set: 1.113\n",
      "MAE Score on XGBRegressor Test set: 0.437\n",
      "MAPE Score on XGBRegressor Test set: 3.082\n"
     ]
    }
   ],
   "source": [
    "score = np.sqrt(mse(y_test, prediction))\n",
    "print(f\"RMSE Score on XGBRegressor Test set: {score:0.3f}\")\n",
    "mae = mean_absolute_error(y_test, prediction)\n",
    "print(f\"MAE Score on XGBRegressor Test set: {mae:0.3f}\")\n",
    "mape = mean_absolute_percentage_error(y_test, prediction)\n",
    "print(f\"MAPE Score on XGBRegressor Test set: {mape:0.3f}\")"
   ]
  },
  {
   "cell_type": "code",
   "execution_count": null,
   "id": "de4c7b60-8e68-46f4-9f26-0a2d3fcb5565",
   "metadata": {
    "colab": {
     "base_uri": "https://localhost:8080/"
    },
    "id": "de4c7b60-8e68-46f4-9f26-0a2d3fcb5565",
    "outputId": "354673ec-65f8-4674-d3ad-1abe9e43ddcb",
    "tags": []
   },
   "outputs": [
    {
     "name": "stdout",
     "output_type": "stream",
     "text": [
      "RMSE Score on XGBRegressor Test set: 1.113\n",
      "MAE Score on XGBRegressor Test set: 0.437\n",
      "MAPE Score on XGBRegressor Test set: 3.082\n"
     ]
    }
   ],
   "source": [
    "from sklearn.metrics import mean_absolute_error, mean_absolute_percentage_error\n",
    "from sklearn.metrics import mean_squared_error as mse\n",
    "from sklearn.metrics import r2_score\n",
    "\n",
    "score = np.sqrt(mse(y_test, prediction))\n",
    "print(f\"RMSE Score on XGBRegressor Test set: {score:0.3f}\")\n",
    "mae = mean_absolute_error(y_test, prediction)\n",
    "print(f\"MAE Score on XGBRegressor Test set: {mae:0.3f}\")\n",
    "mape = mean_absolute_percentage_error(y_test, prediction)\n",
    "print(f\"MAPE Score on XGBRegressor Test set: {mape:0.3f}\")"
   ]
  },
  {
   "cell_type": "markdown",
   "id": "7c9e2d89-e0fa-483c-8b29-1580eb97d194",
   "metadata": {
    "id": "7c9e2d89-e0fa-483c-8b29-1580eb97d194"
   },
   "source": [
    "# Innovative Machine Learning Models"
   ]
  },
  {
   "cell_type": "markdown",
   "id": "a4bb73f8-eb9e-4797-a320-a5b4a8630263",
   "metadata": {
    "id": "a4bb73f8-eb9e-4797-a320-a5b4a8630263"
   },
   "source": [
    "## RNN (LSTM, GRU)"
   ]
  },
  {
   "cell_type": "code",
   "execution_count": 17,
   "id": "7fa11cb2-3b9c-48ba-a174-ee6d31bb8e40",
   "metadata": {
    "id": "7fa11cb2-3b9c-48ba-a174-ee6d31bb8e40",
    "tags": []
   },
   "outputs": [
    {
     "ename": "ModuleNotFoundError",
     "evalue": "No module named 'tensorflow'",
     "output_type": "error",
     "traceback": [
      "\u001b[0;31m---------------------------------------------------------------------------\u001b[0m",
      "\u001b[0;31mModuleNotFoundError\u001b[0m                       Traceback (most recent call last)",
      "Cell \u001b[0;32mIn[17], line 1\u001b[0m\n\u001b[0;32m----> 1\u001b[0m \u001b[38;5;28;01mimport\u001b[39;00m \u001b[38;5;21;01mtensorflow\u001b[39;00m \u001b[38;5;28;01mas\u001b[39;00m \u001b[38;5;21;01mtf\u001b[39;00m\n\u001b[1;32m      2\u001b[0m \u001b[38;5;28;01mfrom\u001b[39;00m \u001b[38;5;21;01mkeras\u001b[39;00m \u001b[38;5;28;01mimport\u001b[39;00m regularizers\n\u001b[1;32m      3\u001b[0m \u001b[38;5;28;01mfrom\u001b[39;00m \u001b[38;5;21;01mkeras\u001b[39;00m\u001b[38;5;21;01m.\u001b[39;00m\u001b[38;5;21;01mlayers\u001b[39;00m \u001b[38;5;28;01mimport\u001b[39;00m GRU, LSTM, Dense, Dropout\n",
      "\u001b[0;31mModuleNotFoundError\u001b[0m: No module named 'tensorflow'"
     ]
    }
   ],
   "source": [
    "import tensorflow as tf\n",
    "from keras import regularizers\n",
    "from keras.layers import GRU, LSTM, Dense, Dropout\n",
    "from keras.models import Sequential\n",
    "from keras.optimizers import Adam\n",
    "from keras.preprocessing.sequence import TimeseriesGenerator\n",
    "from sklearn.metrics import accuracy_score\n",
    "from sklearn.model_selection import train_test_split"
   ]
  },
  {
   "cell_type": "code",
   "execution_count": null,
   "id": "13442886-d978-4fab-bae3-e6b4d4f37cb9",
   "metadata": {
    "id": "13442886-d978-4fab-bae3-e6b4d4f37cb9",
    "tags": []
   },
   "outputs": [],
   "source": [
    "# Time Series Generator Parameters\n",
    "\n",
    "lookback_length = 12\n",
    "batch_size = 64"
   ]
  },
  {
   "cell_type": "code",
   "execution_count": null,
   "id": "0fa13ea2-093c-4819-8adf-65cd12837fd7",
   "metadata": {
    "id": "0fa13ea2-093c-4819-8adf-65cd12837fd7",
    "tags": []
   },
   "outputs": [],
   "source": [
    "train_sequences = TimeseriesGenerator(\n",
    "    X_train, y_train, length=lookback_length, batch_size=batch_size\n",
    ")\n",
    "batch_x, batch_y = train_sequences[0]"
   ]
  },
  {
   "cell_type": "code",
   "execution_count": null,
   "id": "840e8b98-051a-4930-84a5-51b775081f2a",
   "metadata": {
    "id": "840e8b98-051a-4930-84a5-51b775081f2a",
    "tags": []
   },
   "outputs": [],
   "source": [
    "test_sequences = TimeseriesGenerator(\n",
    "    X_test, y_test, length=lookback_length, batch_size=batch_size\n",
    ")\n",
    "\n",
    "batch_x_test, batch_y_test = test_sequences[0]"
   ]
  },
  {
   "cell_type": "code",
   "execution_count": null,
   "id": "ba96c1a3-41d8-47ff-93e5-3cbb8b80f43c",
   "metadata": {
    "colab": {
     "base_uri": "https://localhost:8080/"
    },
    "id": "ba96c1a3-41d8-47ff-93e5-3cbb8b80f43c",
    "outputId": "15dff1be-00de-466c-a7f8-f2cdc4f092b8",
    "tags": []
   },
   "outputs": [
    {
     "name": "stdout",
     "output_type": "stream",
     "text": [
      "Model: \"sequential\"\n",
      "_________________________________________________________________\n",
      " Layer (type)                Output Shape              Param #   \n",
      "=================================================================\n",
      " gru (GRU)                   (None, 12, 16)            1488      \n",
      "                                                                 \n",
      " gru_1 (GRU)                 (None, 16)                1632      \n",
      "                                                                 \n",
      " dense (Dense)               (None, 32)                544       \n",
      "                                                                 \n",
      " dense_1 (Dense)             (None, 16)                528       \n",
      "                                                                 \n",
      " dense_2 (Dense)             (None, 8)                 136       \n",
      "                                                                 \n",
      " dense_3 (Dense)             (None, 1)                 9         \n",
      "                                                                 \n",
      "=================================================================\n",
      "Total params: 4,337\n",
      "Trainable params: 4,337\n",
      "Non-trainable params: 0\n",
      "_________________________________________________________________\n"
     ]
    }
   ],
   "source": [
    "with tf.device(\"/gpu:0\"):\n",
    "    model = Sequential()\n",
    "\n",
    "    model.add(\n",
    "        GRU(16, input_shape=(batch_x.shape[1], batch_x.shape[2]), return_sequences=True)\n",
    "    )\n",
    "\n",
    "    model.add(GRU(16))\n",
    "\n",
    "    model.add(Dense(32, activation=\"relu\"))\n",
    "    # model.add(Dropout(0.1))                  # refers to nodes in the first hidden layer\n",
    "\n",
    "    model.add(Dense(16, activation=\"relu\"))\n",
    "    # model.add(Dropout(0.1))\n",
    "\n",
    "    model.add(Dense(8, activation=\"relu\"))\n",
    "    # model.add(Dropout(0.1))\n",
    "\n",
    "    model.add(Dense(1, activation=\"linear\"))\n",
    "\n",
    "    model.summary()"
   ]
  },
  {
   "cell_type": "code",
   "execution_count": null,
   "id": "0c7c7653-b874-4bea-a47c-3913cdac2d23",
   "metadata": {
    "colab": {
     "base_uri": "https://localhost:8080/"
    },
    "id": "0c7c7653-b874-4bea-a47c-3913cdac2d23",
    "outputId": "52dd8318-cc65-47f0-e7c3-29124975eccb"
   },
   "outputs": [
    {
     "name": "stderr",
     "output_type": "stream",
     "text": [
      "/usr/local/lib/python3.9/dist-packages/keras/optimizers/legacy/adam.py:117: UserWarning: The `lr` argument is deprecated, use `learning_rate` instead.\n",
      "  super().__init__(name, **kwargs)\n",
      "<ipython-input-42-770d6bfa73b1>:6: UserWarning: `Model.fit_generator` is deprecated and will be removed in a future version. Please use `Model.fit`, which supports generators.\n",
      "  history = model.fit_generator(\n"
     ]
    },
    {
     "name": "stdout",
     "output_type": "stream",
     "text": [
      "14975/14975 [==============================] - 406s 27ms/step - loss: 1.1765 - val_loss: 1.2882\n"
     ]
    }
   ],
   "source": [
    "# GRU\n",
    "\n",
    "with tf.device(\"/gpu:0\"):\n",
    "    model.compile(optimizer=Adam(lr=0.0005), loss=\"mean_squared_error\")\n",
    "\n",
    "    history = model.fit_generator(\n",
    "        train_sequences,\n",
    "        validation_data=test_sequences,\n",
    "        epochs=1,\n",
    "        verbose=1,\n",
    "        use_multiprocessing=True,\n",
    "    )"
   ]
  },
  {
   "cell_type": "code",
   "execution_count": null,
   "id": "9e658c0d-e4b5-4ec9-9379-d8c348c671c7",
   "metadata": {
    "colab": {
     "base_uri": "https://localhost:8080/"
    },
    "id": "9e658c0d-e4b5-4ec9-9379-d8c348c671c7",
    "outputId": "bb13d59c-f1f1-413c-97ce-78ad074d383c"
   },
   "outputs": [
    {
     "name": "stdout",
     "output_type": "stream",
     "text": [
      "2/2 [==============================] - 1s 12ms/step\n",
      "RMSE Score on GRU Test set: 0.367\n",
      "MAE Score on GRU Test set: 0.356\n",
      "MAPE Score on GRU Test set: 2.792\n"
     ]
    }
   ],
   "source": [
    "from sklearn.metrics import mean_absolute_error, mean_absolute_percentage_error\n",
    "from sklearn.metrics import mean_squared_error as mse\n",
    "from sklearn.metrics import r2_score\n",
    "\n",
    "pred = model.predict(batch_x_test)\n",
    "score = np.sqrt(mse(pred, batch_y_test))\n",
    "print(f\"RMSE Score on GRU Test set: {score:0.3f}\")\n",
    "mae = mean_absolute_error(pred, batch_y_test)\n",
    "print(f\"MAE Score on GRU Test set: {mae:0.3f}\")\n",
    "mape = mean_absolute_percentage_error(pred, batch_y_test)\n",
    "print(f\"MAPE Score on GRU Test set: {mape:0.3f}\")"
   ]
  },
  {
   "cell_type": "code",
   "execution_count": null,
   "id": "6c65c69e-dbbb-44da-acfa-0d190533ab50",
   "metadata": {
    "colab": {
     "base_uri": "https://localhost:8080/"
    },
    "id": "6c65c69e-dbbb-44da-acfa-0d190533ab50",
    "outputId": "83056dc4-cd01-4a69-f4e2-fa357cd9a37d",
    "tags": []
   },
   "outputs": [
    {
     "name": "stdout",
     "output_type": "stream",
     "text": [
      "Model: \"sequential_1\"\n",
      "_________________________________________________________________\n",
      " Layer (type)                Output Shape              Param #   \n",
      "=================================================================\n",
      " lstm (LSTM)                 (None, 12, 120)           64320     \n",
      "                                                                 \n",
      " lstm_1 (LSTM)               (None, 12, 80)            64320     \n",
      "                                                                 \n",
      " lstm_2 (LSTM)               (None, 40)                19360     \n",
      "                                                                 \n",
      " dense_4 (Dense)             (None, 1)                 41        \n",
      "                                                                 \n",
      "=================================================================\n",
      "Total params: 148,041\n",
      "Trainable params: 148,041\n",
      "Non-trainable params: 0\n",
      "_________________________________________________________________\n"
     ]
    }
   ],
   "source": [
    "# %%LSTM Model\n",
    "model1 = Sequential()\n",
    "model1.add(\n",
    "    LSTM(\n",
    "        120,\n",
    "        return_sequences=True,\n",
    "        input_shape=(batch_x.shape[1], batch_x.shape[2]),\n",
    "    )\n",
    ")\n",
    "model1.add(LSTM(80, return_sequences=True))\n",
    "model1.add(LSTM(40))\n",
    "model1.add(Dense(1))\n",
    "model1.compile(loss=\"mean_squared_error\", optimizer=\"adam\")\n",
    "model1.summary()"
   ]
  },
  {
   "cell_type": "code",
   "execution_count": null,
   "id": "70810c8b-1c95-43ba-b0b3-6cc299efb92e",
   "metadata": {
    "colab": {
     "base_uri": "https://localhost:8080/"
    },
    "id": "70810c8b-1c95-43ba-b0b3-6cc299efb92e",
    "outputId": "3f8a459e-a00f-453b-acbf-0a81b6c9e492",
    "tags": []
   },
   "outputs": [
    {
     "name": "stdout",
     "output_type": "stream",
     "text": [
      "    1/14975 [..............................] - ETA: 14:52 - loss: 1.6660"
     ]
    },
    {
     "name": "stderr",
     "output_type": "stream",
     "text": [
      "/usr/local/lib/python3.9/dist-packages/keras/optimizers/legacy/adam.py:117: UserWarning: The `lr` argument is deprecated, use `learning_rate` instead.\n",
      "  super().__init__(name, **kwargs)\n",
      "<ipython-input-45-304cf22a4f47>:4: UserWarning: `Model.fit_generator` is deprecated and will be removed in a future version. Please use `Model.fit`, which supports generators.\n",
      "  history1 = model.fit_generator(\n"
     ]
    },
    {
     "name": "stdout",
     "output_type": "stream",
     "text": [
      "14975/14975 [==============================] - 344s 23ms/step - loss: 1.1631 - val_loss: 1.3209\n"
     ]
    }
   ],
   "source": [
    "# LSTM\n",
    "model1.compile(optimizer=Adam(lr=0.0005), loss=\"mean_squared_error\")\n",
    "\n",
    "history1 = model.fit_generator(\n",
    "    train_sequences, validation_data=test_sequences, epochs=1, verbose=1\n",
    ")"
   ]
  },
  {
   "cell_type": "code",
   "execution_count": null,
   "id": "d08f0dd1-7314-4c42-bc8f-7ec757cd856a",
   "metadata": {
    "colab": {
     "base_uri": "https://localhost:8080/"
    },
    "id": "d08f0dd1-7314-4c42-bc8f-7ec757cd856a",
    "outputId": "7604cb81-6120-4e98-8718-8ca37d0a2593"
   },
   "outputs": [
    {
     "name": "stdout",
     "output_type": "stream",
     "text": [
      "2/2 [==============================] - 0s 11ms/step\n",
      "RMSE Score on LSTM Test set: 0.281\n",
      "MAE Score on LSTM Test set: 0.272\n",
      "MAPE Score on LSTM Test set: 1.211\n"
     ]
    }
   ],
   "source": [
    "from sklearn.metrics import mean_absolute_error, mean_absolute_percentage_error\n",
    "from sklearn.metrics import mean_squared_error as mse\n",
    "from sklearn.metrics import r2_score\n",
    "\n",
    "pred = model.predict(batch_x_test)\n",
    "score = np.sqrt(mse(pred, batch_y_test))\n",
    "print(f\"RMSE Score on LSTM Test set: {score:0.3f}\")\n",
    "mae = mean_absolute_error(pred, batch_y_test)\n",
    "print(f\"MAE Score on LSTM Test set: {mae:0.3f}\")\n",
    "mape = mean_absolute_percentage_error(pred, batch_y_test)\n",
    "print(f\"MAPE Score on LSTM Test set: {mape:0.3f}\")"
   ]
  },
  {
   "cell_type": "markdown",
   "id": "Jc6dD5lhcyVt",
   "metadata": {
    "id": "Jc6dD5lhcyVt"
   },
   "source": [
    "## Transformer"
   ]
  },
  {
   "cell_type": "code",
   "execution_count": null,
   "id": "jGFSg2Yw7CW6",
   "metadata": {
    "id": "jGFSg2Yw7CW6"
   },
   "outputs": [],
   "source": [
    "# Transformer\n",
    "from tensorflow import keras\n",
    "from tensorflow.keras import layers\n",
    "\n",
    "\n",
    "def transformer_encoder(inputs, head_size, num_heads, ff_dim, dropout=0):\n",
    "    # Normalization and Attention\n",
    "    x = layers.LayerNormalization(epsilon=1e-6)(inputs)\n",
    "    x = layers.MultiHeadAttention(\n",
    "        key_dim=head_size, num_heads=num_heads, dropout=dropout\n",
    "    )(x, x)\n",
    "    x = layers.Dropout(dropout)(x)\n",
    "    res = x + inputs\n",
    "\n",
    "    # Feed Forward Part\n",
    "    x = layers.LayerNormalization(epsilon=1e-6)(res)\n",
    "    x = layers.Conv1D(filters=ff_dim, kernel_size=1, activation=\"relu\")(x)\n",
    "    x = layers.Dropout(dropout)(x)\n",
    "    x = layers.Conv1D(filters=inputs.shape[-1], kernel_size=1)(x)\n",
    "    return x + res"
   ]
  },
  {
   "cell_type": "code",
   "execution_count": null,
   "id": "r_l8ABAo702S",
   "metadata": {
    "id": "r_l8ABAo702S"
   },
   "outputs": [],
   "source": [
    "# Attention layer\n",
    "def build_model(\n",
    "    input_shape,\n",
    "    head_size,\n",
    "    num_heads,\n",
    "    ff_dim,\n",
    "    num_transformer_blocks,\n",
    "    mlp_units,\n",
    "    dropout=0,\n",
    "    mlp_dropout=0,\n",
    "):\n",
    "    inputs = keras.Input(shape=input_shape)\n",
    "    x = inputs\n",
    "    for _ in range(num_transformer_blocks):\n",
    "        x = transformer_encoder(x, head_size, num_heads, ff_dim, dropout)\n",
    "\n",
    "    x = layers.GlobalAveragePooling1D(data_format=\"channels_first\")(x)\n",
    "    for dim in mlp_units:\n",
    "        x = layers.Dense(dim, activation=\"relu\")(x)\n",
    "        x = layers.Dropout(mlp_dropout)(x)\n",
    "    outputs = layers.Dense(1)(x)\n",
    "    return keras.Model(inputs, outputs)"
   ]
  },
  {
   "cell_type": "code",
   "execution_count": null,
   "id": "TmAYBkbO70_2",
   "metadata": {
    "colab": {
     "base_uri": "https://localhost:8080/"
    },
    "executionInfo": {
     "elapsed": 93405,
     "status": "ok",
     "timestamp": 1681168657209,
     "user": {
      "displayName": "Shamama Afnan",
      "userId": "18119871591444313216"
     },
     "user_tz": 420
    },
    "id": "TmAYBkbO70_2",
    "outputId": "1b5e7074-85e2-451b-f23f-f2ad6375541a"
   },
   "outputs": [
    {
     "name": "stdout",
     "output_type": "stream",
     "text": [
      "Epoch 1/200\n",
      "1/1 [==============================] - 11s 11s/step - loss: 0.8919 - val_loss: 0.9766\n",
      "Epoch 2/200\n",
      "1/1 [==============================] - 0s 286ms/step - loss: 0.9240 - val_loss: 0.8833\n",
      "Epoch 3/200\n",
      "1/1 [==============================] - 0s 267ms/step - loss: 0.7527 - val_loss: 0.7989\n",
      "Epoch 4/200\n",
      "1/1 [==============================] - 0s 278ms/step - loss: 0.6030 - val_loss: 0.7233\n",
      "Epoch 5/200\n",
      "1/1 [==============================] - 0s 272ms/step - loss: 0.6425 - val_loss: 0.6532\n",
      "Epoch 6/200\n",
      "1/1 [==============================] - 0s 277ms/step - loss: 0.5824 - val_loss: 0.5887\n",
      "Epoch 7/200\n",
      "1/1 [==============================] - 0s 292ms/step - loss: 0.5290 - val_loss: 0.5295\n",
      "Epoch 8/200\n",
      "1/1 [==============================] - 0s 274ms/step - loss: 0.5291 - val_loss: 0.4761\n",
      "Epoch 9/200\n",
      "1/1 [==============================] - 0s 272ms/step - loss: 0.4357 - val_loss: 0.4277\n",
      "Epoch 10/200\n",
      "1/1 [==============================] - 0s 295ms/step - loss: 0.4719 - val_loss: 0.3864\n",
      "Epoch 11/200\n",
      "1/1 [==============================] - 0s 271ms/step - loss: 0.4164 - val_loss: 0.3518\n",
      "Epoch 12/200\n",
      "1/1 [==============================] - 0s 287ms/step - loss: 0.4135 - val_loss: 0.3233\n",
      "Epoch 13/200\n",
      "1/1 [==============================] - 0s 276ms/step - loss: 0.4120 - val_loss: 0.2995\n",
      "Epoch 14/200\n",
      "1/1 [==============================] - 0s 258ms/step - loss: 0.4461 - val_loss: 0.2810\n",
      "Epoch 15/200\n",
      "1/1 [==============================] - 0s 309ms/step - loss: 0.4362 - val_loss: 0.2670\n",
      "Epoch 16/200\n",
      "1/1 [==============================] - 0s 273ms/step - loss: 0.4140 - val_loss: 0.2548\n",
      "Epoch 17/200\n",
      "1/1 [==============================] - 0s 262ms/step - loss: 0.4449 - val_loss: 0.2450\n",
      "Epoch 18/200\n",
      "1/1 [==============================] - 0s 278ms/step - loss: 0.3875 - val_loss: 0.2375\n",
      "Epoch 19/200\n",
      "1/1 [==============================] - 0s 299ms/step - loss: 0.3840 - val_loss: 0.2326\n",
      "Epoch 20/200\n",
      "1/1 [==============================] - 0s 320ms/step - loss: 0.3893 - val_loss: 0.2291\n",
      "Epoch 21/200\n",
      "1/1 [==============================] - 0s 429ms/step - loss: 0.3836 - val_loss: 0.2270\n",
      "Epoch 22/200\n",
      "1/1 [==============================] - 0s 422ms/step - loss: 0.3475 - val_loss: 0.2252\n",
      "Epoch 23/200\n",
      "1/1 [==============================] - 0s 410ms/step - loss: 0.4416 - val_loss: 0.2237\n",
      "Epoch 24/200\n",
      "1/1 [==============================] - 0s 438ms/step - loss: 0.4285 - val_loss: 0.2226\n",
      "Epoch 25/200\n",
      "1/1 [==============================] - 0s 421ms/step - loss: 0.4204 - val_loss: 0.2215\n",
      "Epoch 26/200\n",
      "1/1 [==============================] - 0s 440ms/step - loss: 0.4101 - val_loss: 0.2206\n",
      "Epoch 27/200\n",
      "1/1 [==============================] - 0s 420ms/step - loss: 0.3731 - val_loss: 0.2199\n",
      "Epoch 28/200\n",
      "1/1 [==============================] - 0s 453ms/step - loss: 0.3574 - val_loss: 0.2192\n",
      "Epoch 29/200\n",
      "1/1 [==============================] - 0s 418ms/step - loss: 0.3243 - val_loss: 0.2190\n",
      "Epoch 30/200\n",
      "1/1 [==============================] - 0s 433ms/step - loss: 0.2834 - val_loss: 0.2188\n",
      "Epoch 31/200\n",
      "1/1 [==============================] - 0s 444ms/step - loss: 0.3901 - val_loss: 0.2189\n",
      "Epoch 32/200\n",
      "1/1 [==============================] - 0s 385ms/step - loss: 0.3700 - val_loss: 0.2190\n",
      "Epoch 33/200\n",
      "1/1 [==============================] - 0s 272ms/step - loss: 0.3648 - val_loss: 0.2184\n",
      "Epoch 34/200\n",
      "1/1 [==============================] - 0s 264ms/step - loss: 0.3249 - val_loss: 0.2177\n",
      "Epoch 35/200\n",
      "1/1 [==============================] - 0s 279ms/step - loss: 0.3345 - val_loss: 0.2168\n",
      "Epoch 36/200\n",
      "1/1 [==============================] - 0s 268ms/step - loss: 0.3069 - val_loss: 0.2155\n",
      "Epoch 37/200\n",
      "1/1 [==============================] - 0s 327ms/step - loss: 0.3504 - val_loss: 0.2142\n",
      "Epoch 38/200\n",
      "1/1 [==============================] - 0s 304ms/step - loss: 0.2992 - val_loss: 0.2129\n",
      "Epoch 39/200\n",
      "1/1 [==============================] - 0s 253ms/step - loss: 0.3075 - val_loss: 0.2116\n",
      "Epoch 40/200\n",
      "1/1 [==============================] - 0s 303ms/step - loss: 0.2983 - val_loss: 0.2101\n",
      "Epoch 41/200\n",
      "1/1 [==============================] - 0s 270ms/step - loss: 0.2938 - val_loss: 0.2086\n",
      "Epoch 42/200\n",
      "1/1 [==============================] - 0s 277ms/step - loss: 0.3043 - val_loss: 0.2067\n",
      "Epoch 43/200\n",
      "1/1 [==============================] - 0s 265ms/step - loss: 0.2805 - val_loss: 0.2042\n",
      "Epoch 44/200\n",
      "1/1 [==============================] - 0s 298ms/step - loss: 0.2787 - val_loss: 0.2017\n",
      "Epoch 45/200\n",
      "1/1 [==============================] - 0s 272ms/step - loss: 0.2889 - val_loss: 0.1991\n",
      "Epoch 46/200\n",
      "1/1 [==============================] - 0s 253ms/step - loss: 0.3160 - val_loss: 0.1965\n",
      "Epoch 47/200\n",
      "1/1 [==============================] - 0s 263ms/step - loss: 0.2725 - val_loss: 0.1934\n",
      "Epoch 48/200\n",
      "1/1 [==============================] - 0s 285ms/step - loss: 0.2843 - val_loss: 0.1905\n",
      "Epoch 49/200\n",
      "1/1 [==============================] - 0s 293ms/step - loss: 0.2660 - val_loss: 0.1877\n",
      "Epoch 50/200\n",
      "1/1 [==============================] - 0s 267ms/step - loss: 0.3079 - val_loss: 0.1853\n",
      "Epoch 51/200\n",
      "1/1 [==============================] - 0s 252ms/step - loss: 0.2606 - val_loss: 0.1832\n",
      "Epoch 52/200\n",
      "1/1 [==============================] - 0s 292ms/step - loss: 0.2572 - val_loss: 0.1815\n",
      "Epoch 53/200\n",
      "1/1 [==============================] - 0s 262ms/step - loss: 0.2836 - val_loss: 0.1799\n",
      "Epoch 54/200\n",
      "1/1 [==============================] - 0s 257ms/step - loss: 0.2744 - val_loss: 0.1782\n",
      "Epoch 55/200\n",
      "1/1 [==============================] - 0s 273ms/step - loss: 0.2826 - val_loss: 0.1770\n",
      "Epoch 56/200\n",
      "1/1 [==============================] - 0s 276ms/step - loss: 0.2736 - val_loss: 0.1754\n",
      "Epoch 57/200\n",
      "1/1 [==============================] - 0s 261ms/step - loss: 0.2579 - val_loss: 0.1735\n",
      "Epoch 58/200\n",
      "1/1 [==============================] - 0s 269ms/step - loss: 0.2649 - val_loss: 0.1717\n",
      "Epoch 59/200\n",
      "1/1 [==============================] - 0s 269ms/step - loss: 0.2799 - val_loss: 0.1697\n",
      "Epoch 60/200\n",
      "1/1 [==============================] - 0s 281ms/step - loss: 0.2867 - val_loss: 0.1676\n",
      "Epoch 61/200\n",
      "1/1 [==============================] - 0s 254ms/step - loss: 0.3062 - val_loss: 0.1656\n",
      "Epoch 62/200\n",
      "1/1 [==============================] - 0s 295ms/step - loss: 0.2494 - val_loss: 0.1637\n",
      "Epoch 63/200\n",
      "1/1 [==============================] - 0s 280ms/step - loss: 0.2533 - val_loss: 0.1619\n",
      "Epoch 64/200\n",
      "1/1 [==============================] - 0s 276ms/step - loss: 0.2423 - val_loss: 0.1600\n",
      "Epoch 65/200\n",
      "1/1 [==============================] - 0s 267ms/step - loss: 0.2394 - val_loss: 0.1581\n",
      "Epoch 66/200\n",
      "1/1 [==============================] - 0s 270ms/step - loss: 0.2172 - val_loss: 0.1562\n",
      "Epoch 67/200\n",
      "1/1 [==============================] - 0s 268ms/step - loss: 0.2702 - val_loss: 0.1542\n",
      "Epoch 68/200\n",
      "1/1 [==============================] - 0s 280ms/step - loss: 0.2910 - val_loss: 0.1522\n",
      "Epoch 69/200\n",
      "1/1 [==============================] - 0s 401ms/step - loss: 0.2138 - val_loss: 0.1501\n",
      "Epoch 70/200\n",
      "1/1 [==============================] - 0s 429ms/step - loss: 0.2475 - val_loss: 0.1480\n",
      "Epoch 71/200\n",
      "1/1 [==============================] - 0s 407ms/step - loss: 0.2132 - val_loss: 0.1458\n",
      "Epoch 72/200\n",
      "1/1 [==============================] - 0s 440ms/step - loss: 0.2603 - val_loss: 0.1437\n",
      "Epoch 73/200\n",
      "1/1 [==============================] - 0s 412ms/step - loss: 0.2343 - val_loss: 0.1414\n",
      "Epoch 74/200\n",
      "1/1 [==============================] - 0s 432ms/step - loss: 0.2113 - val_loss: 0.1390\n",
      "Epoch 75/200\n",
      "1/1 [==============================] - 0s 437ms/step - loss: 0.2170 - val_loss: 0.1367\n",
      "Epoch 76/200\n",
      "1/1 [==============================] - 0s 461ms/step - loss: 0.2597 - val_loss: 0.1343\n",
      "Epoch 77/200\n",
      "1/1 [==============================] - 0s 409ms/step - loss: 0.2249 - val_loss: 0.1320\n",
      "Epoch 78/200\n",
      "1/1 [==============================] - 0s 454ms/step - loss: 0.2407 - val_loss: 0.1295\n",
      "Epoch 79/200\n",
      "1/1 [==============================] - 0s 432ms/step - loss: 0.1924 - val_loss: 0.1268\n",
      "Epoch 80/200\n",
      "1/1 [==============================] - 0s 377ms/step - loss: 0.2639 - val_loss: 0.1241\n",
      "Epoch 81/200\n",
      "1/1 [==============================] - 0s 265ms/step - loss: 0.2090 - val_loss: 0.1213\n",
      "Epoch 82/200\n",
      "1/1 [==============================] - 0s 254ms/step - loss: 0.2022 - val_loss: 0.1185\n",
      "Epoch 83/200\n",
      "1/1 [==============================] - 0s 292ms/step - loss: 0.2067 - val_loss: 0.1155\n",
      "Epoch 84/200\n",
      "1/1 [==============================] - 0s 290ms/step - loss: 0.2630 - val_loss: 0.1126\n",
      "Epoch 85/200\n",
      "1/1 [==============================] - 0s 259ms/step - loss: 0.1922 - val_loss: 0.1097\n",
      "Epoch 86/200\n",
      "1/1 [==============================] - 0s 265ms/step - loss: 0.1949 - val_loss: 0.1067\n",
      "Epoch 87/200\n",
      "1/1 [==============================] - 0s 286ms/step - loss: 0.1483 - val_loss: 0.1035\n",
      "Epoch 88/200\n",
      "1/1 [==============================] - 0s 338ms/step - loss: 0.1872 - val_loss: 0.1002\n",
      "Epoch 89/200\n",
      "1/1 [==============================] - 0s 280ms/step - loss: 0.1741 - val_loss: 0.0970\n",
      "Epoch 90/200\n",
      "1/1 [==============================] - 0s 278ms/step - loss: 0.2097 - val_loss: 0.0935\n",
      "Epoch 91/200\n",
      "1/1 [==============================] - 0s 275ms/step - loss: 0.1877 - val_loss: 0.0900\n",
      "Epoch 92/200\n",
      "1/1 [==============================] - 0s 266ms/step - loss: 0.1766 - val_loss: 0.0866\n",
      "Epoch 93/200\n",
      "1/1 [==============================] - 0s 277ms/step - loss: 0.1628 - val_loss: 0.0832\n",
      "Epoch 94/200\n",
      "1/1 [==============================] - 0s 285ms/step - loss: 0.2159 - val_loss: 0.0797\n",
      "Epoch 95/200\n",
      "1/1 [==============================] - 0s 270ms/step - loss: 0.2008 - val_loss: 0.0762\n",
      "Epoch 96/200\n",
      "1/1 [==============================] - 0s 251ms/step - loss: 0.1368 - val_loss: 0.0727\n",
      "Epoch 97/200\n",
      "1/1 [==============================] - 0s 253ms/step - loss: 0.1940 - val_loss: 0.0691\n",
      "Epoch 98/200\n",
      "1/1 [==============================] - 0s 265ms/step - loss: 0.1699 - val_loss: 0.0653\n",
      "Epoch 99/200\n",
      "1/1 [==============================] - 0s 264ms/step - loss: 0.1944 - val_loss: 0.0615\n",
      "Epoch 100/200\n",
      "1/1 [==============================] - 0s 278ms/step - loss: 0.1615 - val_loss: 0.0576\n",
      "Epoch 101/200\n",
      "1/1 [==============================] - 0s 265ms/step - loss: 0.1536 - val_loss: 0.0537\n",
      "Epoch 102/200\n",
      "1/1 [==============================] - 0s 273ms/step - loss: 0.1579 - val_loss: 0.0501\n",
      "Epoch 103/200\n",
      "1/1 [==============================] - 0s 281ms/step - loss: 0.1684 - val_loss: 0.0465\n",
      "Epoch 104/200\n",
      "1/1 [==============================] - 0s 276ms/step - loss: 0.1509 - val_loss: 0.0431\n",
      "Epoch 105/200\n",
      "1/1 [==============================] - 0s 267ms/step - loss: 0.1258 - val_loss: 0.0398\n",
      "Epoch 106/200\n",
      "1/1 [==============================] - 0s 293ms/step - loss: 0.1155 - val_loss: 0.0365\n",
      "Epoch 107/200\n",
      "1/1 [==============================] - 0s 277ms/step - loss: 0.1558 - val_loss: 0.0334\n",
      "Epoch 108/200\n",
      "1/1 [==============================] - 0s 272ms/step - loss: 0.1485 - val_loss: 0.0307\n",
      "Epoch 109/200\n",
      "1/1 [==============================] - 0s 322ms/step - loss: 0.1004 - val_loss: 0.0285\n",
      "Epoch 110/200\n",
      "1/1 [==============================] - 0s 308ms/step - loss: 0.1217 - val_loss: 0.0265\n",
      "Epoch 111/200\n",
      "1/1 [==============================] - 0s 265ms/step - loss: 0.1012 - val_loss: 0.0248\n",
      "Epoch 112/200\n",
      "1/1 [==============================] - 0s 278ms/step - loss: 0.1085 - val_loss: 0.0233\n",
      "Epoch 113/200\n",
      "1/1 [==============================] - 0s 274ms/step - loss: 0.0914 - val_loss: 0.0222\n",
      "Epoch 114/200\n",
      "1/1 [==============================] - 0s 272ms/step - loss: 0.1115 - val_loss: 0.0214\n",
      "Epoch 115/200\n",
      "1/1 [==============================] - 0s 262ms/step - loss: 0.1107 - val_loss: 0.0209\n",
      "Epoch 116/200\n",
      "1/1 [==============================] - 0s 387ms/step - loss: 0.1154 - val_loss: 0.0206\n",
      "Epoch 117/200\n",
      "1/1 [==============================] - 1s 500ms/step - loss: 0.0971 - val_loss: 0.0205\n",
      "Epoch 118/200\n",
      "1/1 [==============================] - 1s 960ms/step - loss: 0.1164 - val_loss: 0.0205\n",
      "Epoch 119/200\n",
      "1/1 [==============================] - 1s 529ms/step - loss: 0.1100 - val_loss: 0.0206\n",
      "Epoch 120/200\n",
      "1/1 [==============================] - 0s 386ms/step - loss: 0.0685 - val_loss: 0.0208\n",
      "Epoch 121/200\n",
      "1/1 [==============================] - 0s 413ms/step - loss: 0.0717 - val_loss: 0.0209\n",
      "Epoch 122/200\n",
      "1/1 [==============================] - 0s 429ms/step - loss: 0.0738 - val_loss: 0.0212\n",
      "Epoch 123/200\n",
      "1/1 [==============================] - 0s 381ms/step - loss: 0.1116 - val_loss: 0.0213\n",
      "Epoch 124/200\n",
      "1/1 [==============================] - 0s 411ms/step - loss: 0.0874 - val_loss: 0.0213\n",
      "Epoch 125/200\n",
      "1/1 [==============================] - 0s 420ms/step - loss: 0.1067 - val_loss: 0.0212\n",
      "Epoch 126/200\n",
      "1/1 [==============================] - 0s 432ms/step - loss: 0.1281 - val_loss: 0.0208\n",
      "Epoch 127/200\n",
      "1/1 [==============================] - 0s 370ms/step - loss: 0.1310 - val_loss: 0.0203\n",
      "Epoch 128/200\n",
      "1/1 [==============================] - 0s 269ms/step - loss: 0.1179 - val_loss: 0.0199\n",
      "Epoch 129/200\n",
      "1/1 [==============================] - 0s 269ms/step - loss: 0.1065 - val_loss: 0.0195\n",
      "Epoch 130/200\n",
      "1/1 [==============================] - 0s 280ms/step - loss: 0.0814 - val_loss: 0.0194\n",
      "Epoch 131/200\n",
      "1/1 [==============================] - 0s 259ms/step - loss: 0.0936 - val_loss: 0.0193\n",
      "Epoch 132/200\n",
      "1/1 [==============================] - 0s 249ms/step - loss: 0.0738 - val_loss: 0.0193\n",
      "Epoch 133/200\n",
      "1/1 [==============================] - 0s 268ms/step - loss: 0.0816 - val_loss: 0.0193\n",
      "Epoch 134/200\n",
      "1/1 [==============================] - 0s 267ms/step - loss: 0.0748 - val_loss: 0.0192\n",
      "Epoch 135/200\n",
      "1/1 [==============================] - 0s 262ms/step - loss: 0.0807 - val_loss: 0.0191\n",
      "Epoch 136/200\n",
      "1/1 [==============================] - 0s 255ms/step - loss: 0.0919 - val_loss: 0.0190\n",
      "Epoch 137/200\n",
      "1/1 [==============================] - 0s 265ms/step - loss: 0.0977 - val_loss: 0.0189\n",
      "Epoch 138/200\n",
      "1/1 [==============================] - 0s 278ms/step - loss: 0.0964 - val_loss: 0.0186\n",
      "Epoch 139/200\n",
      "1/1 [==============================] - 0s 273ms/step - loss: 0.0981 - val_loss: 0.0184\n",
      "Epoch 140/200\n",
      "1/1 [==============================] - 0s 258ms/step - loss: 0.0686 - val_loss: 0.0182\n",
      "Epoch 141/200\n",
      "1/1 [==============================] - 0s 265ms/step - loss: 0.0873 - val_loss: 0.0180\n",
      "Epoch 142/200\n",
      "1/1 [==============================] - 0s 272ms/step - loss: 0.0670 - val_loss: 0.0181\n",
      "Epoch 143/200\n",
      "1/1 [==============================] - 0s 239ms/step - loss: 0.0587 - val_loss: 0.0182\n",
      "Epoch 144/200\n",
      "1/1 [==============================] - 0s 256ms/step - loss: 0.0602 - val_loss: 0.0184\n",
      "Epoch 145/200\n",
      "1/1 [==============================] - 0s 247ms/step - loss: 0.0783 - val_loss: 0.0185\n",
      "Epoch 146/200\n",
      "1/1 [==============================] - 0s 255ms/step - loss: 0.0794 - val_loss: 0.0187\n",
      "Epoch 147/200\n",
      "1/1 [==============================] - 0s 248ms/step - loss: 0.0732 - val_loss: 0.0189\n",
      "Epoch 148/200\n",
      "1/1 [==============================] - 0s 251ms/step - loss: 0.0771 - val_loss: 0.0190\n",
      "Epoch 149/200\n",
      "1/1 [==============================] - 0s 258ms/step - loss: 0.0573 - val_loss: 0.0191\n",
      "Epoch 150/200\n",
      "1/1 [==============================] - 0s 261ms/step - loss: 0.0806 - val_loss: 0.0190\n",
      "Epoch 151/200\n",
      "1/1 [==============================] - 0s 293ms/step - loss: 0.0667 - val_loss: 0.0191\n",
      "2/2 [==============================] - 0s 43ms/step - loss: 0.0261\n",
      "The execution time for Transformer model  33.02640724182129 seconds\n"
     ]
    }
   ],
   "source": [
    "# Train transformer model\n",
    "input_shape = batch_x.shape[1:]\n",
    "\n",
    "model = build_model(\n",
    "    input_shape,\n",
    "    head_size=256,\n",
    "    num_heads=4,\n",
    "    ff_dim=4,\n",
    "    num_transformer_blocks=4,\n",
    "    mlp_units=[128],\n",
    "    mlp_dropout=0.4,\n",
    "    dropout=0.25,\n",
    ")\n",
    "\n",
    "model.compile(\n",
    "    loss=\"mean_squared_error\", optimizer=keras.optimizers.Adam(learning_rate=1e-4)\n",
    ")\n",
    "# model.summary()\n",
    "\n",
    "callbacks = [keras.callbacks.EarlyStopping(patience=10, restore_best_weights=True)]\n",
    "\n",
    "model.fit(\n",
    "    batch_x,\n",
    "    batch_y,\n",
    "    validation_split=0.2,\n",
    "    epochs=200,\n",
    "    batch_size=64,\n",
    "    callbacks=callbacks,\n",
    ")\n",
    "start_time = time.time()\n",
    "model.evaluate(batch_x_test, batch_y_test, verbose=1)\n",
    "print(\n",
    "    \"The execution time for Transformer model  %s seconds\" % (time.time() - start_time)\n",
    ")"
   ]
  },
  {
   "cell_type": "code",
   "execution_count": null,
   "id": "rSpmBk-S71Ml",
   "metadata": {
    "colab": {
     "base_uri": "https://localhost:8080/"
    },
    "executionInfo": {
     "elapsed": 1338,
     "status": "ok",
     "timestamp": 1681168682854,
     "user": {
      "displayName": "Shamama Afnan",
      "userId": "18119871591444313216"
     },
     "user_tz": 420
    },
    "id": "rSpmBk-S71Ml",
    "outputId": "b4247888-24f1-419c-c33d-7f55416a4dc5"
   },
   "outputs": [
    {
     "name": "stdout",
     "output_type": "stream",
     "text": [
      "2/2 [==============================] - 1s 61ms/step\n",
      "RMSE Score on Transformer Test set: 0.162\n",
      "MAE Score on Transformer Test set: 0.124\n",
      "MAPE Score on Transformer Test set: 0.396\n"
     ]
    }
   ],
   "source": [
    "from sklearn.metrics import mean_absolute_error, mean_absolute_percentage_error\n",
    "from sklearn.metrics import mean_squared_error as mse\n",
    "from sklearn.metrics import r2_score\n",
    "\n",
    "pred = model.predict(batch_x_test)\n",
    "score = np.sqrt(mse(pred, batch_y_test))\n",
    "print(f\"RMSE Score on Transformer Test set: {score:0.3f}\")\n",
    "mae = mean_absolute_error(pred, batch_y_test)\n",
    "print(f\"MAE Score on Transformer Test set: {mae:0.3f}\")\n",
    "mape = mean_absolute_percentage_error(pred, batch_y_test)\n",
    "print(f\"MAPE Score on Transformer Test set: {mape:0.3f}\")"
   ]
  },
  {
   "cell_type": "code",
   "execution_count": null,
   "id": "rcoNqd9ic0nu",
   "metadata": {
    "id": "rcoNqd9ic0nu"
   },
   "outputs": [],
   "source": []
  },
  {
   "cell_type": "markdown",
   "id": "3073b257-4cc6-48cd-a2b5-959f10a1c330",
   "metadata": {
    "id": "3073b257-4cc6-48cd-a2b5-959f10a1c330"
   },
   "source": [
    "## Our Proposed Model"
   ]
  },
  {
   "cell_type": "code",
   "execution_count": 82,
   "id": "7fa717fd",
   "metadata": {},
   "outputs": [],
   "source": [
    "import numpy as np\n",
    "import torch\n",
    "import torch.nn as nn\n",
    "\n",
    "\n",
    "def get_emb(sin_inp):\n",
    "    \"\"\"\n",
    "    Gets a base embedding for one dimension with sin and cos intertwined\n",
    "    \"\"\"\n",
    "    emb = torch.stack((sin_inp.sin(), sin_inp.cos()), dim=-1)\n",
    "    return torch.flatten(emb, -2, -1)\n",
    "\n",
    "\n",
    "class PositionalEncoding1D(nn.Module):\n",
    "    def __init__(self, channels):\n",
    "        \"\"\"\n",
    "        :param channels: The last dimension of the tensor you want to apply pos emb to.\n",
    "        \"\"\"\n",
    "        super(PositionalEncoding1D, self).__init__()\n",
    "        self.org_channels = channels\n",
    "        channels = int(np.ceil(channels / 2) * 2)\n",
    "        self.channels = channels\n",
    "        inv_freq = 1.0 / (10000 ** (torch.arange(0, channels, 2).float() / channels))\n",
    "        self.register_buffer(\"inv_freq\", inv_freq)\n",
    "        self.cached_penc = None\n",
    "\n",
    "    def forward(self, tensor):\n",
    "        \"\"\"\n",
    "        :param tensor: A 3d tensor of size (batch_size, x, ch)\n",
    "        :return: Positional Encoding Matrix of size (batch_size, x, ch)\n",
    "        \"\"\"\n",
    "        if len(tensor.shape) != 3:\n",
    "            raise RuntimeError(\"The input tensor has to be 3d!\")\n",
    "\n",
    "        if self.cached_penc is not None and self.cached_penc.shape == tensor.shape:\n",
    "            return self.cached_penc\n",
    "\n",
    "        self.cached_penc = None\n",
    "        batch_size, x, orig_ch = tensor.shape\n",
    "        pos_x = torch.arange(x, device=tensor.device).type(self.inv_freq.type())\n",
    "        sin_inp_x = torch.einsum(\"i,j->ij\", pos_x, self.inv_freq)\n",
    "        emb_x = get_emb(sin_inp_x)\n",
    "        emb = torch.zeros((x, self.channels), device=tensor.device).type(tensor.type())\n",
    "        emb[:, : self.channels] = emb_x\n",
    "\n",
    "        self.cached_penc = emb[None, :, :orig_ch].repeat(batch_size, 1, 1)\n",
    "        return self.cached_penc\n",
    "\n",
    "\n",
    "class PositionalEncodingPermute1D(nn.Module):\n",
    "    def __init__(self, channels):\n",
    "        \"\"\"\n",
    "        Accepts (batchsize, ch, x) instead of (batchsize, x, ch)\n",
    "        \"\"\"\n",
    "        super(PositionalEncodingPermute1D, self).__init__()\n",
    "        self.penc = PositionalEncoding1D(channels)\n",
    "\n",
    "    def forward(self, tensor):\n",
    "        tensor = tensor.permute(0, 2, 1)\n",
    "        enc = self.penc(tensor)\n",
    "        return enc.permute(0, 2, 1)\n",
    "\n",
    "    @property\n",
    "    def org_channels(self):\n",
    "        return self.penc.org_channels\n",
    "\n",
    "\n",
    "class PositionalEncoding2D(nn.Module):\n",
    "    def __init__(self, channels):\n",
    "        \"\"\"\n",
    "        :param channels: The last dimension of the tensor you want to apply pos emb to.\n",
    "        \"\"\"\n",
    "        super(PositionalEncoding2D, self).__init__()\n",
    "        self.org_channels = channels\n",
    "        channels = int(np.ceil(channels / 4) * 2)\n",
    "        self.channels = channels\n",
    "        inv_freq = 1.0 / (10000 ** (torch.arange(0, channels, 2).float() / channels))\n",
    "        self.register_buffer(\"inv_freq\", inv_freq)\n",
    "        self.cached_penc = None\n",
    "\n",
    "    def forward(self, tensor):\n",
    "        \"\"\"\n",
    "        :param tensor: A 4d tensor of size (batch_size, x, y, ch)\n",
    "        :return: Positional Encoding Matrix of size (batch_size, x, y, ch)\n",
    "        \"\"\"\n",
    "        if len(tensor.shape) != 4:\n",
    "            raise RuntimeError(\"The input tensor has to be 4d!\")\n",
    "\n",
    "        if self.cached_penc is not None and self.cached_penc.shape == tensor.shape:\n",
    "            return self.cached_penc\n",
    "\n",
    "        self.cached_penc = None\n",
    "        batch_size, x, y, orig_ch = tensor.shape\n",
    "        pos_x = torch.arange(x, device=tensor.device).type(self.inv_freq.type())\n",
    "        pos_y = torch.arange(y, device=tensor.device).type(self.inv_freq.type())\n",
    "        sin_inp_x = torch.einsum(\"i,j->ij\", pos_x, self.inv_freq)\n",
    "        sin_inp_y = torch.einsum(\"i,j->ij\", pos_y, self.inv_freq)\n",
    "        emb_x = get_emb(sin_inp_x).unsqueeze(1)\n",
    "        emb_y = get_emb(sin_inp_y)\n",
    "        emb = torch.zeros((x, y, self.channels * 2), device=tensor.device).type(\n",
    "            tensor.type()\n",
    "        )\n",
    "        emb[:, :, : self.channels] = emb_x\n",
    "        emb[:, :, self.channels : 2 * self.channels] = emb_y\n",
    "\n",
    "        self.cached_penc = emb[None, :, :, :orig_ch].repeat(tensor.shape[0], 1, 1, 1)\n",
    "        return self.cached_penc\n",
    "\n",
    "\n",
    "class PositionalEncodingPermute2D(nn.Module):\n",
    "    def __init__(self, channels):\n",
    "        \"\"\"\n",
    "        Accepts (batchsize, ch, x, y) instead of (batchsize, x, y, ch)\n",
    "        \"\"\"\n",
    "        super(PositionalEncodingPermute2D, self).__init__()\n",
    "        self.penc = PositionalEncoding2D(channels)\n",
    "\n",
    "    def forward(self, tensor):\n",
    "        tensor = tensor.permute(0, 2, 3, 1)\n",
    "        enc = self.penc(tensor)\n",
    "        return enc.permute(0, 3, 1, 2)\n",
    "\n",
    "    @property\n",
    "    def org_channels(self):\n",
    "        return self.penc.org_channels\n",
    "\n",
    "\n",
    "class PositionalEncoding3D(nn.Module):\n",
    "    def __init__(self, channels):\n",
    "        \"\"\"\n",
    "        :param channels: The last dimension of the tensor you want to apply pos emb to.\n",
    "        \"\"\"\n",
    "        super(PositionalEncoding3D, self).__init__()\n",
    "        self.org_channels = channels\n",
    "        channels = int(np.ceil(channels / 6) * 2)\n",
    "        if channels % 2:\n",
    "            channels += 1\n",
    "        self.channels = channels\n",
    "        inv_freq = 1.0 / (10000 ** (torch.arange(0, channels, 2).float() / channels))\n",
    "        self.register_buffer(\"inv_freq\", inv_freq)\n",
    "        self.cached_penc = None\n",
    "\n",
    "    def forward(self, tensor):\n",
    "        \"\"\"\n",
    "        :param tensor: A 5d tensor of size (batch_size, x, y, z, ch)\n",
    "        :return: Positional Encoding Matrix of size (batch_size, x, y, z, ch)\n",
    "        \"\"\"\n",
    "        if len(tensor.shape) != 5:\n",
    "            raise RuntimeError(\"The input tensor has to be 5d!\")\n",
    "\n",
    "        if self.cached_penc is not None and self.cached_penc.shape == tensor.shape:\n",
    "            return self.cached_penc\n",
    "\n",
    "        self.cached_penc = None\n",
    "        batch_size, x, y, z, orig_ch = tensor.shape\n",
    "        pos_x = torch.arange(x, device=tensor.device).type(self.inv_freq.type())\n",
    "        pos_y = torch.arange(y, device=tensor.device).type(self.inv_freq.type())\n",
    "        pos_z = torch.arange(z, device=tensor.device).type(self.inv_freq.type())\n",
    "        sin_inp_x = torch.einsum(\"i,j->ij\", pos_x, self.inv_freq)\n",
    "        sin_inp_y = torch.einsum(\"i,j->ij\", pos_y, self.inv_freq)\n",
    "        sin_inp_z = torch.einsum(\"i,j->ij\", pos_z, self.inv_freq)\n",
    "        emb_x = get_emb(sin_inp_x).unsqueeze(1).unsqueeze(1)\n",
    "        emb_y = get_emb(sin_inp_y).unsqueeze(1)\n",
    "        emb_z = get_emb(sin_inp_z)\n",
    "        emb = torch.zeros((x, y, z, self.channels * 3), device=tensor.device).type(\n",
    "            tensor.type()\n",
    "        )\n",
    "        emb[:, :, :, : self.channels] = emb_x\n",
    "        emb[:, :, :, self.channels : 2 * self.channels] = emb_y\n",
    "        emb[:, :, :, 2 * self.channels :] = emb_z\n",
    "\n",
    "        self.cached_penc = emb[None, :, :, :, :orig_ch].repeat(batch_size, 1, 1, 1, 1)\n",
    "        return self.cached_penc\n",
    "\n",
    "\n",
    "class PositionalEncodingPermute3D(nn.Module):\n",
    "    def __init__(self, channels):\n",
    "        \"\"\"\n",
    "        Accepts (batchsize, ch, x, y, z) instead of (batchsize, x, y, z, ch)\n",
    "        \"\"\"\n",
    "        super(PositionalEncodingPermute3D, self).__init__()\n",
    "        self.penc = PositionalEncoding3D(channels)\n",
    "\n",
    "    def forward(self, tensor):\n",
    "        tensor = tensor.permute(0, 2, 3, 4, 1)\n",
    "        enc = self.penc(tensor)\n",
    "        return enc.permute(0, 4, 1, 2, 3)\n",
    "\n",
    "    @property\n",
    "    def org_channels(self):\n",
    "        return self.penc.org_channels\n",
    "\n",
    "\n",
    "class Summer(nn.Module):\n",
    "    def __init__(self, penc):\n",
    "        \"\"\"\n",
    "        :param model: The type of positional encoding to run the summer on.\n",
    "        \"\"\"\n",
    "        super(Summer, self).__init__()\n",
    "        self.penc = penc\n",
    "\n",
    "    def forward(self, tensor):\n",
    "        \"\"\"\n",
    "        :param tensor: A 3, 4 or 5d tensor that matches the model output size\n",
    "        :return: Positional Encoding Matrix summed to the original tensor\n",
    "        \"\"\"\n",
    "        penc = self.penc(tensor)\n",
    "        assert (\n",
    "            tensor.size() == penc.size()\n",
    "        ), \"The original tensor size {} and the positional encoding tensor size {} must match!\".format(\n",
    "            tensor.size(), penc.size()\n",
    "        )\n",
    "        return tensor + penc"
   ]
  },
  {
   "cell_type": "code",
   "execution_count": 193,
   "id": "35b229fc-f36d-48a1-8765-b204680eddf3",
   "metadata": {
    "id": "35b229fc-f36d-48a1-8765-b204680eddf3",
    "tags": []
   },
   "outputs": [],
   "source": [
    "# dense -> MLP             -\\\n",
    "# sparse -> nn.Embedding   --  MLP\n",
    "\n",
    "from torch import Tensor\n",
    "\n",
    "\n",
    "class ElectricyMarketPriceModule(pl.LightningModule):\n",
    "    def __init__(self):\n",
    "        super().__init__()\n",
    "\n",
    "        embedding_dim = 128\n",
    "        self._dense_mlp = nn.Sequential(\n",
    "            nn.LazyLinear(16),\n",
    "            nn.Tanh(),\n",
    "        )\n",
    "        self._month_emb = nn.Embedding(12, embedding_dim)\n",
    "        self._hour_emb = nn.Embedding(24, embedding_dim)\n",
    "        self._weekday_emb = nn.Embedding(7, embedding_dim)\n",
    "        self._node_emb = nn.Embedding(10, embedding_dim)\n",
    "        self._sparse_mlp = nn.Sequential(\n",
    "            nn.LazyLinear(128),\n",
    "            nn.Tanh(),\n",
    "        )\n",
    "        self.pos_encoder = Summer(PositionalEncoding1D(16 + 128))\n",
    "        self._encoder_layer = nn.TransformerEncoderLayer(d_model=16 + 128, nhead=4)\n",
    "        self._transformer_encoder = nn.TransformerEncoder(\n",
    "            self._encoder_layer, num_layers=2\n",
    "        )\n",
    "        self._over_mlp = nn.Sequential(\n",
    "            nn.LazyLinear(64),\n",
    "            nn.Tanh(),\n",
    "            nn.LazyLinear(6),\n",
    "        )\n",
    "\n",
    "        self.loss = nn.MSELoss()\n",
    "\n",
    "    def training_step(self, batch):\n",
    "        dense, sparse, label = batch\n",
    "        # print(f\"dense = {dense}\")\n",
    "        # print(f\"sparse = {sparse}\")\n",
    "        # print(f\"label = {label}\")\n",
    "        # raise Exception()\n",
    "\n",
    "        B = dense.size(0)\n",
    "        dense_out = self._dense_mlp(dense)\n",
    "        month_embs = self._month_emb(sparse[:, :, 0])\n",
    "        hour_embs = self._hour_emb(sparse[:, :, 1])\n",
    "        weekday_embs = self._weekday_emb(sparse[:, :, 2])\n",
    "        node_embs = self._node_emb(sparse[:, :, 3])\n",
    "        sparse_out = self._sparse_mlp(\n",
    "            torch.cat([month_embs, hour_embs, weekday_embs, node_embs], dim=-1)\n",
    "        )\n",
    "        attn_input = self.pos_encoder(torch.cat([dense_out, sparse_out], dim=-1))\n",
    "        # attn_input = self.pos_encoder(dense_out)\n",
    "        attn_output = self._transformer_encoder(attn_input)  # [B, 288, 68]\n",
    "        pred = self._over_mlp(attn_output.view(B, -1))\n",
    "        # print(f'pred {pred}')\n",
    "        # print(f'label {label}')\n",
    "        loss = self.loss(pred, label)\n",
    "        # print(f'loss {loss}')\n",
    "        self.log(\"train_loss\", loss)\n",
    "        return loss\n",
    "\n",
    "    def validation_step(self, batch, batch_idx):\n",
    "        x, y = batch\n",
    "        out = self.cnn_net(x)\n",
    "        out = out.view(x.size(0), -1)\n",
    "        pred = self.linear_net(out)\n",
    "        pred = torch.argmax(pred, dim=1)\n",
    "        self.log(\"val_loss\", (pred == y).sum().item() / x.size(0), prog_bar=True)\n",
    "\n",
    "    def test_step(self, batch, batch_idx):\n",
    "        # this is the test loop\n",
    "        x, y = batch\n",
    "        out = self.cnn_net(x)\n",
    "        out = out.view(x.size(0), -1)\n",
    "        pred = self.linear_net(out)\n",
    "        pred = torch.argmax(pred, dim=1)\n",
    "        self.log(\"test_loss\", (pred == y).sum().item() / x.size(0))\n",
    "\n",
    "    def predict_step(self, batch, batch_idx):\n",
    "        dense, sparse, label = batch\n",
    "        # print(f\"dense = {dense}\")\n",
    "        # print(f\"sparse = {sparse}\")\n",
    "        # print(f\"label = {label}\")\n",
    "        # raise Exception()\n",
    "\n",
    "        B = dense.size(0)\n",
    "        dense_out = self._dense_mlp(dense)\n",
    "        month_embs = self._month_emb(sparse[:, :, 0])\n",
    "        hour_embs = self._hour_emb(sparse[:, :, 1])\n",
    "        weekday_embs = self._weekday_emb(sparse[:, :, 2])\n",
    "        node_embs = self._node_emb(sparse[:, :, 3])\n",
    "        sparse_out = self._sparse_mlp(\n",
    "            torch.cat([month_embs, hour_embs, weekday_embs, node_embs], dim=-1)\n",
    "        )\n",
    "        attn_input = self.pos_encoder(torch.cat([dense_out, sparse_out], dim=-1))\n",
    "        attn_output = self._transformer_encoder(attn_input)  # [B, 288, 68]\n",
    "        pred = self._over_mlp(attn_output.view(B, -1))\n",
    "        return pred, label\n",
    "\n",
    "    def configure_optimizers(self):\n",
    "        optimizer = torch.optim.SGD(self.parameters(), lr=0.01)\n",
    "        lr_scheduler = torch.optim.lr_scheduler.ExponentialLR(\n",
    "            optimizer, gamma=0.95, verbose=True\n",
    "        )\n",
    "        return [optimizer], [lr_scheduler]"
   ]
  },
  {
   "cell_type": "code",
   "execution_count": 80,
   "id": "90826f22-de3f-4e5e-9949-80b08c16656f",
   "metadata": {
    "id": "90826f22-de3f-4e5e-9949-80b08c16656f",
    "tags": []
   },
   "outputs": [],
   "source": [
    "import dateutil\n",
    "\n",
    "node_to_id = {}\n",
    "\n",
    "\n",
    "class MyIterableDataset(torch.utils.data.IterableDataset):\n",
    "    def __init__(self, df, years: List[int]):\n",
    "        super(MyIterableDataset).__init__()\n",
    "\n",
    "        self._df = df\n",
    "\n",
    "    def __iter__(self):\n",
    "        worker_info = torch.utils.data.get_worker_info()\n",
    "        assert (\n",
    "            worker_info is None\n",
    "        )  # single-process data loading, return the full iterator\n",
    "\n",
    "        price_list: List[float] = []\n",
    "        dense_list: List[List[float]] = []\n",
    "        month_list: List[int] = []\n",
    "        hour_list: List[int] = []\n",
    "        weekday_list: List[int] = []\n",
    "        node_list: List[int] = []\n",
    "\n",
    "        for index, row in self._df.iterrows():\n",
    "            # 24 hours for training, 1 hour for ground truth\n",
    "            if len(price_list) == 24 * 12 + 12 * 24:\n",
    "                indices = list(range(0, 24 * 12, 12))\n",
    "                yield torch.tensor(\n",
    "                    [dense_list[i] for i in indices], dtype=torch.float\n",
    "                ), torch.tensor(\n",
    "                    list(\n",
    "                        zip(\n",
    "                            [month_list[i] for i in indices],\n",
    "                            [hour_list[i] for i in indices],\n",
    "                            [weekday_list[i] for i in indices],\n",
    "                            [node_list[i] for i in indices],\n",
    "                        )\n",
    "                    ),\n",
    "                    dtype=torch.int,\n",
    "                ), torch.tensor(\n",
    "                    [\n",
    "                        price_list[24 * 12],\n",
    "                        price_list[24 * 12 + 11],\n",
    "                        price_list[24 * 12 + 12 * 2 - 1],\n",
    "                        price_list[24 * 12 + 12 * 4 - 1],\n",
    "                        price_list[24 * 12 + 12 * 12 - 1],\n",
    "                        price_list[24 * 12 + 12 * 24 - 1],\n",
    "                    ],\n",
    "                    dtype=torch.float,\n",
    "                ),\n",
    "\n",
    "                # 5 minutes, one hour, 2 hours, 4 hours, 12 hours, 24 hours\n",
    "\n",
    "                price_list.pop(0)\n",
    "                dense_list.pop(0)\n",
    "                month_list.pop(0)\n",
    "                hour_list.pop(0)\n",
    "                weekday_list.pop(0)\n",
    "                node_list.pop(0)\n",
    "\n",
    "            price_list.append(float(row[\"VALUE\"]))\n",
    "            dense_list.append([float(row[\"VALUE\"])] + row[df.columns[-9:]].tolist())\n",
    "            curt_dt = row[\"INTERVALSTARTTIME_GMT\"].to_pydatetime() + timedelta(hours=8)\n",
    "            month_list.append(curt_dt.month - 1)\n",
    "            hour_list.append(curt_dt.hour)\n",
    "            weekday_list.append(curt_dt.weekday())\n",
    "            if row[\"NODE_ID\"] not in node_to_id:\n",
    "                node_to_id[row[\"NODE_ID\"]] = len(node_to_id)\n",
    "            node_list.append(node_to_id[row[\"NODE_ID\"]])\n",
    "\n",
    "\n",
    "train_dataset = MyIterableDataset(df, years=[2020, 2021])\n",
    "test_dataset = MyIterableDataset(df, years=[2022])"
   ]
  },
  {
   "cell_type": "code",
   "execution_count": 81,
   "id": "bb99a6d2",
   "metadata": {},
   "outputs": [],
   "source": [
    "class ShuffleDataset(torch.utils.data.IterableDataset):\n",
    "    def __init__(self, dataset, buffer_size):\n",
    "        super().__init__()\n",
    "        self.dataset = dataset\n",
    "        self.buffer = list(iter(self.dataset))\n",
    "\n",
    "    def __iter__(self):\n",
    "        buffer = self.buffer\n",
    "        random.shuffle(buffer)\n",
    "        buffer_iter = iter(buffer)\n",
    "\n",
    "        try:\n",
    "            while True:\n",
    "                try:\n",
    "                    yield next(buffer_iter)\n",
    "                except StopIteration:\n",
    "                    break\n",
    "        except GeneratorExit:\n",
    "            pass\n",
    "\n",
    "\n",
    "shuffled_train_dataset = ShuffleDataset(train_dataset, 12 * 24 * 7 * 30 * 12)\n",
    "shuffled_test_dataset = ShuffleDataset(test_dataset, 12 * 24 * 7 * 30 * 12)"
   ]
  },
  {
   "cell_type": "code",
   "execution_count": 194,
   "id": "04cde994-97ad-443a-9572-28b427536963",
   "metadata": {
    "id": "04cde994-97ad-443a-9572-28b427536963",
    "outputId": "4af23326-e531-416d-aee0-5aff00564a02",
    "tags": []
   },
   "outputs": [
    {
     "name": "stderr",
     "output_type": "stream",
     "text": [
      "/home/zyan/miniconda3/envs/pytorch/lib/python3.10/site-packages/torch/nn/modules/lazy.py:180: UserWarning: Lazy modules are a new feature under heavy development so changes to the API or functionality can happen at any moment.\n",
      "  warnings.warn('Lazy modules are a new feature under heavy development '\n"
     ]
    },
    {
     "name": "stdout",
     "output_type": "stream",
     "text": [
      "linear Linear(in_features=10, out_features=16, bias=True)\n",
      "embedding Embedding(12, 128)\n",
      "embedding Embedding(24, 128)\n",
      "embedding Embedding(7, 128)\n",
      "embedding Embedding(10, 128)\n",
      "linear Linear(in_features=512, out_features=128, bias=True)\n",
      "linear NonDynamicallyQuantizableLinear(in_features=144, out_features=144, bias=True)\n",
      "linear Linear(in_features=144, out_features=2048, bias=True)\n",
      "linear Linear(in_features=2048, out_features=144, bias=True)\n",
      "linear NonDynamicallyQuantizableLinear(in_features=144, out_features=144, bias=True)\n",
      "linear Linear(in_features=144, out_features=2048, bias=True)\n",
      "linear Linear(in_features=2048, out_features=144, bias=True)\n",
      "linear NonDynamicallyQuantizableLinear(in_features=144, out_features=144, bias=True)\n",
      "linear Linear(in_features=144, out_features=2048, bias=True)\n",
      "linear Linear(in_features=2048, out_features=144, bias=True)\n",
      "linear Linear(in_features=3456, out_features=64, bias=True)\n",
      "linear Linear(in_features=64, out_features=6, bias=True)\n"
     ]
    },
    {
     "name": "stderr",
     "output_type": "stream",
     "text": [
      "/home/zyan/miniconda3/envs/pytorch/lib/python3.10/site-packages/pytorch_lightning/core/module.py:410: UserWarning: You are trying to `self.log()` but the `self.trainer` reference is not registered on the model yet. This is most likely because the model hasn't been passed to the `Trainer`\n",
      "  rank_zero_warn(\n",
      "/tmp/ipykernel_34292/1710434713.py:4: UserWarning: nn.init.xavier_uniform is now deprecated in favor of nn.init.xavier_uniform_.\n",
      "  torch.nn.init.xavier_uniform(m.weight)\n"
     ]
    },
    {
     "data": {
      "text/plain": [
       "tensor(1.4258, grad_fn=<MseLossBackward0>)"
      ]
     },
     "execution_count": 194,
     "metadata": {},
     "output_type": "execute_result"
    }
   ],
   "source": [
    "def init_weights(m):\n",
    "    if isinstance(m, nn.Linear):\n",
    "        print(f\"linear {m}\")\n",
    "        torch.nn.init.xavier_uniform(m.weight)\n",
    "        m.bias.data.fill_(0.01)\n",
    "    if isinstance(m, nn.Embedding):\n",
    "        print(f\"embedding {m}\")\n",
    "        nn.init.uniform_(m.weight, -1.0, 1.0)\n",
    "\n",
    "\n",
    "module = ElectricyMarketPriceModule()\n",
    "\n",
    "batch = next(iter(DataLoader(train_dataset, batch_size=32)))\n",
    "module.training_step(batch)\n",
    "module.apply(init_weights)\n",
    "module.training_step(batch)"
   ]
  },
  {
   "cell_type": "code",
   "execution_count": 190,
   "id": "26bdd135-5318-4426-8646-a66b0d32d6d1",
   "metadata": {
    "id": "26bdd135-5318-4426-8646-a66b0d32d6d1",
    "tags": []
   },
   "outputs": [
    {
     "name": "stderr",
     "output_type": "stream",
     "text": [
      "GPU available: True (cuda), used: True\n",
      "TPU available: False, using: 0 TPU cores\n",
      "IPU available: False, using: 0 IPUs\n",
      "HPU available: False, using: 0 HPUs\n",
      "/home/zyan/miniconda3/envs/pytorch/lib/python3.10/site-packages/pytorch_lightning/trainer/configuration_validator.py:72: PossibleUserWarning: You defined a `validation_step` but have no `val_dataloader`. Skipping val loop.\n",
      "  rank_zero_warn(\n",
      "You are using a CUDA device ('NVIDIA Graphics Device') that has Tensor Cores. To properly utilize them, you should set `torch.set_float32_matmul_precision('medium' | 'high')` which will trade-off precision for performance. For more details, read https://pytorch.org/docs/stable/generated/torch.set_float32_matmul_precision.html#torch.set_float32_matmul_precision\n",
      "LOCAL_RANK: 0 - CUDA_VISIBLE_DEVICES: [0]\n",
      "\n",
      "   | Name                 | Type                    | Params\n",
      "------------------------------------------------------------------\n",
      "0  | _dense_mlp           | Sequential              | 1.4 K \n",
      "1  | _month_emb           | Embedding               | 1.5 K \n",
      "2  | _hour_emb            | Embedding               | 3.1 K \n",
      "3  | _weekday_emb         | Embedding               | 896   \n",
      "4  | _node_emb            | Embedding               | 1.3 K \n",
      "5  | _sparse_mlp          | Sequential              | 66.7 K\n",
      "6  | pos_encoder          | Summer                  | 0     \n",
      "7  | _encoder_layer       | TransformerEncoderLayer | 1.3 M \n",
      "8  | _transformer_encoder | TransformerEncoder      | 2.6 M \n",
      "9  | _over_mlp            | Sequential              | 34.2 K\n",
      "10 | loss                 | MSELoss                 | 0     \n",
      "------------------------------------------------------------------\n",
      "4.1 M     Trainable params\n",
      "0         Non-trainable params\n",
      "4.1 M     Total params\n",
      "16.217    Total estimated model params size (MB)\n"
     ]
    },
    {
     "name": "stdout",
     "output_type": "stream",
     "text": [
      "Adjusting learning rate of group 0 to 1.0000e-02.\n"
     ]
    },
    {
     "name": "stderr",
     "output_type": "stream",
     "text": [
      "/home/zyan/miniconda3/envs/pytorch/lib/python3.10/site-packages/pytorch_lightning/trainer/connectors/data_connector.py:430: PossibleUserWarning: The dataloader, train_dataloader, does not have many workers which may be a bottleneck. Consider increasing the value of the `num_workers` argument` (try 32 which is the number of cpus on this machine) in the `DataLoader` init to improve performance.\n",
      "  rank_zero_warn(\n"
     ]
    },
    {
     "data": {
      "application/vnd.jupyter.widget-view+json": {
       "model_id": "585006002ad849f6b82daee933722fbc",
       "version_major": 2,
       "version_minor": 0
      },
      "text/plain": [
       "Training: 0it [00:00, ?it/s]"
      ]
     },
     "metadata": {},
     "output_type": "display_data"
    },
    {
     "name": "stdout",
     "output_type": "stream",
     "text": [
      "Adjusting learning rate of group 0 to 9.5000e-03.\n"
     ]
    },
    {
     "name": "stderr",
     "output_type": "stream",
     "text": [
      "`Trainer.fit` stopped: `max_epochs=2` reached.\n"
     ]
    },
    {
     "name": "stdout",
     "output_type": "stream",
     "text": [
      "Adjusting learning rate of group 0 to 9.0250e-03.\n"
     ]
    }
   ],
   "source": [
    "lr_monitor = LearningRateMonitor(logging_interval=\"epoch\")\n",
    "trainer = pl.Trainer(\n",
    "    max_epochs=2,\n",
    "    callbacks=[lr_monitor],\n",
    "    logger=TensorBoardLogger(\"tb_logs\", name=\"my_model\"),\n",
    "    accelerator=\"gpu\",  # accelerator=\"gpu\",\n",
    ")\n",
    "trainer.fit(module, DataLoader(shuffled_train_dataset, batch_size=1024))"
   ]
  },
  {
   "cell_type": "code",
   "execution_count": 191,
   "id": "d35e1634",
   "metadata": {},
   "outputs": [
    {
     "name": "stderr",
     "output_type": "stream",
     "text": [
      "You are using a CUDA device ('NVIDIA Graphics Device') that has Tensor Cores. To properly utilize them, you should set `torch.set_float32_matmul_precision('medium' | 'high')` which will trade-off precision for performance. For more details, read https://pytorch.org/docs/stable/generated/torch.set_float32_matmul_precision.html#torch.set_float32_matmul_precision\n",
      "LOCAL_RANK: 0 - CUDA_VISIBLE_DEVICES: [0]\n",
      "/home/zyan/miniconda3/envs/pytorch/lib/python3.10/site-packages/pytorch_lightning/trainer/connectors/data_connector.py:430: PossibleUserWarning: The dataloader, predict_dataloader, does not have many workers which may be a bottleneck. Consider increasing the value of the `num_workers` argument` (try 32 which is the number of cpus on this machine) in the `DataLoader` init to improve performance.\n",
      "  rank_zero_warn(\n"
     ]
    },
    {
     "data": {
      "application/vnd.jupyter.widget-view+json": {
       "model_id": "d814fba6e09d4ab3a3d42459201e2f49",
       "version_major": 2,
       "version_minor": 0
      },
      "text/plain": [
       "Predicting: 0it [00:00, ?it/s]"
      ]
     },
     "metadata": {},
     "output_type": "display_data"
    }
   ],
   "source": [
    "res = trainer.predict(module, DataLoader(shuffled_test_dataset, batch_size=1024))"
   ]
  },
  {
   "cell_type": "code",
   "execution_count": 192,
   "id": "0f441702-1f55-439f-8ed9-fab233ff7785",
   "metadata": {
    "colab": {
     "base_uri": "https://localhost:8080/"
    },
    "id": "0f441702-1f55-439f-8ed9-fab233ff7785",
    "outputId": "ba855b5f-2b69-42e9-bb58-bca24b5b9e3b"
   },
   "outputs": [
    {
     "name": "stdout",
     "output_type": "stream",
     "text": [
      "RMSE Score on Transformer Test set: 0.915\n",
      "MAE Score on Transformer Test set: 0.397\n",
      "MAPE Score on Transformer Test set: 13.683\n",
      "RMSE Score on Transformer Test set: 0.901\n",
      "MAE Score on Transformer Test set: 0.396\n",
      "MAPE Score on Transformer Test set: 8.336\n"
     ]
    }
   ],
   "source": [
    "from sklearn.metrics import mean_absolute_error, mean_absolute_percentage_error\n",
    "from sklearn.metrics import mean_squared_error as mse\n",
    "from sklearn.metrics import r2_score\n",
    "\n",
    "mses = []\n",
    "maes = []\n",
    "mapes = []\n",
    "\n",
    "start, end = 0, 1\n",
    "\n",
    "for r in res:\n",
    "    pred, test = r\n",
    "    mses.append(np.sqrt(mse(pred[:, start:end], test[:, start:end])))\n",
    "    maes.append(mean_absolute_error(pred[:, start:end], test[:, start:end]))\n",
    "    mapes.append(mean_absolute_percentage_error(pred[:, start:end], test[:, start:end]))\n",
    "\n",
    "print(f\"RMSE Score on Transformer Test set: {sum(mses)/len(mses):0.3f}\")\n",
    "print(f\"MAE Score on Transformer Test set: {sum(maes)/len(maes):0.3f}\")\n",
    "print(f\"MAPE Score on Transformer Test set: {sum(mapes)/len(mapes):0.3f}\")\n",
    "\n",
    "mses.sort()\n",
    "maes.sort()\n",
    "mapes.sort()\n",
    "\n",
    "print(f\"RMSE Score on Transformer Test set: {mses[len(mses)//2]:0.3f}\")\n",
    "print(f\"MAE Score on Transformer Test set: {maes[len(maes)//2]:0.3f}\")\n",
    "print(f\"MAPE Score on Transformer Test set: {mapes[len(mapes)//2]:0.3f}\")"
   ]
  },
  {
   "cell_type": "code",
   "execution_count": 174,
   "id": "fd8b249b",
   "metadata": {},
   "outputs": [
    {
     "ename": "SyntaxError",
     "evalue": "invalid syntax (4036929209.py, line 1)",
     "output_type": "error",
     "traceback": [
      "\u001b[0;36m  Cell \u001b[0;32mIn[174], line 1\u001b[0;36m\u001b[0m\n\u001b[0;31m    RMSE Score on Transformer Test set: 0.580\u001b[0m\n\u001b[0m         ^\u001b[0m\n\u001b[0;31mSyntaxError\u001b[0m\u001b[0;31m:\u001b[0m invalid syntax\n"
     ]
    }
   ],
   "source": [
    "RMSE Score on Transformer Test set: 0.580\n",
    "MAE Score on Transformer Test set: 0.197\n",
    "MAPE Score on Transformer Test set: 2.371"
   ]
  },
  {
   "cell_type": "markdown",
   "id": "624307f0-0bf4-4216-960b-6fa2ef9ea3ea",
   "metadata": {
    "id": "624307f0-0bf4-4216-960b-6fa2ef9ea3ea"
   },
   "source": [
    "## Trading"
   ]
  },
  {
   "cell_type": "code",
   "execution_count": null,
   "id": "67741384-f053-4a9d-8fd6-3eadc216bc07",
   "metadata": {
    "id": "67741384-f053-4a9d-8fd6-3eadc216bc07",
    "tags": []
   },
   "outputs": [],
   "source": [
    "# baseline: buy at at 9pm - 9am, sell at 9am - 9pm\n",
    "\n",
    "balance = 0.0\n",
    "charged = 0.0\n",
    "naive_dts = []\n",
    "naive_balances = []\n",
    "naive_remainings = []\n",
    "\n",
    "CAPACITY = 13.3\n",
    "CHARGE_SPEED = 3.3\n",
    "\n",
    "price_list: List[float] = []\n",
    "month_list: List[int] = []\n",
    "hour_list: List[int] = []\n",
    "weekday_list: List[int] = []\n",
    "\n",
    "\n",
    "pbar = tqdm(df.iterrows())\n",
    "for index, row in pbar:\n",
    "    price = float(row[\"VALUE\"])\n",
    "    price_list.append(float(row[\"VALUE\"]))\n",
    "    curt_dt = datetime.strptime(\n",
    "        row[\"INTERVALSTARTTIME_GMT\"], \"%Y-%m-%dT%H:%M:00-00:00\"\n",
    "    ) + timedelta(hours=8)\n",
    "    month_list.append(curt_dt.month - 1)\n",
    "    hour_list.append(curt_dt.hour)\n",
    "    weekday_list.append(curt_dt.weekday())\n",
    "\n",
    "    if curt_dt.year != 2022:\n",
    "        if curt_dt.hour == 0:\n",
    "            pbar.set_description(f\"{curt_dt}\")\n",
    "        continue\n",
    "\n",
    "    # trade at minute 0\n",
    "    if curt_dt.minute == 0:\n",
    "        naive_dts.append(curt_dt)\n",
    "        naive_balances.append(balance)\n",
    "        naive_remainings.append(charged)\n",
    "\n",
    "        if curt_dt.hour >= 9 and curt_dt.hour < 21:\n",
    "            if charged > 0:\n",
    "                balance += price * (CAPACITY / 12)\n",
    "                charged -= CAPACITY / 12\n",
    "        else:\n",
    "            if charged < CAPACITY:\n",
    "                balance -= price * (CAPACITY / 12)\n",
    "                charged += CAPACITY / 12\n",
    "\n",
    "        if curt_dt.hour == 0:\n",
    "            pbar.set_description(f\"{curt_dt} {balance}\")"
   ]
  },
  {
   "cell_type": "code",
   "execution_count": null,
   "id": "f1251ed6-382c-4944-9dea-a3c504ea664d",
   "metadata": {
    "id": "f1251ed6-382c-4944-9dea-a3c504ea664d",
    "outputId": "af63484b-7bc5-4c97-b1e2-2780f3d2f7b3"
   },
   "outputs": [
    {
     "data": {
      "image/png": "[encoded data removed]",
      "text/plain": [
       "<Figure size 640x480 with 1 Axes>"
      ]
     },
     "metadata": {},
     "output_type": "display_data"
    }
   ],
   "source": [
    "import matplotlib.pyplot as plt\n",
    "\n",
    "plt.plot(dts, balances, label=\"ML\")\n",
    "plt.plot(naive_dts, naive_balances, label=\"Naive\")\n",
    "plt.xlabel(\"Date\")\n",
    "plt.xticks(rotation=30)\n",
    "plt.ylabel(\"Balance\")\n",
    "plt.legend()\n",
    "plt.show()"
   ]
  },
  {
   "cell_type": "markdown",
   "id": "fc8b39a0",
   "metadata": {
    "id": "c7d55b77-cbfe-467f-b382-dddc7436a7b5"
   },
   "source": [
    "## Reinforcement Learning"
   ]
  },
  {
   "cell_type": "code",
   "execution_count": 1,
   "id": "e80031b0",
   "metadata": {
    "tags": []
   },
   "outputs": [],
   "source": [
    "import gymnasium as gym\n",
    "import numpy as np\n",
    "import pandas as pd\n",
    "from gym import spaces\n",
    "\n",
    "\n",
    "class TimeSeriesForecastingEnv(gym.Env):\n",
    "    def __init__(self, dataset, window_size, categorical_columns, numerical_columns):\n",
    "        super(TimeSeriesForecastingEnv, self).__init__()\n",
    "\n",
    "        self.dataset = dataset\n",
    "        self.window_size = window_size\n",
    "        self.categorical_columns = categorical_columns\n",
    "        self.numerical_columns = numerical_columns\n",
    "        self.current_step = 0\n",
    "\n",
    "        self.action_space = spaces.Discrete(3)  # Buy, hold, sell\n",
    "        self.observation_space = spaces.Box(\n",
    "            low=0,\n",
    "            high=1,\n",
    "            shape=(window_size, len(categorical_columns + numerical_columns)),\n",
    "            dtype=np.float32,\n",
    "        )\n",
    "\n",
    "    def _get_observation(self):\n",
    "        return self.dataset[self.current_step : self.current_step + self.window_size]\n",
    "\n",
    "    def step(self, action):\n",
    "        self.current_step += 1\n",
    "\n",
    "        observation = self._get_observation()\n",
    "        done = self.current_step >= len(self.dataset) - self.window_size\n",
    "        reward = 0  # Replace this with a suitable reward function for your problem\n",
    "\n",
    "        return observation, reward, done, {}\n",
    "\n",
    "    def reset(self):\n",
    "        self.current_step = 0\n",
    "        return self._get_observation()"
   ]
  },
  {
   "cell_type": "code",
   "execution_count": 2,
   "id": "8b670b11-f216-47d5-ad4c-acee41dbb123",
   "metadata": {
    "tags": []
   },
   "outputs": [
    {
     "ename": "FileNotFoundError",
     "evalue": "[Errno 2] No such file or directory: 'your_dataset.csv'",
     "output_type": "error",
     "traceback": [
      "\u001b[0;31m---------------------------------------------------------------------------\u001b[0m",
      "\u001b[0;31mFileNotFoundError\u001b[0m                         Traceback (most recent call last)",
      "Cell \u001b[0;32mIn[2], line 6\u001b[0m\n\u001b[1;32m      3\u001b[0m \u001b[38;5;28;01mfrom\u001b[39;00m \u001b[38;5;21;01mstable_baselines3\u001b[39;00m\u001b[38;5;21;01m.\u001b[39;00m\u001b[38;5;21;01mcommon\u001b[39;00m\u001b[38;5;21;01m.\u001b[39;00m\u001b[38;5;21;01mvec_env\u001b[39;00m \u001b[38;5;28;01mimport\u001b[39;00m DummyVecEnv\n\u001b[1;32m      5\u001b[0m \u001b[38;5;66;03m# Load and preprocess your dataset\u001b[39;00m\n\u001b[0;32m----> 6\u001b[0m data \u001b[38;5;241m=\u001b[39m \u001b[43mpd\u001b[49m\u001b[38;5;241;43m.\u001b[39;49m\u001b[43mread_csv\u001b[49m\u001b[43m(\u001b[49m\u001b[38;5;124;43m'\u001b[39;49m\u001b[38;5;124;43myour_dataset.csv\u001b[39;49m\u001b[38;5;124;43m'\u001b[39;49m\u001b[43m)\u001b[49m\n\u001b[1;32m      7\u001b[0m categorical_columns \u001b[38;5;241m=\u001b[39m [\u001b[38;5;124m'\u001b[39m\u001b[38;5;124mcat_col1\u001b[39m\u001b[38;5;124m'\u001b[39m, \u001b[38;5;124m'\u001b[39m\u001b[38;5;124mcat_col2\u001b[39m\u001b[38;5;124m'\u001b[39m]\n\u001b[1;32m      8\u001b[0m numerical_columns \u001b[38;5;241m=\u001b[39m [\u001b[38;5;124m'\u001b[39m\u001b[38;5;124mnum_col1\u001b[39m\u001b[38;5;124m'\u001b[39m, \u001b[38;5;124m'\u001b[39m\u001b[38;5;124mnum_col2\u001b[39m\u001b[38;5;124m'\u001b[39m]\n",
      "File \u001b[0;32m~/miniconda3/envs/pytorch/lib/python3.10/site-packages/pandas/util/_decorators.py:211\u001b[0m, in \u001b[0;36mdeprecate_kwarg.<locals>._deprecate_kwarg.<locals>.wrapper\u001b[0;34m(*args, **kwargs)\u001b[0m\n\u001b[1;32m    209\u001b[0m     \u001b[38;5;28;01melse\u001b[39;00m:\n\u001b[1;32m    210\u001b[0m         kwargs[new_arg_name] \u001b[38;5;241m=\u001b[39m new_arg_value\n\u001b[0;32m--> 211\u001b[0m \u001b[38;5;28;01mreturn\u001b[39;00m \u001b[43mfunc\u001b[49m\u001b[43m(\u001b[49m\u001b[38;5;241;43m*\u001b[39;49m\u001b[43margs\u001b[49m\u001b[43m,\u001b[49m\u001b[43m \u001b[49m\u001b[38;5;241;43m*\u001b[39;49m\u001b[38;5;241;43m*\u001b[39;49m\u001b[43mkwargs\u001b[49m\u001b[43m)\u001b[49m\n",
      "File \u001b[0;32m~/miniconda3/envs/pytorch/lib/python3.10/site-packages/pandas/util/_decorators.py:331\u001b[0m, in \u001b[0;36mdeprecate_nonkeyword_arguments.<locals>.decorate.<locals>.wrapper\u001b[0;34m(*args, **kwargs)\u001b[0m\n\u001b[1;32m    325\u001b[0m \u001b[38;5;28;01mif\u001b[39;00m \u001b[38;5;28mlen\u001b[39m(args) \u001b[38;5;241m>\u001b[39m num_allow_args:\n\u001b[1;32m    326\u001b[0m     warnings\u001b[38;5;241m.\u001b[39mwarn(\n\u001b[1;32m    327\u001b[0m         msg\u001b[38;5;241m.\u001b[39mformat(arguments\u001b[38;5;241m=\u001b[39m_format_argument_list(allow_args)),\n\u001b[1;32m    328\u001b[0m         \u001b[38;5;167;01mFutureWarning\u001b[39;00m,\n\u001b[1;32m    329\u001b[0m         stacklevel\u001b[38;5;241m=\u001b[39mfind_stack_level(),\n\u001b[1;32m    330\u001b[0m     )\n\u001b[0;32m--> 331\u001b[0m \u001b[38;5;28;01mreturn\u001b[39;00m \u001b[43mfunc\u001b[49m\u001b[43m(\u001b[49m\u001b[38;5;241;43m*\u001b[39;49m\u001b[43margs\u001b[49m\u001b[43m,\u001b[49m\u001b[43m \u001b[49m\u001b[38;5;241;43m*\u001b[39;49m\u001b[38;5;241;43m*\u001b[39;49m\u001b[43mkwargs\u001b[49m\u001b[43m)\u001b[49m\n",
      "File \u001b[0;32m~/miniconda3/envs/pytorch/lib/python3.10/site-packages/pandas/io/parsers/readers.py:950\u001b[0m, in \u001b[0;36mread_csv\u001b[0;34m(filepath_or_buffer, sep, delimiter, header, names, index_col, usecols, squeeze, prefix, mangle_dupe_cols, dtype, engine, converters, true_values, false_values, skipinitialspace, skiprows, skipfooter, nrows, na_values, keep_default_na, na_filter, verbose, skip_blank_lines, parse_dates, infer_datetime_format, keep_date_col, date_parser, dayfirst, cache_dates, iterator, chunksize, compression, thousands, decimal, lineterminator, quotechar, quoting, doublequote, escapechar, comment, encoding, encoding_errors, dialect, error_bad_lines, warn_bad_lines, on_bad_lines, delim_whitespace, low_memory, memory_map, float_precision, storage_options)\u001b[0m\n\u001b[1;32m    935\u001b[0m kwds_defaults \u001b[38;5;241m=\u001b[39m _refine_defaults_read(\n\u001b[1;32m    936\u001b[0m     dialect,\n\u001b[1;32m    937\u001b[0m     delimiter,\n\u001b[0;32m   (...)\u001b[0m\n\u001b[1;32m    946\u001b[0m     defaults\u001b[38;5;241m=\u001b[39m{\u001b[38;5;124m\"\u001b[39m\u001b[38;5;124mdelimiter\u001b[39m\u001b[38;5;124m\"\u001b[39m: \u001b[38;5;124m\"\u001b[39m\u001b[38;5;124m,\u001b[39m\u001b[38;5;124m\"\u001b[39m},\n\u001b[1;32m    947\u001b[0m )\n\u001b[1;32m    948\u001b[0m kwds\u001b[38;5;241m.\u001b[39mupdate(kwds_defaults)\n\u001b[0;32m--> 950\u001b[0m \u001b[38;5;28;01mreturn\u001b[39;00m \u001b[43m_read\u001b[49m\u001b[43m(\u001b[49m\u001b[43mfilepath_or_buffer\u001b[49m\u001b[43m,\u001b[49m\u001b[43m \u001b[49m\u001b[43mkwds\u001b[49m\u001b[43m)\u001b[49m\n",
      "File \u001b[0;32m~/miniconda3/envs/pytorch/lib/python3.10/site-packages/pandas/io/parsers/readers.py:605\u001b[0m, in \u001b[0;36m_read\u001b[0;34m(filepath_or_buffer, kwds)\u001b[0m\n\u001b[1;32m    602\u001b[0m _validate_names(kwds\u001b[38;5;241m.\u001b[39mget(\u001b[38;5;124m\"\u001b[39m\u001b[38;5;124mnames\u001b[39m\u001b[38;5;124m\"\u001b[39m, \u001b[38;5;28;01mNone\u001b[39;00m))\n\u001b[1;32m    604\u001b[0m \u001b[38;5;66;03m# Create the parser.\u001b[39;00m\n\u001b[0;32m--> 605\u001b[0m parser \u001b[38;5;241m=\u001b[39m \u001b[43mTextFileReader\u001b[49m\u001b[43m(\u001b[49m\u001b[43mfilepath_or_buffer\u001b[49m\u001b[43m,\u001b[49m\u001b[43m \u001b[49m\u001b[38;5;241;43m*\u001b[39;49m\u001b[38;5;241;43m*\u001b[39;49m\u001b[43mkwds\u001b[49m\u001b[43m)\u001b[49m\n\u001b[1;32m    607\u001b[0m \u001b[38;5;28;01mif\u001b[39;00m chunksize \u001b[38;5;129;01mor\u001b[39;00m iterator:\n\u001b[1;32m    608\u001b[0m     \u001b[38;5;28;01mreturn\u001b[39;00m parser\n",
      "File \u001b[0;32m~/miniconda3/envs/pytorch/lib/python3.10/site-packages/pandas/io/parsers/readers.py:1442\u001b[0m, in \u001b[0;36mTextFileReader.__init__\u001b[0;34m(self, f, engine, **kwds)\u001b[0m\n\u001b[1;32m   1439\u001b[0m     \u001b[38;5;28mself\u001b[39m\u001b[38;5;241m.\u001b[39moptions[\u001b[38;5;124m\"\u001b[39m\u001b[38;5;124mhas_index_names\u001b[39m\u001b[38;5;124m\"\u001b[39m] \u001b[38;5;241m=\u001b[39m kwds[\u001b[38;5;124m\"\u001b[39m\u001b[38;5;124mhas_index_names\u001b[39m\u001b[38;5;124m\"\u001b[39m]\n\u001b[1;32m   1441\u001b[0m \u001b[38;5;28mself\u001b[39m\u001b[38;5;241m.\u001b[39mhandles: IOHandles \u001b[38;5;241m|\u001b[39m \u001b[38;5;28;01mNone\u001b[39;00m \u001b[38;5;241m=\u001b[39m \u001b[38;5;28;01mNone\u001b[39;00m\n\u001b[0;32m-> 1442\u001b[0m \u001b[38;5;28mself\u001b[39m\u001b[38;5;241m.\u001b[39m_engine \u001b[38;5;241m=\u001b[39m \u001b[38;5;28;43mself\u001b[39;49m\u001b[38;5;241;43m.\u001b[39;49m\u001b[43m_make_engine\u001b[49m\u001b[43m(\u001b[49m\u001b[43mf\u001b[49m\u001b[43m,\u001b[49m\u001b[43m \u001b[49m\u001b[38;5;28;43mself\u001b[39;49m\u001b[38;5;241;43m.\u001b[39;49m\u001b[43mengine\u001b[49m\u001b[43m)\u001b[49m\n",
      "File \u001b[0;32m~/miniconda3/envs/pytorch/lib/python3.10/site-packages/pandas/io/parsers/readers.py:1735\u001b[0m, in \u001b[0;36mTextFileReader._make_engine\u001b[0;34m(self, f, engine)\u001b[0m\n\u001b[1;32m   1733\u001b[0m     \u001b[38;5;28;01mif\u001b[39;00m \u001b[38;5;124m\"\u001b[39m\u001b[38;5;124mb\u001b[39m\u001b[38;5;124m\"\u001b[39m \u001b[38;5;129;01mnot\u001b[39;00m \u001b[38;5;129;01min\u001b[39;00m mode:\n\u001b[1;32m   1734\u001b[0m         mode \u001b[38;5;241m+\u001b[39m\u001b[38;5;241m=\u001b[39m \u001b[38;5;124m\"\u001b[39m\u001b[38;5;124mb\u001b[39m\u001b[38;5;124m\"\u001b[39m\n\u001b[0;32m-> 1735\u001b[0m \u001b[38;5;28mself\u001b[39m\u001b[38;5;241m.\u001b[39mhandles \u001b[38;5;241m=\u001b[39m \u001b[43mget_handle\u001b[49m\u001b[43m(\u001b[49m\n\u001b[1;32m   1736\u001b[0m \u001b[43m    \u001b[49m\u001b[43mf\u001b[49m\u001b[43m,\u001b[49m\n\u001b[1;32m   1737\u001b[0m \u001b[43m    \u001b[49m\u001b[43mmode\u001b[49m\u001b[43m,\u001b[49m\n\u001b[1;32m   1738\u001b[0m \u001b[43m    \u001b[49m\u001b[43mencoding\u001b[49m\u001b[38;5;241;43m=\u001b[39;49m\u001b[38;5;28;43mself\u001b[39;49m\u001b[38;5;241;43m.\u001b[39;49m\u001b[43moptions\u001b[49m\u001b[38;5;241;43m.\u001b[39;49m\u001b[43mget\u001b[49m\u001b[43m(\u001b[49m\u001b[38;5;124;43m\"\u001b[39;49m\u001b[38;5;124;43mencoding\u001b[39;49m\u001b[38;5;124;43m\"\u001b[39;49m\u001b[43m,\u001b[49m\u001b[43m \u001b[49m\u001b[38;5;28;43;01mNone\u001b[39;49;00m\u001b[43m)\u001b[49m\u001b[43m,\u001b[49m\n\u001b[1;32m   1739\u001b[0m \u001b[43m    \u001b[49m\u001b[43mcompression\u001b[49m\u001b[38;5;241;43m=\u001b[39;49m\u001b[38;5;28;43mself\u001b[39;49m\u001b[38;5;241;43m.\u001b[39;49m\u001b[43moptions\u001b[49m\u001b[38;5;241;43m.\u001b[39;49m\u001b[43mget\u001b[49m\u001b[43m(\u001b[49m\u001b[38;5;124;43m\"\u001b[39;49m\u001b[38;5;124;43mcompression\u001b[39;49m\u001b[38;5;124;43m\"\u001b[39;49m\u001b[43m,\u001b[49m\u001b[43m \u001b[49m\u001b[38;5;28;43;01mNone\u001b[39;49;00m\u001b[43m)\u001b[49m\u001b[43m,\u001b[49m\n\u001b[1;32m   1740\u001b[0m \u001b[43m    \u001b[49m\u001b[43mmemory_map\u001b[49m\u001b[38;5;241;43m=\u001b[39;49m\u001b[38;5;28;43mself\u001b[39;49m\u001b[38;5;241;43m.\u001b[39;49m\u001b[43moptions\u001b[49m\u001b[38;5;241;43m.\u001b[39;49m\u001b[43mget\u001b[49m\u001b[43m(\u001b[49m\u001b[38;5;124;43m\"\u001b[39;49m\u001b[38;5;124;43mmemory_map\u001b[39;49m\u001b[38;5;124;43m\"\u001b[39;49m\u001b[43m,\u001b[49m\u001b[43m \u001b[49m\u001b[38;5;28;43;01mFalse\u001b[39;49;00m\u001b[43m)\u001b[49m\u001b[43m,\u001b[49m\n\u001b[1;32m   1741\u001b[0m \u001b[43m    \u001b[49m\u001b[43mis_text\u001b[49m\u001b[38;5;241;43m=\u001b[39;49m\u001b[43mis_text\u001b[49m\u001b[43m,\u001b[49m\n\u001b[1;32m   1742\u001b[0m \u001b[43m    \u001b[49m\u001b[43merrors\u001b[49m\u001b[38;5;241;43m=\u001b[39;49m\u001b[38;5;28;43mself\u001b[39;49m\u001b[38;5;241;43m.\u001b[39;49m\u001b[43moptions\u001b[49m\u001b[38;5;241;43m.\u001b[39;49m\u001b[43mget\u001b[49m\u001b[43m(\u001b[49m\u001b[38;5;124;43m\"\u001b[39;49m\u001b[38;5;124;43mencoding_errors\u001b[39;49m\u001b[38;5;124;43m\"\u001b[39;49m\u001b[43m,\u001b[49m\u001b[43m \u001b[49m\u001b[38;5;124;43m\"\u001b[39;49m\u001b[38;5;124;43mstrict\u001b[39;49m\u001b[38;5;124;43m\"\u001b[39;49m\u001b[43m)\u001b[49m\u001b[43m,\u001b[49m\n\u001b[1;32m   1743\u001b[0m \u001b[43m    \u001b[49m\u001b[43mstorage_options\u001b[49m\u001b[38;5;241;43m=\u001b[39;49m\u001b[38;5;28;43mself\u001b[39;49m\u001b[38;5;241;43m.\u001b[39;49m\u001b[43moptions\u001b[49m\u001b[38;5;241;43m.\u001b[39;49m\u001b[43mget\u001b[49m\u001b[43m(\u001b[49m\u001b[38;5;124;43m\"\u001b[39;49m\u001b[38;5;124;43mstorage_options\u001b[39;49m\u001b[38;5;124;43m\"\u001b[39;49m\u001b[43m,\u001b[49m\u001b[43m \u001b[49m\u001b[38;5;28;43;01mNone\u001b[39;49;00m\u001b[43m)\u001b[49m\u001b[43m,\u001b[49m\n\u001b[1;32m   1744\u001b[0m \u001b[43m\u001b[49m\u001b[43m)\u001b[49m\n\u001b[1;32m   1745\u001b[0m \u001b[38;5;28;01massert\u001b[39;00m \u001b[38;5;28mself\u001b[39m\u001b[38;5;241m.\u001b[39mhandles \u001b[38;5;129;01mis\u001b[39;00m \u001b[38;5;129;01mnot\u001b[39;00m \u001b[38;5;28;01mNone\u001b[39;00m\n\u001b[1;32m   1746\u001b[0m f \u001b[38;5;241m=\u001b[39m \u001b[38;5;28mself\u001b[39m\u001b[38;5;241m.\u001b[39mhandles\u001b[38;5;241m.\u001b[39mhandle\n",
      "File \u001b[0;32m~/miniconda3/envs/pytorch/lib/python3.10/site-packages/pandas/io/common.py:856\u001b[0m, in \u001b[0;36mget_handle\u001b[0;34m(path_or_buf, mode, encoding, compression, memory_map, is_text, errors, storage_options)\u001b[0m\n\u001b[1;32m    851\u001b[0m \u001b[38;5;28;01melif\u001b[39;00m \u001b[38;5;28misinstance\u001b[39m(handle, \u001b[38;5;28mstr\u001b[39m):\n\u001b[1;32m    852\u001b[0m     \u001b[38;5;66;03m# Check whether the filename is to be opened in binary mode.\u001b[39;00m\n\u001b[1;32m    853\u001b[0m     \u001b[38;5;66;03m# Binary mode does not support 'encoding' and 'newline'.\u001b[39;00m\n\u001b[1;32m    854\u001b[0m     \u001b[38;5;28;01mif\u001b[39;00m ioargs\u001b[38;5;241m.\u001b[39mencoding \u001b[38;5;129;01mand\u001b[39;00m \u001b[38;5;124m\"\u001b[39m\u001b[38;5;124mb\u001b[39m\u001b[38;5;124m\"\u001b[39m \u001b[38;5;129;01mnot\u001b[39;00m \u001b[38;5;129;01min\u001b[39;00m ioargs\u001b[38;5;241m.\u001b[39mmode:\n\u001b[1;32m    855\u001b[0m         \u001b[38;5;66;03m# Encoding\u001b[39;00m\n\u001b[0;32m--> 856\u001b[0m         handle \u001b[38;5;241m=\u001b[39m \u001b[38;5;28;43mopen\u001b[39;49m\u001b[43m(\u001b[49m\n\u001b[1;32m    857\u001b[0m \u001b[43m            \u001b[49m\u001b[43mhandle\u001b[49m\u001b[43m,\u001b[49m\n\u001b[1;32m    858\u001b[0m \u001b[43m            \u001b[49m\u001b[43mioargs\u001b[49m\u001b[38;5;241;43m.\u001b[39;49m\u001b[43mmode\u001b[49m\u001b[43m,\u001b[49m\n\u001b[1;32m    859\u001b[0m \u001b[43m            \u001b[49m\u001b[43mencoding\u001b[49m\u001b[38;5;241;43m=\u001b[39;49m\u001b[43mioargs\u001b[49m\u001b[38;5;241;43m.\u001b[39;49m\u001b[43mencoding\u001b[49m\u001b[43m,\u001b[49m\n\u001b[1;32m    860\u001b[0m \u001b[43m            \u001b[49m\u001b[43merrors\u001b[49m\u001b[38;5;241;43m=\u001b[39;49m\u001b[43merrors\u001b[49m\u001b[43m,\u001b[49m\n\u001b[1;32m    861\u001b[0m \u001b[43m            \u001b[49m\u001b[43mnewline\u001b[49m\u001b[38;5;241;43m=\u001b[39;49m\u001b[38;5;124;43m\"\u001b[39;49m\u001b[38;5;124;43m\"\u001b[39;49m\u001b[43m,\u001b[49m\n\u001b[1;32m    862\u001b[0m \u001b[43m        \u001b[49m\u001b[43m)\u001b[49m\n\u001b[1;32m    863\u001b[0m     \u001b[38;5;28;01melse\u001b[39;00m:\n\u001b[1;32m    864\u001b[0m         \u001b[38;5;66;03m# Binary mode\u001b[39;00m\n\u001b[1;32m    865\u001b[0m         handle \u001b[38;5;241m=\u001b[39m \u001b[38;5;28mopen\u001b[39m(handle, ioargs\u001b[38;5;241m.\u001b[39mmode)\n",
      "\u001b[0;31mFileNotFoundError\u001b[0m: [Errno 2] No such file or directory: 'your_dataset.csv'"
     ]
    }
   ],
   "source": [
    "import pandas as pd\n",
    "from stable_baselines3 import PPO\n",
    "from stable_baselines3.common.vec_env import DummyVecEnv\n",
    "\n",
    "# Load and preprocess your dataset\n",
    "data = pd.read_csv(\"your_dataset.csv\")\n",
    "categorical_columns = [\"cat_col1\", \"cat_col2\"]\n",
    "numerical_columns = [\"num_col1\", \"num_col2\"]\n",
    "window_size = 10\n",
    "\n",
    "# Preprocess your data (normalize, encode categorical variables, etc.)\n",
    "# ...\n",
    "\n",
    "env = TimeSeriesForecastingEnv(\n",
    "    data, window_size, categorical_columns, numerical_columns\n",
    ")\n",
    "env = DummyVecEnv([lambda: env])  # PPO requires a vectorized environment\n",
    "\n",
    "model = PPO(\"MlpPolicy\", env, verbose=1)\n",
    "model.learn(total_timesteps=20000)"
   ]
  },
  {
   "cell_type": "code",
   "execution_count": 3,
   "id": "f15ce671-8f18-4ac4-aa5d-1ee8fbb417d2",
   "metadata": {
    "tags": []
   },
   "outputs": [
    {
     "ename": "NameError",
     "evalue": "name 'model' is not defined",
     "output_type": "error",
     "traceback": [
      "\u001b[0;31m---------------------------------------------------------------------------\u001b[0m",
      "\u001b[0;31mNameError\u001b[0m                                 Traceback (most recent call last)",
      "Cell \u001b[0;32mIn[3], line 11\u001b[0m\n\u001b[1;32m      7\u001b[0m         predictions\u001b[38;5;241m.\u001b[39mappend(action)\n\u001b[1;32m      9\u001b[0m     \u001b[38;5;28;01mreturn\u001b[39;00m predictions\n\u001b[0;32m---> 11\u001b[0m predictions \u001b[38;5;241m=\u001b[39m predict(\u001b[43mmodel\u001b[49m, data, window_size)\n",
      "\u001b[0;31mNameError\u001b[0m: name 'model' is not defined"
     ]
    }
   ],
   "source": [
    "def predict(model, data, window_size):\n",
    "    predictions = []\n",
    "\n",
    "    for i in range(len(data) - window_size):\n",
    "        obs = data[i : i + window_size]\n",
    "        action, _ = model.predict(obs, deterministic=True)\n",
    "        predictions.append(action)\n",
    "\n",
    "    return predictions\n",
    "\n",
    "\n",
    "predictions = predict(model, data, window_size)"
   ]
  },
  {
   "cell_type": "code",
   "execution_count": null,
   "id": "9edcf0ba-536f-4b43-b7c9-c691f2967fbb",
   "metadata": {},
   "outputs": [],
   "source": []
  }
 ],
 "metadata": {
  "colab": {
   "provenance": []
  },
  "kernelspec": {
   "display_name": "Python 3 (ipykernel)",
   "language": "python",
   "name": "python3"
  },
  "language_info": {
   "codemirror_mode": {
    "name": "ipython",
    "version": 3
   },
   "file_extension": ".py",
   "mimetype": "text/x-python",
   "name": "python",
   "nbconvert_exporter": "python",
   "pygments_lexer": "ipython3",
   "version": "3.10.11"
  }
 },
 "nbformat": 4,
 "nbformat_minor": 5
}
